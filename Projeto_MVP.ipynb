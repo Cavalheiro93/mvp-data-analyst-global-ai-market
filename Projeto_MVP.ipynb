{
  "cells": [
    {
      "cell_type": "markdown",
      "metadata": {
        "id": "view-in-github",
        "colab_type": "text"
      },
      "source": [
        "<a href=\"https://colab.research.google.com/github/Cavalheiro93/mvp-data-analyst-global-ai-market/blob/main/Projeto_MVP.ipynb\" target=\"_parent\"><img src=\"https://colab.research.google.com/assets/colab-badge.svg\" alt=\"Open In Colab\"/></a>"
      ]
    },
    {
      "cell_type": "markdown",
      "metadata": {
        "id": "EihY9Dx9lXP3"
      },
      "source": [
        "# Global AI Job Market & Salary Trends 2025\n",
        "\n",
        "AI Job Market Analysis Dataset 2025. Retrieved from Kaggle.com"
      ]
    },
    {
      "cell_type": "markdown",
      "metadata": {
        "id": "mQKp1v9ggGSO"
      },
      "source": [
        "## 💠Introdução e Definição do Problema\n",
        "\n",
        "Com o grande avanço da Inteligência Artificial, o mercado de trabalho tem passado por transformações significativas em escala global. Novas funções, cargos e áreas de atuação vêm surgindo rapidamente, acompanhadas por uma crescente demanda por profissionais qualificados em diversas especialidades da IA.\n",
        "\n",
        "Essa movimentação tem impulsionado contratações internacionais, promovendo a mobilidade de talentos e o trabalho remoto como tendência. Empresas de diferentes portes e regiões estão disputando profissionais capacitados, o que abre espaço para análises sobre desigualdade salarial, tendências de contratação e habilidades mais requisitadas.\n",
        "\n",
        "Este projeto tem como objetivo analisar as principais tendências do mercado global de trabalho na área de IA — e, se possível, fazer um recorte do cenário brasileiro. Serão investigadas questões como:\n",
        "- Quais áreas de atuação estão em maior crescimento?\n",
        "- Quais regiões estão contratando em maior escala?\n",
        "- Quais são as principais habilidades técnicas exigidas?\n",
        "- Como estão distribuídos os salários globalmente?\n",
        "\n",
        "Algumas premissas e hipóteses:\n",
        "- Países Europeus (principalmente Dinamarca, Suiça ou Suécia) terão os melhores Salários e Benefícios.\n",
        "- Haverão mais vagas nos EUA do que nos demais países\n",
        "- Possivelmente Python e SQL deverá ser a habilidade mais requisitada do mercado.\n",
        "\n",
        "O Dataset está muito bem estrtuturado. Não foi identificado valores duplicados ou mesmo Campos Vazios.\n",
        "\n",
        "Entretanto uma das restrições foi a ausência de dados referente ao Brasil. Possivelmente, para fins comparativos, teremos que buscar uma outra base de dados com dados similares, ou montar nossa propria base\n",
        "\n",
        "A seguir então seguiremos com o nosso estudo, com o propósito de tentar responder todas essas questões com Análise de Dados e boas práticas.\n",
        "\n",
        "O Dataset pode ser encontrado no link abaixo:\n",
        "\n",
        "https://www.kaggle.com/datasets/bismasajjad/global-ai-job-market-and-salary-trends-2025\n",
        "\n",
        "---\n"
      ]
    },
    {
      "cell_type": "markdown",
      "metadata": {
        "id": "y-qcPgd3nUMl"
      },
      "source": [
        "## 💠 Dicionário de Dados - AI Job Dataset\n",
        "\n",
        "| Coluna                  | Descrição (PT-BR)                                                                 | Tipo     |\n",
        "|------------------------|------------------------------------------------------------------------------------|----------|\n",
        "| `job_id`               | Identificador único para cada vaga                                                | String   |\n",
        "| `job_title`            | Título padronizado do cargo                                                       | String   |\n",
        "| `salary_usd`           | Salário anual em dólares (USD)                                                    | Integer  |\n",
        "| `salary_currency`      | Moeda original do salário                                                         | String   |\n",
        "| `experience_level`     | Nível de experiência (EN = Júnior, MI = Pleno, SE = Sênior, EX = Executivo)       | String   |\n",
        "| `employment_type`      | Tipo de contratação (FT = Tempo Integral, PT = Meio Período, CT = Contrato, FL = Freelancer) | String |\n",
        "| `company_location`     | País onde está localizada a empresa                                               | String   |\n",
        "| `company_size`         | Porte da empresa (S = Pequena <50, M = Média 50-250, L = Grande >250)             | String   |\n",
        "| `employee_residence`   | País de residência do funcionário                                                 | String   |\n",
        "| `remote_ratio`         | Nível de trabalho remoto (0 = Presencial, 50 = Híbrido, 100 = Remoto Total)       | Integer  |\n",
        "| `required_skills`      | Top 5 habilidades exigidas (separadas por vírgula)                                | String   |\n",
        "| `education_required`   | Nível mínimo de escolaridade exigido                                              | String   |\n",
        "| `years_experience`     | Anos de experiência exigidos                                                      | Integer  |\n",
        "| `industry`             | Setor de atuação da empresa                                                       | String   |\n",
        "| `posting_date`         | Data em que a vaga foi publicada                                                  | Date     |\n",
        "| `application_deadline`| Prazo final para candidatura                                                      | Date     |\n",
        "| `job_description_length`| Quantidade de caracteres da descrição da vaga                                   | Integer  |\n",
        "| `benefits_score`       | Pontuação numérica do pacote de benefícios (1 a 10)                               | Float    |\n",
        "| `company_name`       | Nome da Empresa                               | String    |"
      ]
    },
    {
      "cell_type": "markdown",
      "metadata": {
        "id": "Ud-GKoBUjPW9"
      },
      "source": [
        "## 🔷 Pré Análise de Dados\n",
        "\n",
        "Nesta etapa, realizaremos uma análise exploratória para entender a estrutura e a qualidade do dataset. Vamos verificar:\n",
        "\n",
        "- O formato e as dimensões da base\n",
        "- Tipos de variáveis\n",
        "- Presença de valores nulos ou discrepantes\n",
        "- Estatísticas descritivas das variáveis numéricas\n",
        "\n",
        "Essas informações serão essenciais para orientar os próximos passos do projeto.\n"
      ]
    },
    {
      "cell_type": "markdown",
      "metadata": {
        "id": "3vczUCPNif2L"
      },
      "source": [
        "### 🔹Importação das bibliotecas e Criação do Dataframe"
      ]
    },
    {
      "cell_type": "code",
      "execution_count": null,
      "metadata": {
        "id": "bz7W1sF2du_-"
      },
      "outputs": [],
      "source": [
        "import pandas as pd\n",
        "from warnings import filterwarnings\n",
        "filterwarnings('ignore')\n",
        "\n",
        "file_path_github = \"https://raw.githubusercontent.com/Cavalheiro93/mvp-data-analyst-global-ai-market/refs/heads/main/source/ai_job_dataset.csv\"\n",
        "\n",
        "df = pd.read_csv(file_path_github, sep=',', encoding='latin1')"
      ]
    },
    {
      "cell_type": "markdown",
      "metadata": {
        "id": "A32W1dbji81S"
      },
      "source": [
        "### 🔹Leitura das 5 primeiras linhas\n",
        "\n",
        "Visualizamos as 5 primeiras linhas para entender a estruturação do Dataset"
      ]
    },
    {
      "cell_type": "code",
      "execution_count": null,
      "metadata": {
        "id": "ssq8RCIYVQa-"
      },
      "outputs": [],
      "source": [
        "df.head()"
      ]
    },
    {
      "cell_type": "markdown",
      "metadata": {
        "id": "gqDU8ofApq0a"
      },
      "source": [
        "### 🔹Análise dos Tipos de Dados"
      ]
    },
    {
      "cell_type": "code",
      "execution_count": null,
      "metadata": {
        "id": "zsOBjOfher0L"
      },
      "outputs": [],
      "source": [
        "df.dtypes"
      ]
    },
    {
      "cell_type": "markdown",
      "metadata": {
        "id": "3rRhvzDbrcSM"
      },
      "source": [
        "Usando a função `df.dtypes`, percebemos que as colunas `posting_date` e `application_deadline` não estavam no formato *date* conforme mencionado no Dicionário de Dados.\n",
        "\n",
        "Faremos o tratamento manualmente a seguir"
      ]
    },
    {
      "cell_type": "markdown",
      "metadata": {
        "id": "t4LaUUazbeyE"
      },
      "source": [
        "## 🔶Pré Tratamento dos Dados com POO\n",
        "\n",
        "Abaixo, faremos um pré tratamento nos dados, apenas para adequar os dados.\n",
        "\n",
        "Para isso, usaremos Orientação a Objetos.\n",
        "\n",
        "Criamos o arquivo `limpeza_dados.py` hospedado no *Github*.\n",
        "\n",
        "Nele Temos a Classe `LimpezaDados`, que possui o atributo *self.caminho_arquivo* necessário para rodar."
      ]
    },
    {
      "cell_type": "markdown",
      "metadata": {
        "id": "9oE0OEMFdvAA"
      },
      "source": [
        "### 🔸Importando nossa Biblioteca criada para limpeza dos dados"
      ]
    },
    {
      "cell_type": "code",
      "execution_count": null,
      "metadata": {
        "id": "cFOUA58FdvAA"
      },
      "outputs": [],
      "source": [
        "# 1. Apaga o arquivo antigo local (se existir)\n",
        "!rm TratamentoDeDados.py\n",
        "\n",
        "# 2. Baixa a nova versão\n",
        "!wget --no-cache https://raw.githubusercontent.com/Cavalheiro93/mvp-data-analyst-global-ai-market/refs/heads/main/TratamentoDeDados.py\n"
      ]
    },
    {
      "cell_type": "markdown",
      "metadata": {
        "id": "otD2c09ldvAA"
      },
      "source": [
        "### 🔸 Limpeza dos dados\n",
        "Com a Classe `LimpezaDados` criada, chamamos a função `executar_pipeline` para executar todas as etapas da limpeza do Dataframe\n",
        "- Carrega os dados\n",
        "- Remove valores nulos, se houver\n",
        "- Remove duplicatas se houver\n",
        "- Converte os campos `posting_date` e `application_deadline` para formato *datetime64*\n",
        "- Transforma os campos `remote_ratio`, `experience_level`, `employment_type` e `company_size` para o formato *category*"
      ]
    },
    {
      "cell_type": "code",
      "execution_count": null,
      "metadata": {
        "id": "ByRux-TgdvAA"
      },
      "outputs": [],
      "source": [
        "# 3. Recarrega o módulo no ambiente Python\n",
        "import importlib\n",
        "import TratamentoDeDados\n",
        "importlib.reload(TratamentoDeDados)\n",
        "from TratamentoDeDados import LimpezaInicialDados\n",
        "\n",
        "df = LimpezaInicialDados(df).executar()"
      ]
    },
    {
      "cell_type": "markdown",
      "metadata": {
        "id": "9sf4HZzvmDqC"
      },
      "source": [
        "### 🔸 Exibição do formato das Colunas"
      ]
    },
    {
      "cell_type": "code",
      "execution_count": null,
      "metadata": {
        "id": "2TWqiTxB8MJI"
      },
      "outputs": [],
      "source": [
        "df[['posting_date', 'application_deadline', 'Start_Month','remote_ratio', 'experience_level', 'employment_type', 'company_size']].dtypes"
      ]
    },
    {
      "cell_type": "markdown",
      "metadata": {
        "id": "xrhi-MJ0dvAB"
      },
      "source": [
        "### 🔸 Reexibição do Dataframe agora Tratado"
      ]
    },
    {
      "cell_type": "code",
      "execution_count": null,
      "metadata": {
        "id": "VtBih6YadvAB"
      },
      "outputs": [],
      "source": [
        "df.head()"
      ]
    },
    {
      "cell_type": "markdown",
      "metadata": {
        "id": "rNOU_v7NyJWa"
      },
      "source": [
        "---"
      ]
    },
    {
      "cell_type": "markdown",
      "metadata": {
        "id": "Jg9egY-Wtbq1"
      },
      "source": [
        "## 🔷 Análise descritiva dos dados\n",
        "\n",
        "A seguir, usaremos a função `df.describe` para exibir informações descritivas de cada uma das colunas, sendo elas:\n",
        "- Contagem de registros\n",
        "- Valores Únicos\n",
        "- Média\n",
        "- Desvio padrão\n",
        "- Quartal\n",
        "- Minimo e Máximo\n",
        "- Valor mais frequente e contagem da frequência"
      ]
    },
    {
      "cell_type": "markdown",
      "metadata": {
        "id": "E7SLV4K_w3OI"
      },
      "source": [
        "### 🔹 Descritiva das colunas tipo Texto"
      ]
    },
    {
      "cell_type": "code",
      "execution_count": null,
      "metadata": {
        "id": "XB9VpAxcv3KR"
      },
      "outputs": [],
      "source": [
        "# Seleciona apenas as colunas do tipo string (object)\n",
        "df.select_dtypes(include='object').describe().transpose()"
      ]
    },
    {
      "cell_type": "markdown",
      "metadata": {
        "id": "QLvAtX_m2MjW"
      },
      "source": [
        "Resumo:\n",
        "- Não temos registros vazios para as colunas de tipo Texto\n",
        "- Como esperávamos, não demos `job_id` repetidos, garantindo que ele é uma chave primária\n",
        "- A área mais requisitada é a ***Machine Learning Researcher*** aparecendo no dataset ***808 vezes***\n",
        "- Embora apareça ***17 vezes no campo `required_skills`***, o resultado de ***Python, TensorFlow, PyTorch*** não diz muito se essas são as principais habilidades requisitadas, por conta das multiplas variaveis possíveis (13663). Para ter uma análise mais cuidadosa, precisaremos ver esse campo de uma outra forma"
      ]
    },
    {
      "cell_type": "markdown",
      "metadata": {
        "id": "Qc1RkuYMxHaZ"
      },
      "source": [
        "### 🔹 Descritiva das colunas tipo Número Inteiro"
      ]
    },
    {
      "cell_type": "code",
      "execution_count": null,
      "metadata": {
        "id": "eHR_6wZhswrm"
      },
      "outputs": [],
      "source": [
        "# Seleciona apenas as colunas do tipo inteiro (int)\n",
        "df.select_dtypes(include='int').describe().transpose()"
      ]
    },
    {
      "cell_type": "markdown",
      "metadata": {
        "id": "OYV_ogqg6ZtA"
      },
      "source": [
        "Resumo:\n",
        "- Não temos registros vazios para as colunas de tipo Inteiro\n",
        "- O Salário anual varia entre 32k e 399k, com uma média aproximadamente de 115k.\n",
        "- O desvio padrão de 60k indica que há uma **alta dispersão** salarial entre as vagas disponíveis\n",
        "- A exigência para a maior parte das vagas está em 5 anos de experiência, porém ainda há vagas que não requerem experiência prévia (years_experience = 0)"
      ]
    },
    {
      "cell_type": "markdown",
      "metadata": {
        "id": "u5rPfWWDycq6"
      },
      "source": [
        "### 🔹 Descritiva das colunas tipo Número Decimal"
      ]
    },
    {
      "cell_type": "code",
      "execution_count": null,
      "metadata": {
        "id": "Y8rkAtzNuu33"
      },
      "outputs": [],
      "source": [
        "# Seleciona apenas as colunas do tipo decimais (float)\n",
        "df.select_dtypes(include='float').describe().transpose()"
      ]
    },
    {
      "cell_type": "markdown",
      "metadata": {
        "id": "YzdJ22BKq6Am"
      },
      "source": [
        "Resumo:\n",
        "- Não temos registros vazios para as colunas de tipo Decimais\n",
        "- Grande parte dos beneficios estão com o score de 7.5\n",
        "- O desvio padrão de 1.45 mostra que a maioria das avaliações está relativamente próxima da média"
      ]
    },
    {
      "cell_type": "markdown",
      "metadata": {
        "id": "AEC_lv-8yfVM"
      },
      "source": [
        "### 🔹 Descritiva das colunas tipo Data"
      ]
    },
    {
      "cell_type": "code",
      "execution_count": null,
      "metadata": {
        "id": "nkW8uKVRv0Gg"
      },
      "outputs": [],
      "source": [
        "# Seleciona apenas as colunas do tipo data (datetime64)\n",
        "df.select_dtypes(include='datetime64').describe().transpose()"
      ]
    },
    {
      "cell_type": "markdown",
      "metadata": {
        "id": "Wg89NIp3PCIk"
      },
      "source": [
        "Resumo\n",
        "- Não temos registros vazios para as colunas de tipo Decimais\n",
        "- A data em que as vagas foram postadas vão de 01/01/2024 até 30/04/2025"
      ]
    },
    {
      "cell_type": "markdown",
      "metadata": {
        "id": "kYokPfB7bORV"
      },
      "source": [
        "### 🔹 Descritiva das colunas tipo Categoria"
      ]
    },
    {
      "cell_type": "code",
      "execution_count": null,
      "metadata": {
        "id": "zxD67z5j1yw-"
      },
      "outputs": [],
      "source": [
        "# Seleciona apenas as colunas do tipo Categoria (category)\n",
        "df.select_dtypes(include='category').describe().transpose()"
      ]
    },
    {
      "cell_type": "markdown",
      "metadata": {
        "id": "ONRrKARVPP4M"
      },
      "source": [
        "Resumo\n",
        "- Não temos registros vazios para as colunas de tipo Decimais\n",
        "- Embora a maior parte das vagas sejam presenciais (On-site), ainda temos maior parte delas sendo remota ou híbrida"
      ]
    },
    {
      "cell_type": "markdown",
      "metadata": {
        "id": "LWZNu02Jb-UE"
      },
      "source": [
        "## 🔷 Análise Exploratória dos Dados\n",
        "Nessa etapa faremos uma análise mais detalhada dos dados. A ideia é aprofundar no dataset para tirar insights valiosos, e também definir o que usaremos e o que não usaremos de informação"
      ]
    },
    {
      "cell_type": "markdown",
      "metadata": {
        "id": "6zNYfJxGuypY"
      },
      "source": [
        "### 🔹 Mapa de Calor (Heatmap)\n",
        "A seguir, usaremos o mapa de calor (ou heatmap) para identificar as correlações entre as variáveis do tipo numéricas"
      ]
    },
    {
      "cell_type": "code",
      "execution_count": null,
      "metadata": {
        "id": "q1AkZ70veKSe"
      },
      "outputs": [],
      "source": [
        "import matplotlib.pyplot as plt\n",
        "import seaborn as sns\n",
        "\n",
        "# Seleciona apenas colunas numéricas\n",
        "df_numericas = df.select_dtypes(include=['int64', 'float64'])\n",
        "\n",
        "# Calcula a matriz de correlação\n",
        "matriz_corr = df_numericas.corr()\n",
        "\n",
        "# Define o tamanho da figura\n",
        "plt.figure(figsize=(10, 6))\n",
        "\n",
        "# Cria o heatmap com anotações\n",
        "sns.heatmap(matriz_corr, annot=True, cmap='coolwarm', fmt='.2f', linewidths=0.5)\n",
        "\n",
        "# Título\n",
        "plt.title('Mapa de Correlação entre Variáveis Numéricas')\n",
        "plt.xticks(rotation=45)\n",
        "plt.yticks(rotation=0)\n",
        "plt.show()"
      ]
    },
    {
      "cell_type": "markdown",
      "metadata": {
        "id": "eB-K252DuypY"
      },
      "source": [
        "Resumo:\n",
        "- Percebemos uma forte correlação entre Salário e Anos de Experiência, algo que já cogitávamos que fosse acontecer.\n",
        "- Entretanto, os benefícios não acompanham essa mesma correlação, por exemplo, Salários altos não quer dizer que os benefícios também serão melhores"
      ]
    },
    {
      "cell_type": "markdown",
      "metadata": {
        "id": "loTGXN_suypY"
      },
      "source": [
        "### 🔹 Gráfico de Dispersão (scatterplot)\n",
        "Já que identificamos a correlação entre Salário e Anos de experiência, vamos usar o gráfico de dispersão (ou scatterplot), para entender melhor essa distribuição"
      ]
    },
    {
      "cell_type": "code",
      "execution_count": null,
      "metadata": {
        "id": "vy3AqVEvfddQ"
      },
      "outputs": [],
      "source": [
        "import seaborn as sns\n",
        "import matplotlib.pyplot as plt\n",
        "\n",
        "plt.figure(figsize=(10, 6))\n",
        "sns.scatterplot(data=df, x='years_experience', y='salary_usd')\n",
        "plt.title('Salário vs. Experiência Profissional')\n",
        "plt.xlabel('Anos de Experiência')\n",
        "plt.ylabel('Salário (USD)')\n",
        "plt.show()"
      ]
    },
    {
      "cell_type": "markdown",
      "metadata": {
        "id": "HdEYrMIjuypZ"
      },
      "source": [
        "Resumo:\n",
        "- Analisando os dados bem por cima (sem entrar no detalhe de área de atuação), percebmos que antes dos 10 anos de experiência, os salários não passavam dos 250k de dólares anuais.\n",
        "- Somente a partir dos 10 anos que vemos os salários saltarem, chegando até os 400k anuais de dolares(embora seja um outlier)"
      ]
    },
    {
      "cell_type": "markdown",
      "metadata": {
        "id": "8UtpJ0cKuypZ"
      },
      "source": [
        "### 🔹 Gráfico de Caixa (boxplot)\n",
        "Já que identificamos a correlação entre Salário e Anos de experiência, vamos usar o gráfico de dispersão (ou scatterplot), para entender melhor essa distribuição"
      ]
    },
    {
      "cell_type": "code",
      "execution_count": null,
      "metadata": {
        "id": "oSXhfvrddvAH"
      },
      "outputs": [],
      "source": [
        "import seaborn as sns\n",
        "import matplotlib.pyplot as plt\n",
        "\n",
        "# Gráfico\n",
        "plt.figure(figsize=(10, 6))\n",
        "ax = sns.boxplot(data=df, x='experience_level', y='salary_usd')\n",
        "\n",
        "# Quartis por categoria\n",
        "quartis = df.groupby('experience_level')['salary_usd'].quantile([0.25, 0.5, 0.75]).unstack()\n",
        "\n",
        "# Adiciona as anotações no gráfico\n",
        "for i, (cat, row) in enumerate(quartis.iterrows()):\n",
        "    ax.text(i, row[0.25], f\"Q1: {row[0.25]:,.0f}\", color='red', ha='center', va='bottom', fontsize=8)\n",
        "    ax.text(i, row[0.5], f\"Q2: {row[0.5]:,.0f}\", color='white', ha='center', va='bottom', fontsize=8)\n",
        "    ax.text(i, row[0.75], f\"Q3: {row[0.75]:,.0f}\", color='blue', ha='center', va='bottom', fontsize=8)\n",
        "\n",
        "plt.title(\"Distribuição Salarial por Nível de Experiência\")\n",
        "plt.ylabel(\"Salário (USD)\")\n",
        "plt.show()\n"
      ]
    },
    {
      "cell_type": "markdown",
      "metadata": {
        "id": "zeZi-kvzdvAH"
      },
      "source": [
        "Resumo:\n",
        "- Analisando o boxplot, percebe-se que nos níveis mais baixos de experiência, os salários são mais concentrados. No caso do Entry-level, por exemplo, a maioria dos salários anuais está entre aproximadamente 50.000 e 75.000 USD. Existem algumas exceções que chegam perto de 100.000 USD, mas valores acima disso são considerados outliers.\n",
        "\n",
        "- À medida que o nível de experiência aumenta, observamos uma expansão significativa do IQR, indicando maior variabilidade salarial. Esse padrão mostra que os salários ficam menos previsíveis e mais dependentes de fatores individuais como área de atuação, localização, e competências.\n",
        "\n",
        "- Percebe-se uma leve assimetria positiva na distribuição salarial, com a mediana mais próxima do primeiro quartil (Q1) do que do terceiro (Q3), indicando que os salários estão mais concentrados nas faixas inferiores, enquanto os valores mais altos são mais dispersos e geram outliers acima da média\n",
        "\n",
        "- No nível Executive, a variabilidade é claramente a maior de todas. A maior parte dos salários está entre 145.000 e 225.000 USD por ano, com uma mediana de aproximadamente 177.000 USD. Os bigodes superiores são mais longos, indicando que, mesmo sem considerar os outliers, os valores já se estendem bastante. Além disso, há uma concentração alta de outliers, com salários extrapolando os 225.000 USD e chegando próximo dos 400.000 USD anuais."
      ]
    },
    {
      "cell_type": "code",
      "execution_count": null,
      "metadata": {
        "id": "24c7hK8sdvAH"
      },
      "outputs": [],
      "source": [
        "import matplotlib.pyplot as plt\n",
        "import seaborn as sns\n",
        "import matplotlib.gridspec as gridspec\n",
        "from seaborn import color_palette\n",
        "\n",
        "\n",
        "# Lista de colunas categóricas (benefits_score será tratado separado)\n",
        "categorias = ['job_title', 'employment_type', 'company_location',\n",
        "              'company_size', 'employee_residence',\n",
        "              'remote_ratio', 'education_required', 'industry']\n",
        "\n",
        "viridis = color_palette(\"viridis\", len(categorias))\n",
        "\n",
        "# Configura a grade: 4 linhas (a última será só para benefits_score), 3 colunas\n",
        "fig = plt.figure(figsize=(18, 22))\n",
        "gs = gridspec.GridSpec(4, 3, figure=fig)\n",
        "gs.update(hspace=0.6)  # Espaçamento vertical\n",
        "\n",
        "# Loop para os primeiros 8 gráficos (3x3 menos o último espaço)\n",
        "for i, coluna in enumerate(categorias):\n",
        "    ax = fig.add_subplot(gs[i // 3, i % 3])\n",
        "    contagem = df[coluna].value_counts()\n",
        "    sns.barplot(x=contagem.values, y=contagem.index, color=viridis[i], ax=ax)\n",
        "    ax.set_title(f'Distribuição: {coluna}', fontsize=12)\n",
        "    ax.set_xlabel('Contagem')\n",
        "    ax.set_ylabel('')\n",
        "\n",
        "# Gráfico do benefits_score ocupando a linha inteira (linha 3, colunas 0 até 2)\n",
        "ax_big = fig.add_subplot(gs[3, :])  # Usa a linha inteira\n",
        "contagem_benefits = df['benefits_score'].value_counts()\n",
        "sns.barplot(x=contagem_benefits.index, y=contagem_benefits.values, color=viridis[i], ax=ax_big)\n",
        "ax_big.set_title('Distribuição: benefits_score', fontsize=14)\n",
        "ax_big.set_xlabel('Categoria')\n",
        "ax_big.set_ylabel('Contagem')\n",
        "ax_big.tick_params(axis='x', rotation=45)\n",
        "\n",
        "plt.tight_layout()\n",
        "plt.show()\n"
      ]
    },
    {
      "cell_type": "markdown",
      "metadata": {
        "id": "EAmGilXbdvAH"
      },
      "source": [
        "Resumo\n",
        "- Após a visualização consolidada de todos os gráficos de barras, a primeira impressão é de que os dados estão bem distribuídos entre as categorias.\n",
        "- Observamos uma boa variação entre os valores, sem a presença de categorias que dominam esmagadoramente os registros (ex: nenhuma com mais de 90% de ocorrência).\n",
        "\n",
        "- Isso nos dá segurança para análises comparativas futuras, já que as categorias têm representatividade suficiente e não sofrem com viés por baixa amostragem.\n",
        "\n",
        "- A única exceção foi a variável `benefits_score`, que apresentou um leve padrão de concentração nas pontas:\n",
        "\n",
        "    - Algumas empresas atribuíram nota mínima (5.0), enquanto outras marcaram nota máxima (10.0).\n",
        "\n",
        "    - Mesmo assim, a distribuição geral dos scores está relativamente próxima e equilibrada, sem grandes distorções."
      ]
    },
    {
      "cell_type": "code",
      "execution_count": null,
      "metadata": {
        "id": "fihZCbLfdvAH"
      },
      "outputs": [],
      "source": [
        "sns.boxplot(x='company_location', y='benefits_score', data=df, palette='pastel')\n",
        "plt.title('Distribuição de Benefits Score por company_location')\n",
        "plt.xlabel('Tamanho da Empresa')\n",
        "plt.ylabel('Benefits Score')\n",
        "plt.tick_params(axis='x', rotation=70)\n",
        "plt.show()"
      ]
    },
    {
      "cell_type": "markdown",
      "metadata": {
        "id": "EEx2pXbNdvAH"
      },
      "source": [
        "Resumo:\n",
        "- Olhando por cima os benefícios oferecios por Localidade das empresas, nenhuma se destaca fortemente em relação as outras.\n",
        "- Há alguns outliers nas pontas (5.0 e 10.0), mas o padrão central gira entre 7 e 8.\n",
        "- Aparentemente, o país da empresa não é um fator determinante isolado para o nível de benefícios."
      ]
    },
    {
      "cell_type": "markdown",
      "metadata": {
        "id": "6SQ3px6jdvAH"
      },
      "source": [
        "---"
      ]
    },
    {
      "cell_type": "markdown",
      "metadata": {
        "id": "bfxycvQLRDMa"
      },
      "source": [
        "## 🔶Tratamento final dos Dados\n",
        "Nesse momento já temos uma certa noção do que iremos explorar nesse dataset. Podemos agora focar em fazer um \"pente fino\" nos dados, para deixá-lo pronto para análise final"
      ]
    },
    {
      "cell_type": "markdown",
      "metadata": {
        "id": "SHN6HbD-x6r2"
      },
      "source": [
        "### 🔸 Definição das Colunas do Dataset\n",
        "Faremos a exclusão de algumas colunas desse dataset, para mantê-lo mais limpo.\n",
        "Quais colunas serão excluídas:\n",
        "- `job_id` → Coluna apenas de id, não há necessidade de mantê-la\n",
        "- `salary_currency` → A coluna `salary_usd` já nos informa o salário convertido em Dolar anuais\n",
        "- `application_deadline` → Esse prazo não traz nenhuma informação relevante.\n",
        "- `job_description_length` → Essa coluna também não traz nenhuma informação que precisaremos\n",
        "- `company_name` → Não precisaremos dos nomes para as análises tambem\n",
        "\n",
        "Para essa limpeza, também criamos uma Classe para limpar as colunas. Embora o proprio Pandas já tenha essa função, a ideia aqui foi criar essa Classe se eventualmente tivermos mais funções de Tratamento aqui, e torná-la de maneira escalável"
      ]
    },
    {
      "cell_type": "code",
      "execution_count": null,
      "metadata": {
        "id": "WOQsaz2_dvAI"
      },
      "outputs": [],
      "source": [
        "from TratamentoDeDados import LimpezaFinalDados\n",
        "\n",
        "colunas_remover = ['job_id', 'salary_currency', 'application_deadline', 'job_description_length', 'company_name']\n",
        "\n",
        "df = LimpezaFinalDados(df, colunas_remover=colunas_remover).executar()"
      ]
    },
    {
      "cell_type": "markdown",
      "metadata": {
        "id": "vOOKxNe2dvAI"
      },
      "source": [
        "### 🔸 Exibindo os 5 primeiros registros, para confirmar a remoção das colunas"
      ]
    },
    {
      "cell_type": "code",
      "execution_count": null,
      "metadata": {
        "id": "Y2rrv4VhDikW"
      },
      "outputs": [],
      "source": [
        "df.head(5)"
      ]
    },
    {
      "cell_type": "markdown",
      "metadata": {
        "id": "vTGJuUy9dvAI"
      },
      "source": [
        "### 🔸 Criação do Dataframe para required_skills e plotagem de gráfico\n",
        "Olhando para os registros da coluna `required_skills`, percebemos que era mencionada mais de uma skill separada por `,`. (ex:Tableau, PyTorch, Kubernetes, Linux, NLP)\n",
        "\n",
        "Com os dados estruturado dessa maneira, não conseguiriamos obter bons insights, e portanto a saída para esse caso foi construir um Dataframe unificando esses dados.\n",
        "\n",
        "Com o intuito de aplicar boas práticas de programação, construimos uma Classe que faria esse trabalho e que precisariamos apenas importar o arquivo e sua respectiva classe.\n",
        "\n",
        "O `GeradorSkillsPorCategoria` precisa de 2 atributos:\n",
        "- `df` → Dataframe do nosso estudo\n",
        "- `job_title` → A coluna que será referência para avaliarmos os dados, que no exemplo seguido ***Quais as principais habilidades por Área de Atuação***\n",
        "\n",
        "Essa função permite visualizarmos qualquer coluna do Dataframe, apenas trocando o nome da coluna"
      ]
    },
    {
      "cell_type": "code",
      "execution_count": null,
      "metadata": {
        "id": "XSR-9VybdvAI"
      },
      "outputs": [],
      "source": [
        "from TratamentoDeDados import GeradorSkillsPorCategoria\n",
        "\n",
        "df_skills_job_title = GeradorSkillsPorCategoria(df, 'job_title')\n",
        "df_skills_job_title.gerar()\n",
        "df_skills_job_title.plotar_top_habilidades_interativo(top_n=5)"
      ]
    },
    {
      "cell_type": "markdown",
      "metadata": {
        "id": "BXBuOow4dvAI"
      },
      "source": [
        "## 🎯 Insights obtidos do Dataset e Conclusões\n",
        "Agora que exploramos bem o nosso Conjunto de Dados, vamos tentar obter insights valiosos e tirar as conclusões dos problemas inicialmente definidos"
      ]
    },
    {
      "cell_type": "markdown",
      "metadata": {
        "id": "DBhGB8gFdvAI"
      },
      "source": [
        "### 0️⃣1️⃣ Quais áreas de atuação estão em maior crescimento?"
      ]
    },
    {
      "cell_type": "code",
      "execution_count": null,
      "metadata": {
        "id": "CcODaJbddvAI"
      },
      "outputs": [],
      "source": [
        "import matplotlib.pyplot as plt\n",
        "\n",
        "# Criar figura com 2 subplots em coluna\n",
        "fig, axs = plt.subplots(2, 1, figsize=(12, 10))\n",
        "\n",
        "# ================================\n",
        "# Gráfico 1: Barras totais\n",
        "# ================================\n",
        "df_agrupado = df['job_title'].value_counts()\n",
        "axs[0].bar(df_agrupado.index, df_agrupado.values, color='skyblue')\n",
        "axs[0].set_title('Vagas por Área de Atuação')\n",
        "axs[0].set_xlabel('Área de Atuação')\n",
        "axs[0].set_ylabel('Número de Vagas')\n",
        "axs[0].tick_params(axis='x', rotation=85)\n",
        "\n",
        "# ================================\n",
        "# Gráfico 2: Linhas no tempo\n",
        "# ================================\n",
        "top_5_areas = df['job_title'].value_counts().nlargest(3).index\n",
        "df_top = df[df['job_title'].isin(top_5_areas)]\n",
        "\n",
        "df_linhas = (\n",
        "    df_top\n",
        "    .groupby(['Start_Month', 'job_title'])\n",
        "    .size()\n",
        "    .unstack(fill_value=0)\n",
        ")\n",
        "\n",
        "total_por_area = df_linhas.sum()\n",
        "area_destaque = total_por_area.idxmax()\n",
        "\n",
        "# Pegando a série da linha azul\n",
        "serie_destaque = df_linhas[area_destaque]\n",
        "x = df_linhas.index\n",
        "\n",
        "# Encontrando pico e vale\n",
        "pico_idx = serie_destaque.idxmax()\n",
        "vale_idx = serie_destaque.idxmin()\n",
        "pico_val = serie_destaque.max()\n",
        "vale_val = serie_destaque.min()\n",
        "\n",
        "# Plotando as linhas\n",
        "for area in df_linhas.columns:\n",
        "    if area == area_destaque:\n",
        "        axs[1].plot(x, serie_destaque, label=area, color='dodgerblue', linewidth=2.5)\n",
        "    else:\n",
        "        axs[1].plot(x, df_linhas[area], label=area, color='gray', linewidth=1.5)\n",
        "\n",
        "# Destaques no gráfico\n",
        "axs[1].scatter(pico_idx, pico_val, color='blue', s=100, zorder=5)\n",
        "axs[1].annotate(f'MAX: {pico_val}', (pico_idx, pico_val),\n",
        "                textcoords=\"offset points\", xytext=(0,10), ha='center', fontsize=9, color='blue')\n",
        "\n",
        "axs[1].scatter(vale_idx, vale_val, color='red', s=100, zorder=5)\n",
        "axs[1].annotate(f'MIN: {vale_val}', (vale_idx, vale_val),\n",
        "                textcoords=\"offset points\", xytext=(0,-15), ha='center', fontsize=9, color='red')\n",
        "\n",
        "axs[1].set_title('Evolução das Áreas ao Longo do Tempo (top3)')\n",
        "axs[1].set_xlabel('Mês')\n",
        "axs[1].set_ylabel('Número de Vagas')\n",
        "axs[1].tick_params(axis='x', rotation=45)\n",
        "axs[1].grid(True)\n",
        "axs[1].legend(title='Área', loc='lower center', bbox_to_anchor=(0.5, -0.7), ncol=3)\n",
        "\n",
        "# Layout final\n",
        "plt.tight_layout()\n",
        "plt.show()\n",
        "\n",
        "df_skills_job_title = GeradorSkillsPorCategoria(df, 'job_title')\n",
        "df_skills_job_title.gerar()\n",
        "df_skills_job_title.plotar_top_habilidades_interativo(top_n=5, categoria_especifica=\"Machine Learning Researcher\")\n"
      ]
    },
    {
      "cell_type": "markdown",
      "metadata": {
        "id": "dQW2TEeMdvAI"
      },
      "source": [
        "**Conclusão**\n",
        "As ***top 3 áreas com maior crescimento desde Janeiro de 2024*** são:\n",
        "1. Machine Learning Researcher\n",
        "2. IA Software Engineer\n",
        "3. Autonomous Systems Engineer\n",
        "\n",
        "Surpreendentemente as áreas de de ***Data Analyst, Data Engineer e Data Scientist não apresentaram grande crescimento como esperado***, dando espaço a muitas áreas relacionadas a IA (IA Software Engineer, IA Architect, Head of IA, etc...)\n",
        "\n",
        "Olhando para a evolução ao longo do tempo, a área de ***Machine Learning Resercher apresentou sua menor queda em número de vagas em Junho/2024, com 32 vagas no mês***, mas que logo voltou a crescer contínuamente.\n",
        "\n",
        "Recentemente, ***em Abril/2025 apresentou seu maior pico em número de vagas, com um total de 68 vagas no mês***.\n",
        "\n",
        "Sendo assim, a vaga de \"Machine Learning Researcher\" tem um grande potêncial de Crescimento. Para aqueles que tem interesse de atuar, as principais habilidades requeridas apontadas pelo Dataset são:\n",
        "- Python\n",
        "- Kubernetes\n",
        "- SQL\n",
        "- Tensorflow\n",
        "- Pytorch"
      ]
    },
    {
      "cell_type": "markdown",
      "metadata": {
        "id": "ubaHd-ptdvAI"
      },
      "source": [
        "### 0️⃣2️⃣ Quais regiões estão contratando em maior escala? E como estão distribuídos os salários globalmente?"
      ]
    },
    {
      "cell_type": "code",
      "execution_count": null,
      "metadata": {
        "id": "KeHmr51rdvAI"
      },
      "outputs": [],
      "source": [
        "import matplotlib.pyplot as plt\n",
        "\n",
        "df_excluidos = df\n",
        "paises_excluir = ['Switzerland', 'Denmark', 'Norway']\n",
        "# df_excluidos = df[~df['company_location'].isin(paises_excluir)]\n",
        "\n",
        "# 1. Agrupar dados de vagas e salários\n",
        "df_vagas_exp = (\n",
        "    df_excluidos.groupby(['company_location', 'experience_level'])\n",
        "    .size()\n",
        "    .reset_index(name='qtd_vagas')\n",
        ")\n",
        "\n",
        "df_media_salario = (\n",
        "    df_excluidos.groupby(['company_location', 'experience_level'])['salary_usd']\n",
        "    .mean()\n",
        "    .reset_index()\n",
        ")\n",
        "\n",
        "df_vagas_salarios = pd.merge(\n",
        "    df_vagas_exp,\n",
        "    df_media_salario,\n",
        "    on=['company_location', 'experience_level'],\n",
        "    how='inner'\n",
        ")\n",
        "\n",
        "# Lista dos níveis de experiência únicos (ordenados)\n",
        "niveis_exp = sorted(df_vagas_salarios['experience_level'].unique())\n",
        "\n",
        "# Criar figura 2x2\n",
        "fig, axs = plt.subplots(4, 1, figsize=(19, 20))\n",
        "axs = axs.flatten()\n",
        "\n",
        "# Loop por nível de experiência\n",
        "for i, nivel in enumerate(niveis_exp):\n",
        "    df_nivel = df_vagas_salarios[df_vagas_salarios['experience_level'] == nivel].copy()\n",
        "\n",
        "    # Ordenar pela quantidade de vagas (maior para menor)\n",
        "    df_nivel = df_nivel.sort_values(by='qtd_vagas', ascending=False).reset_index(drop=True)\n",
        "\n",
        "    # Identificar destaque\n",
        "    idx_max_vagas = df_nivel['qtd_vagas'].idxmax()\n",
        "    idx_max_sal = df_nivel['salary_usd'].idxmax()\n",
        "    idx_min_sal = df_nivel['salary_usd'].idxmin()\n",
        "\n",
        "    # Cores das barras\n",
        "    cores_barras = ['#1f77b4' if idx == idx_max_vagas else 'lightgray' for idx in df_nivel.index]\n",
        "\n",
        "    # Plotar barras\n",
        "    ax1 = axs[i]\n",
        "    barras = ax1.bar(df_nivel['company_location'], df_nivel['qtd_vagas'], color=cores_barras)\n",
        "    ax1.set_ylabel('Número de Vagas')\n",
        "    ax1.set_xlabel('Local da Empresa')\n",
        "    ax1.tick_params(axis='x', rotation=45)\n",
        "    ax1.set_title(f\"{nivel} - Vagas x Salário\")\n",
        "    ax1.grid(axis='y', linestyle='--', alpha=0.3)\n",
        "\n",
        "    # Rótulo na barra com maior número de vagas\n",
        "    for bar, idx in zip(barras, df_nivel.index):\n",
        "        if idx == idx_max_vagas:\n",
        "            ax1.text(bar.get_x() + bar.get_width()/2, bar.get_height() + 3,\n",
        "                     f\"{df_nivel.loc[idx, 'qtd_vagas']}\", ha='center', va='bottom', fontweight='bold')\n",
        "\n",
        "    # Gráfico de linha - Salário\n",
        "    ax2 = ax1.twinx()\n",
        "    ax2.plot(df_nivel['company_location'], df_nivel['salary_usd'], color='orange', marker='o', linewidth=2)\n",
        "    ax2.set_ylabel('Salário Médio (USD)', color='orange')\n",
        "    ax2.tick_params(axis='y', labelcolor='orange')\n",
        "\n",
        "    # Destacar pico e vale\n",
        "    for idx in [idx_max_sal, idx_min_sal]:\n",
        "        cor = 'green' if idx == idx_max_sal else 'red'\n",
        "        ax2.plot(df_nivel.loc[idx, 'company_location'], df_nivel.loc[idx, 'salary_usd'],\n",
        "                 marker='o', color=cor, markersize=10)\n",
        "        ax2.text(df_nivel.loc[idx, 'company_location'], df_nivel.loc[idx, 'salary_usd'] + 2000,\n",
        "                 f\"{int(df_nivel.loc[idx, 'salary_usd'])}\", color=cor, ha='center', fontweight='bold')\n",
        "\n",
        "        # Calcular média salarial do nível atual\n",
        "        media_salarial = df_excluidos[df_excluidos['experience_level'] == nivel]['salary_usd'].mean()\n",
        "\n",
        "        # Linha horizontal tracejada da média\n",
        "        ax2.axhline(media_salarial, color='gray', linestyle='--', linewidth=1.5, alpha=0.7)\n",
        "        ax2.text(\n",
        "            x=len(df_nivel),\n",
        "            y=media_salarial + 1000,\n",
        "            s=f\"Média Salarial: {int(media_salarial)} USD\",\n",
        "            color='gray',\n",
        "            ha='right',\n",
        "            fontweight='bold'\n",
        "        )\n",
        "\n",
        "plt.tight_layout()\n",
        "plt.show()"
      ]
    },
    {
      "cell_type": "markdown",
      "metadata": {
        "id": "o0V4XRGfdvAJ"
      },
      "source": [
        "***Resumo***\n",
        "\n",
        "Parte das nossas Premissas/Hipóteses estavam corretas, quando indagamos que países como Suiça (Switzerland), Dinamarca(Denmark) teriam os melhores salários. Só erramos ao ter indicado a Suécia(Sweden), e não ter mencionado a Noruéga(Norway) como possibilidade.\n",
        "\n",
        "Entretanto, com relação ao País que teriam mais vagas anunciadas, havíamos comentado sobre os EUA com mais numeros de vagas, mas em nenhum nível ele esteve presente.\n",
        "\n",
        "Mesmo tendo os um dos salários mais atrativos, não é o que mais anuncia vagas"
      ]
    },
    {
      "cell_type": "markdown",
      "metadata": {
        "id": "WTtYaysfdvAJ"
      },
      "source": [
        "### 0️⃣3️⃣Quais são as principais habilidades técnicas exigidas?"
      ]
    },
    {
      "cell_type": "code",
      "execution_count": null,
      "metadata": {
        "id": "zgGe_BMldvAJ"
      },
      "outputs": [],
      "source": [
        "import pandas as pd\n",
        "import matplotlib.pyplot as plt\n",
        "import seaborn as sns\n",
        "\n",
        "# Gerar o DataFrame original\n",
        "df_required = df_skills_job_title.gerar()\n",
        "\n",
        "# Passo 1: Agrupar e somar a quantidade total por habilidade\n",
        "df_required = (\n",
        "    df_required\n",
        "    .groupby('required_skill')['qtd']\n",
        "    .sum()\n",
        "    .reset_index()  # Isso transforma o índice em coluna novamente\n",
        "    .sort_values(by='qtd', ascending=False)\n",
        ")\n",
        "# Passo 2: Gráfico de barras horizontal\n",
        "plt.figure(figsize=(12, 6))\n",
        "sns.barplot(data=df_required, y='required_skill', x='qtd', palette='viridis')\n",
        "plt.title('💼 Top 20 Habilidades Mais Requisitadas')\n",
        "plt.xlabel('Quantidade de Vagas')\n",
        "plt.ylabel('Habilidade')\n",
        "plt.grid(axis='x', linestyle='--', alpha=0.5)\n",
        "plt.tight_layout()\n",
        "plt.show()"
      ]
    },
    {
      "cell_type": "code",
      "execution_count": null,
      "metadata": {
        "id": "_TlCAR6GdvAJ"
      },
      "outputs": [],
      "source": [
        "import matplotlib.pyplot as plt\n",
        "import seaborn as sns\n",
        "\n",
        "# Passo 1: Filtrar e agregar as habilidades por área\n",
        "def preparar_top_habilidades(df, cargo, top_n=10):\n",
        "    df_filtrado = df[df['job_title'] == cargo]\n",
        "    df_agg = (\n",
        "        df_filtrado\n",
        "        .groupby('required_skill')['qtd']\n",
        "        .sum()\n",
        "        .reset_index()\n",
        "        .sort_values(by='qtd', ascending=False)\n",
        "        .head(top_n)\n",
        "    )\n",
        "    return df_agg\n",
        "\n",
        "df_required = GeradorSkillsPorCategoria(df, 'job_title').gerar()\n",
        "\n",
        "# Passo 2: Criar os três DataFrames\n",
        "df_ds = preparar_top_habilidades(df_required, 'Data Scientist')\n",
        "df_da = preparar_top_habilidades(df_required, 'Data Analyst')\n",
        "df_de = preparar_top_habilidades(df_required, 'Data Engineer')\n",
        "\n",
        "# Passo 3: Criar os gráficos lado a lado\n",
        "fig, axs = plt.subplots(1, 3, figsize=(24, 6))\n",
        "\n",
        "def plotar(ax, df_plot, titulo):\n",
        "    sns.barplot(data=df_plot, y='required_skill', x='qtd', palette='viridis', ax=ax)\n",
        "    ax.set_title(titulo)\n",
        "    ax.set_xlabel('Nº de Vagas')\n",
        "    ax.set_ylabel('Habilidade')\n",
        "    ax.grid(axis='x', linestyle='--', alpha=0.5)\n",
        "\n",
        "# Plotar cada gráfico\n",
        "plotar(axs[0], df_ds, 'Data Scientist')\n",
        "plotar(axs[1], df_da, 'Data Analyst')\n",
        "plotar(axs[2], df_de, 'Data Engineer')\n",
        "\n",
        "plt.tight_layout()\n",
        "plt.show()\n"
      ]
    },
    {
      "cell_type": "code",
      "execution_count": null,
      "metadata": {
        "id": "zX1FIvQndvAJ"
      },
      "outputs": [],
      "source": [
        "#Filtrar todas as vagas de Engenheiro de Dados\n",
        "\n",
        "total_vagas_DE = df[df['job_title'] == 'Data Engineer'].shape[0]\n",
        "\n",
        "# Filtrar Data Engineer e que na required_skills tenha os textos 'AWS' ou 'Azure' ou 'GCP'\n",
        "\n",
        "total_vagas_DE_com_Cloud = df[df['job_title'] == 'Data Engineer'].loc[df['required_skills'].str.contains('AWS|Azure|GCP')].shape[0]\n",
        "\n",
        "print(r'Total de vagas de Engenheiro de Dados que demandam Cloud:', format(total_vagas_DE_com_Cloud / total_vagas_DE, '.2%'))"
      ]
    },
    {
      "cell_type": "markdown",
      "metadata": {
        "id": "642b75SbdvAJ"
      },
      "source": [
        "***Resumo***\n",
        "\n",
        "Sem dúvidas, o **Python é a habilidade mais requisitada** entre todas as habilidades em geral do Mercado Global de IA.\n",
        "\n",
        "Em contrapartida, habilidades como Matemática (Mathematics) e Estatistica (Statistics) não foram habilidades tão requisitadas, mostrando que o mercado está dando mais espaço para habilidades técnicas do que teóricas propriamente.\n",
        "\n",
        "O que me surpreendeu, particularmente falando, foi ver que o Kubernetes tem mais espaço do que o Docker por exemplo.\n",
        "\n",
        "Porém há um ponto que causa estranheza nesses dados. Olhando para as vagas de Engenharia de Dados, onde normalmente é indispensável ter conhecimentos de Cloud, me surpreende ter somente **36,85%** das vagas pedindo essa habilidade.\n",
        "\n",
        "Então na minha interpretação:\n",
        "- Ou os dados foram sintetizados/manipulados\n",
        "- Ou então os recrutadores (como normalmente acontece aqui também) não souberam informar as habilidades corretas para aquela vaga específica, e então \"poluiu\" a análise"
      ]
    },
    {
      "cell_type": "markdown",
      "source": [
        "### 0️⃣5️⃣ Qual Nivel de Escolaridade cada um dos Segmentos Industriais estão requisitando?"
      ],
      "metadata": {
        "id": "BRKnU5zZtAhx"
      }
    },
    {
      "cell_type": "code",
      "execution_count": null,
      "metadata": {
        "id": "QRrwd1HkdvAJ"
      },
      "outputs": [],
      "source": [
        "import matplotlib.pyplot as plt\n",
        "\n",
        "# Reaproveitar o agrupamento\n",
        "df_agrupado = df.groupby(['education_required', 'industry']).size().reset_index(name='qtd')\n",
        "\n",
        "# Obter as categorias únicas\n",
        "escolaridades = df_agrupado['education_required'].unique()\n",
        "\n",
        "# Criar o gráfico\n",
        "plt.figure(figsize=(18, 8))\n",
        "\n",
        "for i, escolaridade in enumerate(escolaridades):\n",
        "    subset = df_agrupado[df_agrupado['education_required'] == escolaridade].sort_values('qtd', ascending=True)\n",
        "\n",
        "    plt.subplot(1, len(escolaridades), i + 1)\n",
        "\n",
        "    # Cores padrão: cinza\n",
        "    colors = ['lightgray'] * len(subset)\n",
        "\n",
        "    # Destaque para o maior (verde) e menor (vermelho)\n",
        "    idx_max = subset['qtd'].idxmax()\n",
        "    idx_min = subset['qtd'].idxmin()\n",
        "\n",
        "    max_ind = subset.index.get_loc(idx_max)\n",
        "    min_ind = subset.index.get_loc(idx_min)\n",
        "\n",
        "    colors[max_ind] = '#80E7AB'\n",
        "    colors[min_ind] = '#FFA5A5'\n",
        "\n",
        "    bars = plt.barh(subset['industry'], subset['qtd'], color=colors)\n",
        "    plt.title(escolaridade)\n",
        "    plt.xlabel('Qtd')\n",
        "    plt.grid(axis='x', linestyle='--', alpha=0.5)\n",
        "    plt.xlim(0, subset['qtd'].max() + 30)  # ← Aqui você afasta a borda do gráfico\n",
        "\n",
        "\n",
        "    if i == 0:\n",
        "        plt.ylabel('Indústria')\n",
        "    else:\n",
        "        plt.ylabel('')\n",
        "    plt.xticks(rotation=45)\n",
        "\n",
        "    # Adicionar os valores apenas nas barras em destaque\n",
        "    # Adicionar os valores apenas nas barras em destaque\n",
        "    for j, bar in enumerate(bars):\n",
        "        if j == max_ind:\n",
        "            cor = '#1F7D35'  # mesma do verde claro\n",
        "        elif j == min_ind:\n",
        "            cor = '#CF0E0E'  # mesma do vermelho claro\n",
        "        else:\n",
        "            continue\n",
        "\n",
        "        plt.text(bar.get_width() + 1,\n",
        "                bar.get_y() + bar.get_height() / 2,\n",
        "                f'{int(bar.get_width())}',\n",
        "                va='center',\n",
        "                fontsize=9,\n",
        "                color=cor)  # ← aqui aplicamos a cor no texto\n",
        "\n",
        "\n",
        "plt.suptitle('Distribuição de Vagas por Indústria e Escolaridade (com destaques)', fontsize=14)\n",
        "plt.tight_layout(rect=[0, 0, 1, 0.95])\n",
        "plt.show()\n"
      ]
    },
    {
      "cell_type": "markdown",
      "source": [
        "Resumo"
      ],
      "metadata": {
        "id": "-wdlfEtmtYOL"
      }
    },
    {
      "cell_type": "code",
      "source": [],
      "metadata": {
        "id": "4x90QHlZgzg6"
      },
      "execution_count": null,
      "outputs": []
    }
  ],
  "metadata": {
    "colab": {
      "provenance": [],
      "toc_visible": true,
      "include_colab_link": true
    },
    "kernelspec": {
      "display_name": "base",
      "language": "python",
      "name": "python3"
    },
    "language_info": {
      "codemirror_mode": {
        "name": "ipython",
        "version": 3
      },
      "file_extension": ".py",
      "mimetype": "text/x-python",
      "name": "python",
      "nbconvert_exporter": "python",
      "pygments_lexer": "ipython3",
      "version": "3.12.7"
    }
  },
  "nbformat": 4,
  "nbformat_minor": 0
}