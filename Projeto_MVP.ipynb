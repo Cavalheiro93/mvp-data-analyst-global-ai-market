{
  "cells": [
    {
      "cell_type": "markdown",
      "metadata": {
        "colab_type": "text",
        "id": "view-in-github"
      },
      "source": [
        "<a href=\"https://colab.research.google.com/github/Cavalheiro93/mvp-data-analyst-global-ai-market/blob/main/Projeto_MVP.ipynb\" target=\"_parent\"><img src=\"https://colab.research.google.com/assets/colab-badge.svg\" alt=\"Open In Colab\"/></a>"
      ]
    },
    {
      "cell_type": "markdown",
      "metadata": {
        "id": "EihY9Dx9lXP3"
      },
      "source": [
        "# Global AI Job Market & Salary Trends 2025\n",
        "\n",
        "AI Job Market Analysis Dataset 2025. Retrieved from Kaggle.com"
      ]
    },
    {
      "cell_type": "markdown",
      "metadata": {
        "id": "mQKp1v9ggGSO"
      },
      "source": [
        "## 💠 Definição do Problema"
      ]
    },
    {
      "cell_type": "markdown",
      "metadata": {
        "id": "0i48hR1fihtD"
      },
      "source": [
        "### 🔹 Introdução\n",
        "\n",
        "Com o grande avanço da Inteligência Artificial, o mercado de trabalho tem passado por transformações significativas em escala global. Novas funções, cargos e áreas de atuação vêm surgindo rapidamente, acompanhadas por uma crescente demanda por profissionais qualificados em diversas especialidades não só de IA, mas também de Dados.\n",
        "\n",
        "Essa movimentação tem impulsionado contratações nacionais e internacionais, promovendo a mobilidade de talentos e o trabalho remoto como tendência. Empresas de diferentes segmentos, portes e regiões estão disputando profissionais capacitados, o que abre espaço para análises sobre desigualdade salarial, tendências de contratação e habilidades mais requisitadas.\n",
        "\n",
        "Este projeto tem como objetivo analisar as principais tendências do mercado global e nacional.\n",
        "\n",
        "**Questões investigadas:**\n",
        "\n",
        "- Quais áreas de atuação estão em maior crescimento?\n",
        "- Quais regiões estão contratando em maior escala?\n",
        "- Quais são as principais habilidades técnicas exigidas Globalmente? E Nacionalmente?\n",
        "- Como estão distribuídos os salários globalmente?\n",
        "\n",
        "**Premissas e hipóteses:**\n",
        "\n",
        "- Países europeus (principalmente Dinamarca, Suíça ou Suécia) terão os melhores salários e benefícios.\n",
        "- Haverá mais vagas nos EUA do que nos demais países.\n",
        "- Python e SQL devem ser as habilidades mais requisitadas do mercado.\n",
        "- No mercado brasileiro, deve haver uma grande tendência na área de Analista de Dados.\n",
        "- Grande parte das empresas no Brasil deverá ser do ramo da tecnologia."
      ]
    },
    {
      "cell_type": "markdown",
      "metadata": {
        "id": "HlkyV9GHihtE"
      },
      "source": [
        "### 🔹 Estrutura dos Dados\n",
        "\n",
        "Para o projeto, estamos trabalhando com dois datasets diferentes:\n",
        "\n",
        "- `ai_job_dataset.csv` → Dados referentes ao mercado global. O dataset está muito bem estruturado e não foram identificados valores duplicados ou campos vazios.\n",
        "\n",
        "- `job_data_cache.pkl` → Dados referentes ao mercado brasileiro. Embora haja uma quantidade significativa de registros, não há informações importantes como salário, graduação e experiência necessária, entre outras. Além disso, será necessário fazer um tratamento nesses dados para poder juntar com os dados globais e trabalhar com um unico Dataframe"
      ]
    },
    {
      "cell_type": "markdown",
      "metadata": {
        "id": "cNYy0zigihtF"
      },
      "source": [
        "### 🔹 Dicionário de Dados - AI Job Dataset\n",
        "\n",
        "| Coluna                  | Descrição (PT-BR)                                                                 | Tipo     |\n",
        "|------------------------|------------------------------------------------------------------------------------|----------|\n",
        "| `job_id`               | Identificador único para cada vaga                                                | String   |\n",
        "| `job_title`            | Título padronizado do cargo                                                       | String   |\n",
        "| `salary_usd`           | Salário anual em dólares (USD)                                                    | Integer  |\n",
        "| `salary_currency`      | Moeda original do salário                                                         | String   |\n",
        "| `experience_level`     | Nível de experiência (EN = Júnior, MI = Pleno, SE = Sênior, EX = Executivo)       | String   |\n",
        "| `employment_type`      | Tipo de contratação (FT = Tempo Integral, PT = Meio Período, CT = Contrato, FL = Freelancer) | String |\n",
        "| `company_location`     | País onde está localizada a empresa                                               | String   |\n",
        "| `company_size`         | Porte da empresa (S = Pequena <50, M = Média 50-250, L = Grande >250)             | String   |\n",
        "| `employee_residence`   | País de residência do funcionário                                                 | String   |\n",
        "| `remote_ratio`         | Nível de trabalho remoto (0 = Presencial, 50 = Híbrido, 100 = Remoto Total)       | Integer  |\n",
        "| `required_skills`      | Top 5 habilidades exigidas (separadas por vírgula)                                | String   |\n",
        "| `education_required`   | Nível mínimo de escolaridade exigido                                              | String   |\n",
        "| `years_experience`     | Anos de experiência exigidos                                                      | Integer  |\n",
        "| `industry`             | Setor de atuação da empresa                                                       | String   |\n",
        "| `posting_date`         | Data em que a vaga foi publicada                                                  | Date     |\n",
        "| `application_deadline`| Prazo final para candidatura                                                      | Date     |\n",
        "| `job_description_length`| Quantidade de caracteres da descrição da vaga                                   | Integer  |\n",
        "| `benefits_score`       | Pontuação numérica do pacote de benefícios (1 a 10)                               | Float    |\n",
        "| `company_name`       | Nome da Empresa                               | String    |\n"
      ]
    },
    {
      "cell_type": "markdown",
      "metadata": {
        "id": "MN7t8-1KihtF"
      },
      "source": [
        "### 🔹 Fonte de Dados\n",
        "\n",
        "A seguir, seguiremos com nosso estudo, com o propósito de tentar responder todas essas questões utilizando análise de dados e boas práticas.\n",
        "\n",
        "- **Dados Globais:** [Kaggle - Global AI Job Market and Salary Trends 2025](https://www.kaggle.com/datasets/bismasajjad/global-ai-job-market-and-salary-trends-2025)\n",
        "- **Dados Brasil:** [GitHub - LinkedIn Jobs Analysis](https://github.com/sch-paulo/linkedin_jobs_analysis/tree/main/data/cache)"
      ]
    },
    {
      "cell_type": "markdown",
      "metadata": {},
      "source": [
        "---"
      ]
    },
    {
      "cell_type": "markdown",
      "metadata": {},
      "source": [
        "## 🔶 Importação das Bibliotecas\n",
        "\n",
        "Como estamos trabalhando com arquivos diferentes, foi necessário realizar uma série de tratamentos para adequar os dados do Brasil ao formato do dataset global.\n",
        "\n",
        "No total, foram quase 300 linhas de código dedicadas ao processo de padronização. No entanto, foi uma ótima oportunidade para aplicar as lições do terceiro módulo de **Engenharia de Software** e da Sprint adicional **Programação Orientada a Objetos**.\n",
        "\n",
        "Para isso foi criado o arquivo `TratamentoDeDados.py`, contendo classes que centralizam responsabilidades específicas."
      ]
    },
    {
      "cell_type": "code",
      "execution_count": null,
      "metadata": {
        "colab": {
          "base_uri": "https://localhost:8080/"
        },
        "id": "bz7W1sF2du_-",
        "outputId": "27de1570-1b1e-4131-b762-a5c4cbf7a31c"
      },
      "outputs": [],
      "source": [
        "# Apaga o arquivo antigo local (se existir)\n",
        "!rm TratamentoDeDados.py\n",
        "# Baixa a nova versão\n",
        "!wget --no-cache https://raw.githubusercontent.com/Cavalheiro93/mvp-data-analyst-global-ai-market/refs/heads/main/TratamentoDeDados.py\n",
        "\n",
        "import pandas as pd\n",
        "import requests\n",
        "from io import BytesIO\n",
        "import importlib\n",
        "import TratamentoDeDados\n",
        "importlib.reload(TratamentoDeDados)\n",
        "# Importando os Módulos\n",
        "from TratamentoDeDados import PadronizacaoDadosBrasil, LimpezaInicialDados, LimpezaFinalDados, GeradorSkillsPorCategoria\n",
        "import matplotlib.pyplot as plt\n",
        "import matplotlib.gridspec as gridspec\n",
        "import seaborn as sns\n",
        "from seaborn import color_palette\n",
        "from warnings import filterwarnings\n",
        "filterwarnings('ignore')"
      ]
    },
    {
      "cell_type": "markdown",
      "metadata": {},
      "source": [
        "## 🔶 Criação dos DataFrames"
      ]
    },
    {
      "cell_type": "markdown",
      "metadata": {
        "id": "3vczUCPNif2L"
      },
      "source": [
        "Inicialmente tinhamos apenas as informações do Mercado Global, mas coincidentemente depois encontrei um post no Linkedin feito pelo **Sr. Paulo Schmitz Junior** (autor que gerou esses dados do Brasil). Assim passamos a usar também esssa base para o projeto.\n",
        "\n",
        "https://www.linkedin.com/posts/paulo-schmitz-junior_analisei-mais-de-5000-vagas-da-%C3%A1rea-de-dados-activity-7343276770411929601-06vE/?utm_medium=ios_app&rcm=ACoAACe4aOoBgrazyosYOj1k74g0Z44dvjeEN5M&utm_source=social_share_send&utm_campaign=copy_link\n",
        "\n",
        "\n",
        "Por garantia, implementamos um bloco `try` e `except` para se caso a URL original dos dados seja alterada, ele busque uma URL alternativa que tenha os mesmos dados só que no nosso repositório no GitHub."
      ]
    },
    {
      "cell_type": "code",
      "execution_count": null,
      "metadata": {},
      "outputs": [],
      "source": [
        "file_path_global = r\"https://raw.githubusercontent.com/Cavalheiro93/mvp-data-analyst-global-ai-market/refs/heads/main/source/ai_job_dataset.csv\"\n",
        "file_path_brasil = r'https://raw.githubusercontent.com/Cavalheiro93/mvp-data-analyst-global-ai-market/main/source/job_data_cache.xlsx'\n",
        "url_brasil_pkl = r'https://raw.githubusercontent.com/sch-paulo/linkedin_jobs_analysis/main/data/cache/job_data_cache.pkl'\n",
        "\n",
        "# Tenta importar os dados da url orginal\n",
        "try:\n",
        "    # Baixa os bytes do pickle\n",
        "    response = requests.get(url_brasil_pkl)\n",
        "    response.raise_for_status()\n",
        "\n",
        "    # Leitura do arquivo pickle\n",
        "    df_brasil = pd.read_pickle(BytesIO(response.content))\n",
        "\n",
        "    # Transforma apenas os valores do dict em um DataFrame\n",
        "    df_brasil = pd.DataFrame(list(df_brasil.values()))\n",
        "    print('🗃️ Dados importados da url original')\n",
        "\n",
        "# Caso der erro, importa os dados da url alternativa\n",
        "except:\n",
        "    df_brasil = pd.read_excel(file_path_brasil)\n",
        "    print('🗃️ Dados importados da url alternativa')\n",
        "\n",
        "# Importa os dados do Global\n",
        "df_global = pd.read_csv(file_path_global, sep=',', encoding='latin1')\n",
        "print(\"🗃️ Dados do Global importados\")"
      ]
    },
    {
      "cell_type": "markdown",
      "metadata": {
        "id": "2gZPhCSSihtK"
      },
      "source": [
        "## 🔶 Tratamento e Padronização dos Dados do Brasil\n",
        "Criamos a função `executar` da classe `PadronizacaoDadosBrasil`, que é responsável por **executar o pipeline completo de padronização dos dados do Brasil** "
      ]
    },
    {
      "cell_type": "code",
      "execution_count": null,
      "metadata": {
        "colab": {
          "base_uri": "https://localhost:8080/"
        },
        "id": "N8meG6TqihtL",
        "outputId": "88e6227a-eb13-4bfc-b4e4-d1eac2a8f6b2"
      },
      "outputs": [],
      "source": [
        "df_brasil = PadronizacaoDadosBrasil(df_brasil).executar()"
      ]
    },
    {
      "cell_type": "markdown",
      "metadata": {},
      "source": [
        "## 🔶 Unificação das Bases de Dados\n",
        "\n",
        "Com o `df_brasil` agora padronizado, podemos unificar essas duas bases para trabalhar com um unico Dataframe "
      ]
    },
    {
      "cell_type": "code",
      "execution_count": null,
      "metadata": {
        "id": "BXNMtErfihtM"
      },
      "outputs": [],
      "source": [
        "# Junta os DataFrames (Brasil embaixo do Global)\n",
        "df_unificado = pd.concat([df_global, df_brasil], ignore_index=True)"
      ]
    },
    {
      "cell_type": "markdown",
      "metadata": {
        "id": "pMc9wdcAihtM"
      },
      "source": [
        "---"
      ]
    },
    {
      "cell_type": "markdown",
      "metadata": {
        "id": "Ud-GKoBUjPW9"
      },
      "source": [
        "## 🔷 Pré Análise de Dados\n",
        "\n",
        "Nesta etapa, antes de mergulharmos na Análise Exploratória, visualizamos apenas os primeiros e ultimos registros, e o formato dos dados.\n"
      ]
    },
    {
      "cell_type": "markdown",
      "metadata": {
        "id": "A32W1dbji81S"
      },
      "source": [
        "### 🔹 Leitura das 5 primeiras linhas"
      ]
    },
    {
      "cell_type": "code",
      "execution_count": null,
      "metadata": {
        "colab": {
          "base_uri": "https://localhost:8080/",
          "height": 400
        },
        "id": "ssq8RCIYVQa-",
        "outputId": "358a17d8-ccfd-49f0-a6f1-4828e3c0fa20"
      },
      "outputs": [],
      "source": [
        "df_unificado.head()"
      ]
    },
    {
      "cell_type": "markdown",
      "metadata": {
        "id": "J9KAaSC5ihtN"
      },
      "source": [
        "### 🔹 Leitura das 5 últimas linhas"
      ]
    },
    {
      "cell_type": "code",
      "execution_count": null,
      "metadata": {
        "colab": {
          "base_uri": "https://localhost:8080/",
          "height": 400
        },
        "id": "18l-BZVqihtN",
        "outputId": "066a518b-6008-4468-c877-69b1b6ca089f"
      },
      "outputs": [],
      "source": [
        "df_unificado.tail()"
      ]
    },
    {
      "cell_type": "markdown",
      "metadata": {
        "id": "gqDU8ofApq0a"
      },
      "source": [
        "### 🔹 Tipos de Dados"
      ]
    },
    {
      "cell_type": "code",
      "execution_count": null,
      "metadata": {
        "colab": {
          "base_uri": "https://localhost:8080/",
          "height": 680
        },
        "id": "zsOBjOfher0L",
        "outputId": "a1063087-ef3c-4753-e4c4-60a3bc29a7a0"
      },
      "outputs": [],
      "source": [
        "df_unificado.dtypes"
      ]
    },
    {
      "cell_type": "markdown",
      "metadata": {
        "id": "3rRhvzDbrcSM"
      },
      "source": [
        "De cara, percebemos que as colunas `posting_date` e `application_deadline` não estão no formato *date* conforme mencionado no Dicionário de Dados.\n",
        "\n",
        "Faremos os ajustes necessários a seguir"
      ]
    },
    {
      "cell_type": "markdown",
      "metadata": {
        "id": "qCJT_-WSihtO"
      },
      "source": [
        "---"
      ]
    },
    {
      "cell_type": "markdown",
      "metadata": {
        "id": "t4LaUUazbeyE"
      },
      "source": [
        "## 🔶Pré Tratamento dos Dados\n",
        "\n",
        "Criamos a classe `LimpezaInicialDados` que fará alguns ajustes finos nos dados.\n",
        "\n",
        "Basicamente:\n",
        "- removemos duplicatas\n",
        "- Convertemos dados para o formato adequado\n",
        "- Renomeamos alguns registro para facilitar a interpretação das informações "
      ]
    },
    {
      "cell_type": "code",
      "execution_count": null,
      "metadata": {
        "colab": {
          "base_uri": "https://localhost:8080/"
        },
        "id": "ByRux-TgdvAA",
        "outputId": "b5ffe5b8-ed4e-449f-8c07-c42e8db59238"
      },
      "outputs": [],
      "source": [
        "print('Limpando os dados do Dataframe: df_unificado')\n",
        "df_unificado = LimpezaInicialDados(df_unificado).executar()"
      ]
    },
    {
      "cell_type": "markdown",
      "metadata": {
        "id": "9sf4HZzvmDqC"
      },
      "source": [
        "### 🔸 Formato das Colunas Modificadas"
      ]
    },
    {
      "cell_type": "code",
      "execution_count": null,
      "metadata": {
        "colab": {
          "base_uri": "https://localhost:8080/",
          "height": 304
        },
        "id": "2TWqiTxB8MJI",
        "outputId": "ccfa1dbd-7ba5-4661-cbc9-0d444cd826c1"
      },
      "outputs": [],
      "source": [
        "df_unificado[['posting_date', 'application_deadline', 'Start_Month','remote_ratio', 'experience_level', 'employment_type', 'company_size']].dtypes"
      ]
    },
    {
      "cell_type": "markdown",
      "metadata": {
        "id": "xrhi-MJ0dvAB"
      },
      "source": [
        "### 🔸 Leitura das 5 primeiras linhas"
      ]
    },
    {
      "cell_type": "code",
      "execution_count": null,
      "metadata": {
        "colab": {
          "base_uri": "https://localhost:8080/",
          "height": 382
        },
        "id": "VtBih6YadvAB",
        "outputId": "967a6e95-8a4c-4b9c-a2d2-056cfe98fb7f"
      },
      "outputs": [],
      "source": [
        "df_unificado.head()"
      ]
    },
    {
      "cell_type": "markdown",
      "metadata": {},
      "source": [
        "### 🔸 Leitura das 5 últimas linhas"
      ]
    },
    {
      "cell_type": "code",
      "execution_count": null,
      "metadata": {
        "colab": {
          "base_uri": "https://localhost:8080/",
          "height": 382
        },
        "id": "wMqD4YwtihtQ",
        "outputId": "a75ad157-3d1e-40cf-c2a4-cb9ae4401d42"
      },
      "outputs": [],
      "source": [
        "df_unificado.tail()"
      ]
    },
    {
      "cell_type": "markdown",
      "metadata": {
        "id": "xLDCtdLklLMu"
      },
      "source": [
        "### 🔸 Garantindo que as vagas tenham ao menos 1 `required_skills`\n",
        "\n",
        "Percebemos nos registros do Brasil, haviam algumas vagas que não tinha relação alguma com a área de Dados ou Inteligência Artificial.\n",
        "\n",
        "A maneira que encontramos de garantir que tenhamos apenas vagas do nosso interesse, foi filtrar áreas que tenham ao menos uma **habilidade** referente a área de dados ou de IA.\n",
        "\n",
        " "
      ]
    },
    {
      "cell_type": "code",
      "execution_count": null,
      "metadata": {
        "id": "9SQJsHZdkN5M"
      },
      "outputs": [],
      "source": [
        "df_unificado = df_unificado.loc[(df_unificado['required_skills'] != \"\")]"
      ]
    },
    {
      "cell_type": "markdown",
      "metadata": {
        "id": "rEIUQHXAihtQ"
      },
      "source": [
        "### 🔸 Tamanho do Dataframe"
      ]
    },
    {
      "cell_type": "code",
      "execution_count": null,
      "metadata": {
        "colab": {
          "base_uri": "https://localhost:8080/"
        },
        "id": "H0PQVQhQihtR",
        "outputId": "030ec173-edaf-4631-e878-533dbfaabf0e"
      },
      "outputs": [],
      "source": [
        "df_unificado.shape"
      ]
    },
    {
      "cell_type": "markdown",
      "metadata": {
        "id": "rNOU_v7NyJWa"
      },
      "source": [
        "---"
      ]
    },
    {
      "cell_type": "markdown",
      "metadata": {
        "id": "Jg9egY-Wtbq1"
      },
      "source": [
        "## 🔷 Análise descritiva dos dados\n",
        "\n",
        "A seguir, usaremos a função `df.describe` para exibir informações descritivas de cada uma das colunas, sendo elas:\n",
        "- Contagem de registros\n",
        "- Valores Únicos\n",
        "- Média\n",
        "- Desvio padrão\n",
        "- Quartal\n",
        "- Minimo e Máximo\n",
        "- Valor mais frequente e contagem da frequência"
      ]
    },
    {
      "cell_type": "markdown",
      "metadata": {
        "id": "E7SLV4K_w3OI"
      },
      "source": [
        "### 🔹 Descritiva das colunas tipo Texto"
      ]
    },
    {
      "cell_type": "code",
      "execution_count": null,
      "metadata": {
        "colab": {
          "base_uri": "https://localhost:8080/",
          "height": 363
        },
        "id": "XB9VpAxcv3KR",
        "outputId": "1fbcb7c6-052b-4fba-a2a5-519f683562ff"
      },
      "outputs": [],
      "source": [
        "# Seleciona apenas as colunas do tipo string (object)\n",
        "df_unificado.select_dtypes(include='object').describe().transpose()"
      ]
    },
    {
      "cell_type": "markdown",
      "metadata": {
        "id": "QLvAtX_m2MjW"
      },
      "source": [
        "Resumo:\n",
        "- Nosso `df_unificado.shape` mostrou um total de 25000 linhas, então aqui já notamos alguns campos com valores vazios, tais como: `salary_currency`,`employee_residence`, `education_required`.\n",
        "- Como esperávamos, não demos `job_id` repetidos, garantindo ele como uma chave primária.\n",
        "- O registro da Área que mais aparece é ***Data Engineer*** com ***6922 vezes*** no Dataframe.\n",
        "- O campo `required_skills` possui **15761** registros unicos, isso porque cada vaga possui uma ***combinação de habilidades***. Para esse campo em específico, teremos que pensar em uma outra abordagem para tirar um insight melhor das habilidades mais requisitadas.\n",
        "- No campo `company_location` o registro mais frequente é **Brasil** com **10000 vagas**. Concluí-se que do Global temos 15000 registros contra 10000 do Brasil. Isso fica claro quando analisamos campos com 15000 registros (ex: `employee_residence`) que no caso não temos essa informação do Brasil, e foi necessário atribuir como Vazio."
      ]
    },
    {
      "cell_type": "markdown",
      "metadata": {
        "id": "Qc1RkuYMxHaZ"
      },
      "source": [
        "### 🔹 Descritiva das colunas tipo Número Inteiro"
      ]
    },
    {
      "cell_type": "code",
      "execution_count": null,
      "metadata": {
        "colab": {
          "base_uri": "https://localhost:8080/",
          "height": 143
        },
        "id": "eHR_6wZhswrm",
        "outputId": "2fa8e825-8fb4-43b2-9488-0f4492a33119"
      },
      "outputs": [],
      "source": [
        "# Seleciona apenas as colunas do tipo inteiro (int)\n",
        "df_unificado.select_dtypes(include='int').describe().transpose()"
      ]
    },
    {
      "cell_type": "markdown",
      "metadata": {
        "id": "OYV_ogqg6ZtA"
      },
      "source": [
        "Resumo:\n",
        "- Aqui também notamos alguns campos com valores vazios, tais como: `salary_usd`,`years_experience`.\n",
        "- O Salário anual varia entre 32k e 399k, com uma média aproximadamente de 115k.\n",
        "- O desvio padrão de 60k indica que há uma **alta dispersão** salarial entre as vagas disponíveis\n",
        "- A exigência para a maior parte das vagas está em 5 anos de experiência (Mediana), porém ainda há vagas que não requerem experiência prévia (years_experience = 0)"
      ]
    },
    {
      "cell_type": "markdown",
      "metadata": {
        "id": "u5rPfWWDycq6"
      },
      "source": [
        "### 🔹 Descritiva das colunas tipo Número Decimal"
      ]
    },
    {
      "cell_type": "code",
      "execution_count": null,
      "metadata": {
        "colab": {
          "base_uri": "https://localhost:8080/",
          "height": 81
        },
        "id": "Y8rkAtzNuu33",
        "outputId": "446c2794-2f35-4c51-cd40-812953350dde"
      },
      "outputs": [],
      "source": [
        "# Seleciona apenas as colunas do tipo decimais (float)\n",
        "df_unificado.select_dtypes(include='float').describe().transpose()"
      ]
    },
    {
      "cell_type": "markdown",
      "metadata": {
        "id": "YzdJ22BKq6Am"
      },
      "source": [
        "Resumo:\n",
        "- Temos registros vazios para o campo `benefits_score`, no que se diz respeito a falta dos dados do Brasil\n",
        "- Grande parte dos beneficios estão com o score de 7.5, que não é ruim para Benefícios\n",
        "- O desvio padrão de 1.45 indica que há uma **baixa dispersão**, onde grande parte das vagas possuem benefícios próximo a média"
      ]
    },
    {
      "cell_type": "markdown",
      "metadata": {
        "id": "AEC_lv-8yfVM"
      },
      "source": [
        "### 🔹 Descritiva das colunas tipo Data"
      ]
    },
    {
      "cell_type": "code",
      "execution_count": null,
      "metadata": {
        "colab": {
          "base_uri": "https://localhost:8080/",
          "height": 112
        },
        "id": "nkW8uKVRv0Gg",
        "outputId": "f90fb838-d612-4f00-d68e-bd99f75d01c3"
      },
      "outputs": [],
      "source": [
        "# Seleciona apenas as colunas do tipo data (datetime64)\n",
        "df_unificado.select_dtypes(include='datetime64').describe().transpose()"
      ]
    },
    {
      "cell_type": "markdown",
      "metadata": {
        "id": "Wg89NIp3PCIk"
      },
      "source": [
        "Resumo\n",
        "- Não temos registros vazios para as colunas de tipo Decimais\n",
        "- A data em que as vagas foram postadas vão de 01/01/2024 até 22/06/2025"
      ]
    },
    {
      "cell_type": "markdown",
      "metadata": {
        "id": "kYokPfB7bORV"
      },
      "source": [
        "### 🔹 Descritiva das colunas tipo Categoria"
      ]
    },
    {
      "cell_type": "code",
      "execution_count": null,
      "metadata": {
        "colab": {
          "base_uri": "https://localhost:8080/",
          "height": 175
        },
        "id": "zxD67z5j1yw-",
        "outputId": "737dba78-13ab-4d90-b7ab-08ca659d43b3"
      },
      "outputs": [],
      "source": [
        "# Seleciona apenas as colunas do tipo Categoria (category)\n",
        "df_unificado.select_dtypes(include='category').describe().transpose()"
      ]
    },
    {
      "cell_type": "markdown",
      "metadata": {
        "id": "ONRrKARVPP4M"
      },
      "source": [
        "Resumo\n",
        "- Não temos registros vazios para as colunas de tipo Decimais\n",
        "- Embora a maior parte das vagas sejam presenciais (On-site), ainda temos maior parte delas sendo remota ou híbrida\n",
        "- A maior parte dos modelos de trabalho (`employment_type`) analisados são **Full-time**, acredito que muito se deve ao Brasil que trabalhamos grande parte no modelo de Período Integral"
      ]
    },
    {
      "cell_type": "markdown",
      "metadata": {},
      "source": [
        "---"
      ]
    },
    {
      "cell_type": "markdown",
      "metadata": {
        "id": "LWZNu02Jb-UE"
      },
      "source": [
        "## 🔷 Análise Exploratória dos Dados\n",
        "Nesta etapa, exploramos o dataset para obter os primeiros insights e definir as informações relevantes. Utilizamos Mapa de Calor (correlações), Gráfico de Dispersão (distribuições) e Boxplot (outliers).\n",
        "\n",
        "Essa etapa é essencial para identificar padrões, tendências e possíveis problemas nos dados, além de ajudar a definir quais informações serão úteis para a análise final."
      ]
    },
    {
      "cell_type": "markdown",
      "metadata": {},
      "source": [
        "#### **⚠️ Observação**\n",
        "Como o dataset do Brasil foi adaptado para o Global, algumas variáveis (ex.: salário, experiência) estão ausentes em parte dos dados.\n",
        "\n",
        "Indicaremos quando as análises se referirem apenas a um dos conjuntos."
      ]
    },
    {
      "cell_type": "markdown",
      "metadata": {
        "id": "6zNYfJxGuypY"
      },
      "source": [
        "### 🔹 Mapa de Calor (Heatmap) | Somente Global 🌍\n",
        "A seguir, usaremos o mapa de calor (ou heatmap) para identificar as correlações entre as variáveis do tipo numéricas.\n",
        "\n",
        "*Como não temos informações do Brasil, vamos estudar somente dados do Global*."
      ]
    },
    {
      "cell_type": "code",
      "execution_count": null,
      "metadata": {},
      "outputs": [],
      "source": [
        "# Seleciona apenas colunas numéricas do Global\n",
        "df_numericas = df_unificado[df_unificado['company_location'] != 'Brasil'].select_dtypes(include=['int64', 'float64', 'bool'])\n",
        "#df_numericas = df_unificado.select_dtypes(include=['int64', 'float64'])\n",
        "\n",
        "\n",
        "# Calcula a matriz de correlação\n",
        "matriz_corr = df_numericas.corr()\n",
        "\n",
        "# Define o tamanho da figura\n",
        "plt.figure(figsize=(6, 3))\n",
        "\n",
        "# Cria o heatmap com anotações\n",
        "sns.heatmap(matriz_corr, annot=True, cmap='coolwarm', fmt='.2f', linewidths=1)\n",
        "\n",
        "# Título\n",
        "plt.title('Mapa de Correlação entre Variáveis Numéricas')\n",
        "plt.xticks(rotation=85)\n",
        "plt.yticks(rotation=0)\n",
        "plt.show()"
      ]
    },
    {
      "cell_type": "markdown",
      "metadata": {
        "id": "eB-K252DuypY"
      },
      "source": [
        "Resumo:\n",
        "- Percebemos uma forte correlação entre `salary_usd` e `years_experience`, algo que já cogitávamos antes.\n",
        "- Entretanto, os `benefits_score` não tem forte correlação com `salary_usd` e `years_experience`. Não necessariamente melhores salários ou anos de experiência trarão melhores benefícios no Global. "
      ]
    },
    {
      "cell_type": "markdown",
      "metadata": {},
      "source": [
        "### 🔹 Aplicação do Onehot Encoding\n",
        "\n",
        "Para complementar a análise, era necessário incluir também as variáveis categóricas na matriz de correlação. Para isso, aplicamos o One-Hot Encoding nos campos categóricos, transformando-os em variáveis numéricas."
      ]
    },
    {
      "cell_type": "code",
      "execution_count": null,
      "metadata": {},
      "outputs": [],
      "source": [
        "# Aplica One-Hot Encoding direto no df_unificado\n",
        "df_encoded = pd.get_dummies(\n",
        "    df_unificado, \n",
        "    columns=['experience_level', 'employment_type', 'company_size', 'remote_ratio'],\n",
        "    drop_first=False\n",
        ")"
      ]
    },
    {
      "cell_type": "markdown",
      "metadata": {},
      "source": [
        "### 🔹 Mapa de Calor (Heatmap) com dados Categóricos transformados | Somente Global 🌍\n",
        "\n",
        "\n",
        "com as variáveis categóricas no novo Heatmap, agora podemos visualizar mais correlações, possíveis padrões e mais insights."
      ]
    },
    {
      "cell_type": "code",
      "execution_count": null,
      "metadata": {},
      "outputs": [],
      "source": [
        "# Exclui os dados do Brasil\n",
        "df_encoded_global = df_encoded[df_encoded['company_location'] != 'Brasil']\n",
        "\n",
        "# Seleciona apenas colunas numéricas do Global\n",
        "df_numericas = df_encoded_global.select_dtypes(include=['int64', 'float64', 'bool'])\n",
        "\n",
        "# Calcula a matriz de correlação\n",
        "matriz_corr = df_numericas.corr()\n",
        "\n",
        "# Define o tamanho da figura\n",
        "plt.figure(figsize=(11, 5))\n",
        "\n",
        "# Cria o heatmap com anotações\n",
        "sns.heatmap(matriz_corr, annot=True, cmap='coolwarm', fmt='.2f', linewidths=1)\n",
        "\n",
        "# Título\n",
        "plt.title('Mapa de Correlação | Somente Global')\n",
        "plt.xticks(rotation=85)\n",
        "plt.yticks(rotation=0)\n",
        "plt.show()"
      ]
    },
    {
      "cell_type": "markdown",
      "metadata": {},
      "source": [
        "Resumo:\n",
        "- Com uma visão mais abrangente dos dados, de cara percebemos uma forte correlação do campo `experience_level_4-Executive` com `salary_usd` ***(0.69)*** e `years_experience` ***(0.86)***. Portanto já esperávamos isso, cargos Executivos possuem os maiores salários e esperam mais anos de experiência.\n",
        "- Portanto, para o `experience_level_3-Senior` a correlação não é tão forte, isso porque apesar de mais experiente que **Junior** e **Mid-level**, geralmente não tem salários ou anos de experiência tão distantes do restante do dataset.\n",
        "- Já nos campos `experience_level_1-Entry-level` e `experience_level_2-Mid-level` percebemos uma correlação negativa forte, onde a categoria está muito presente nos menores salários e anos de experiência.\n",
        "- Embora a correlação não seja tão forte como no `experience_level`, ainda assim percebemos também uma correlação positiva em `company_size_3-Large [>250]` com `salary_usd` e correlação negativa com `company_size_1-Small [<50]`. Então no Global, grandes empresas tendem a pagar melhores salários, mas não é regra por conta da força da correlação."
      ]
    },
    {
      "cell_type": "code",
      "execution_count": null,
      "metadata": {},
      "outputs": [],
      "source": [
        "# Inclui os dados do Brasil\n",
        "df_encoded_brasil = df_encoded[df_encoded['company_location'] == 'Brasil']\n",
        "\n",
        "# Seleciona apenas colunas numéricas do Global\n",
        "df_numericas = df_encoded_brasil.select_dtypes(include=['int64', 'float64', 'bool'])\n",
        "\n",
        "# Calcula a matriz de correlação\n",
        "matriz_corr = df_numericas.corr()\n",
        "\n",
        "# Define o tamanho da figura\n",
        "plt.figure(figsize=(11, 5))\n",
        "\n",
        "# Cria o heatmap com anotações\n",
        "sns.heatmap(matriz_corr, annot=True, cmap='coolwarm', fmt='.2f', linewidths=1)\n",
        "\n",
        "# Título\n",
        "plt.title('Mapa de Correlação | Somente Brasil')\n",
        "plt.xticks(rotation=85)\n",
        "plt.yticks(rotation=0)\n",
        "plt.show()"
      ]
    },
    {
      "cell_type": "markdown",
      "metadata": {},
      "source": [
        "Resumo:\n",
        "- Mesmo sem tantos dados como o Global, ainda assim no Brasil conseguimos visualizar alguns pontos importantes como forte correlação positiva de `experience_level_1-Entry-level` com `remote_ratio_1-On-site`. No Brasil, nota-se a importância que as empresas dão aos iniciantes de trabalharem presencialmente.\n",
        "\n",
        "- Portanto há outro detalhe bastante curioso. Quando se pula um nível (`Mid-level`) essa correlação se inverte, e há uma demanda maior para vagas remotas e hibridas do que presenciais\n",
        "\n",
        "| experience_level                  | `remote_ratio_1-On-site` | `remote_ratio_2-Hybrid` | `remote_ratio_3-Remote` |\n",
        "|-----------------------------------|--------------------------|-------------------------|-------------------------|\n",
        "| `experience_level_1-Entry-level`  | +0.28                    |          -0.11          |         -0.20           |\n",
        "| `experience_level_2-Mid-level`    | -0.24                    |          +0.08          |         +0.18           |\n",
        "\n",
        "- E então para os níveis mais altos `Senior` e `Executive` isso se estabiliza. Pode-se dizer que para níveis mais altos, muitas empresas no Brasil fazem questão dos cargos de confiança estarem presencial"
      ]
    },
    {
      "cell_type": "markdown",
      "metadata": {
        "id": "loTGXN_suypY"
      },
      "source": [
        "### 🔹 Gráfico de Dispersão (scatterplot) | Somente Global 🌍\n",
        "Já que identificamos a correlação entre `salary_usd` e `years_experience`, vamos usar o gráfico de dispersão (ou scatterplot), para entender melhor essa distribuição"
      ]
    },
    {
      "cell_type": "code",
      "execution_count": null,
      "metadata": {
        "colab": {
          "base_uri": "https://localhost:8080/",
          "height": 565
        },
        "id": "vy3AqVEvfddQ",
        "outputId": "8622310c-1b2b-44a0-807b-c1b9052c5597"
      },
      "outputs": [],
      "source": [
        "plt.figure(figsize=(10, 6))\n",
        "sns.scatterplot(data=df_global, x='years_experience', y='salary_usd')\n",
        "plt.title('Scatterplot de Salário vs. Experiência Profissional | Somente Global')\n",
        "plt.xlabel('Anos de Experiência')\n",
        "plt.ylabel('Salário (USD)')\n",
        "plt.show()"
      ]
    },
    {
      "cell_type": "markdown",
      "metadata": {
        "id": "HdEYrMIjuypZ"
      },
      "source": [
        "Resumo:\n",
        "- Antes dos 10 anos de experiência, a maioria dos salários fica abaixo de 250K dólares anuais, mostrando um teto para profissionais em início de carreira no Global.\n",
        "\n",
        "- A partir dos 10 anos, os salários passam a se dispersar mais, com muitos ultrapassando 300K e alguns chegando a 400K dólares (outliers).\n",
        "\n",
        "- Essa maior variação salarial depois dos 10 anos sugere que fatores como área de atuação e posição hierárquica passam a ter maior influência na remuneração, aumentando as diferenças entre profissionais com experiência semelhante."
      ]
    },
    {
      "cell_type": "markdown",
      "metadata": {
        "id": "8UtpJ0cKuypZ"
      },
      "source": [
        "### 🔹 Gráfico de Caixa (boxplot) | Somente Global 🌍\n",
        "Vamos analisar a Distribuição Salarial dentro dos Níveis de experiência com o Boxplot agora"
      ]
    },
    {
      "cell_type": "code",
      "execution_count": null,
      "metadata": {
        "colab": {
          "base_uri": "https://localhost:8080/",
          "height": 565
        },
        "id": "oSXhfvrddvAH",
        "outputId": "e66efeb9-5a9d-4929-a45e-ac3bde4d16cd"
      },
      "outputs": [],
      "source": [
        "df_boxplot = df_unificado[df_unificado['company_location'] != 'Brasil']\n",
        "\n",
        "# Gráfico\n",
        "plt.figure(figsize=(10, 6))\n",
        "ax = sns.boxplot(data=df_boxplot, x='experience_level', y='salary_usd')\n",
        "\n",
        "# Quartis por categoria\n",
        "quartis = df_boxplot.groupby('experience_level')['salary_usd'].quantile([0.25, 0.5, 0.75]).unstack()\n",
        "\n",
        "# Adiciona as anotações no gráfico\n",
        "for i, (cat, row) in enumerate(quartis.iterrows()):\n",
        "    ax.text(i, row[0.25], f\"Q1: {row[0.25]:,.0f}\", color='red', ha='center', va='bottom', fontsize=8)\n",
        "    ax.text(i, row[0.5], f\"Q2: {row[0.5]:,.0f}\", color='white', ha='center', va='bottom', fontsize=8)\n",
        "    ax.text(i, row[0.75], f\"Q3: {row[0.75]:,.0f}\", color='blue', ha='center', va='bottom', fontsize=8)\n",
        "\n",
        "plt.title(\"Distribuição Salarial por Nível de Experiência | Somente Global\")\n",
        "plt.ylabel(\"Salário (USD)\")\n",
        "plt.show()"
      ]
    },
    {
      "cell_type": "markdown",
      "metadata": {
        "id": "zeZi-kvzdvAH"
      },
      "source": [
        "Resumo:\n",
        "- Nos níveis iniciais de experiência (`Entry-level`), os ***salários são mais concentrados em uma faixa estreita, geralmente entre 50.000 e 75.000 USD anuais***, com poucos casos acima de 100.000 USD considerados outliers.\n",
        "\n",
        "- À medida que a experiência aumenta (`Mid-level` e `Senior`), a ***faixa salarial se torna mais ampla, mostrando maior variabilidade*** e indicando que fatores individuais começam a influenciar mais os salários.\n",
        "\n",
        "- A distribuição salarial apresenta leve assimetria positiva: a mediana tende a ficar mais próxima do limite inferior da faixa, enquanto os salários mais altos são mais dispersos e geram outliers.\n",
        "\n",
        "- No nível `Executive`, a ***variabilidade salarial é a maior de todas, com a maioria dos salários entre 145.000 e 225.000 USD***, mas com muitos casos ultrapassando essa faixa e chegando perto de 400.000 USD, evidenciando ***grande disparidade em cargos de liderança***."
      ]
    },
    {
      "cell_type": "markdown",
      "metadata": {
        "id": "ekS4f_Cyihtd"
      },
      "source": [
        "### 🔹 Gráficos de Barras visão Geral | Somente Global 🌍"
      ]
    },
    {
      "cell_type": "code",
      "execution_count": null,
      "metadata": {
        "colab": {
          "base_uri": "https://localhost:8080/",
          "height": 1000
        },
        "id": "24c7hK8sdvAH",
        "outputId": "3bf6e2b1-3a1d-4e77-f4ea-28afbec67839"
      },
      "outputs": [],
      "source": [
        "# Exclui os dados do Brasil\n",
        "df_bar = df_unificado[df_unificado['company_location'] != 'Brasil']\n",
        "\n",
        "\n",
        "# Lista de colunas categóricas (benefits_score será tratado separado)\n",
        "categorias = ['job_title', 'employment_type', 'company_location',\n",
        "              'company_size', 'employee_residence',\n",
        "              'remote_ratio', 'education_required', 'industry']\n",
        "\n",
        "viridis = color_palette(\"viridis\", len(categorias))\n",
        "\n",
        "# Configura a grade: 4 linhas (a última será só para benefits_score), 3 colunas\n",
        "fig = plt.figure(figsize=(18, 22))\n",
        "gs = gridspec.GridSpec(4, 3, figure=fig)\n",
        "gs.update(hspace=0.6)  # Espaçamento vertical\n",
        "\n",
        "# Loop para os primeiros 8 gráficos (3x3 menos o último espaço)\n",
        "for i, coluna in enumerate(categorias):\n",
        "    ax = fig.add_subplot(gs[i // 3, i % 3])\n",
        "    contagem = df_bar[coluna].value_counts()\n",
        "    sns.barplot(x=contagem.values, y=contagem.index, color=viridis[i], ax=ax)\n",
        "    ax.set_title(f'Distribuição: {coluna}', fontsize=12)\n",
        "    ax.set_xlabel('Contagem')\n",
        "    ax.set_ylabel('')\n",
        "\n",
        "# Gráfico do benefits_score ocupando a linha inteira (linha 3, colunas 0 até 2)\n",
        "ax_big = fig.add_subplot(gs[3, :])  # Usa a linha inteira\n",
        "contagem_benefits = df_bar['benefits_score'].value_counts()\n",
        "sns.barplot(x=contagem_benefits.index, y=contagem_benefits.values, color=viridis[i], ax=ax_big)\n",
        "ax_big.set_title('Distribuição: benefits_score', fontsize=14)\n",
        "ax_big.set_xlabel('Categoria')\n",
        "ax_big.set_ylabel('Contagem')\n",
        "ax_big.tick_params(axis='x', rotation=45)\n",
        "\n",
        "plt.tight_layout()\n",
        "plt.show()"
      ]
    },
    {
      "cell_type": "markdown",
      "metadata": {
        "id": "EAmGilXbdvAH"
      },
      "source": [
        "Resumo\n",
        "- Após a visualização consolidada de todos os gráficos de barras, a primeira impressão é de que os dados estão bem distribuídos entre as categorias.\n",
        "- Observamos uma boa variação entre os valores, sem a presença de categorias que dominam esmagadoramente os registros (ex: nenhuma com mais de 90% de ocorrência).\n",
        "\n",
        "- Isso nos dá segurança para análises comparativas futuras, já que as categorias têm representatividade suficiente e não sofrem com viés por baixa amostragem.\n",
        "\n",
        "- A única exceção foi a variável `benefits_score`, que apresentou um leve padrão de concentração nas pontas:\n",
        "\n",
        "    - Algumas empresas atribuíram nota mínima (5.0), enquanto outras marcaram nota máxima (10.0).\n",
        "\n",
        "    - Mesmo assim, a distribuição geral dos scores está relativamente próxima e equilibrada, sem grandes distorções."
      ]
    },
    {
      "cell_type": "markdown",
      "metadata": {
        "id": "ptE-n4Y2ihte"
      },
      "source": [
        "### 🔹 Gráficos de Barras visão Geral | Somente Brasil"
      ]
    },
    {
      "cell_type": "code",
      "execution_count": null,
      "metadata": {
        "colab": {
          "base_uri": "https://localhost:8080/",
          "height": 798
        },
        "id": "OoA1J-_Aihte",
        "outputId": "7b0ac57c-4c22-4d82-b2fa-ff0f07a0aaa2"
      },
      "outputs": [],
      "source": [
        "df_bar = df_unificado.loc[df_unificado['company_location'] == 'Brasil']\n",
        "\n",
        "\n",
        "# Lista de colunas categóricas (benefits_score será tratado separado)\n",
        "categorias = ['job_title', 'employment_type', 'company_location',\n",
        "              'remote_ratio', 'industry']\n",
        "\n",
        "viridis = color_palette(\"viridis\", len(categorias))\n",
        "\n",
        "# Configura a grade: 4 linhas (a última será só para benefits_score), 3 colunas\n",
        "fig = plt.figure(figsize=(18, 10))\n",
        "gs = gridspec.GridSpec(2, 3, figure=fig)\n",
        "gs.update(hspace=0.6)  # Espaçamento vertical\n",
        "\n",
        "# Loop para os primeiros 8 gráficos (3x3 menos o último espaço)\n",
        "for i, coluna in enumerate(categorias):\n",
        "    ax = fig.add_subplot(gs[i // 3, i % 3])\n",
        "    contagem = df_bar[coluna].value_counts()\n",
        "    sns.barplot(x=contagem.values, y=contagem.index, color=viridis[i], ax=ax)\n",
        "    ax.set_title(f'Distribuição: {coluna}', fontsize=12)\n",
        "    ax.set_xlabel('Contagem')\n",
        "    ax.set_ylabel('')\n",
        "\n",
        "plt.tight_layout()\n",
        "plt.show()"
      ]
    },
    {
      "cell_type": "markdown",
      "metadata": {
        "id": "I7na4G9bihtf"
      },
      "source": [
        "Resumo:\n",
        "\n",
        "- Na contramão do Global, há uma demanda muito grande de Engenheiro de Dados no Brasil.\n",
        "\n",
        "- A modalidade de Trabalho de Período Integral (Full-Time) permance dominando o mercado brasileiro, mesmo para a área de Dados e IA.\n",
        "\n",
        "- O que surpreende (no meu ponto de vista de forma negativa), é que a demanda de trabalhos presenciais (On-Site) ainda dominam o mercado, mais que a híbrida e 100% remota.\n",
        "\n",
        "- Mas como vimos anteriormente, essa demanda de trabalho presenciais e sua maioria são para os primeiros níveis (Estágios e Juniors), o que se torna justificável."
      ]
    },
    {
      "cell_type": "markdown",
      "metadata": {
        "id": "eN7TPBr9ihtf"
      },
      "source": [
        "### 🔹 Gráfico de Caixa (boxplot) | Benefits Score | Somente Global 🌍\n",
        "Aqui usamos o Boxplot para visualizar a distribuição do `benefits_score` em todas as empresas do Global, para análisar se há um país que oferece melhores benefícios que outros"
      ]
    },
    {
      "cell_type": "code",
      "execution_count": null,
      "metadata": {
        "colab": {
          "base_uri": "https://localhost:8080/",
          "height": 567
        },
        "id": "fihZCbLfdvAH",
        "outputId": "a224337c-59d5-4fe3-95f1-69a460e848df"
      },
      "outputs": [],
      "source": [
        "# Define a ordem baseada na mediana de salary_usd\n",
        "ordem = df_global.groupby('company_location')['salary_usd'].median().sort_values().index\n",
        "\n",
        "# Cria subplots: 2 linhas x 1 coluna\n",
        "fig, axes = plt.subplots(2, 1, figsize=(18, 9))\n",
        "\n",
        "#=========================================================================================\n",
        "# Gráfico 1: Salários\n",
        "#=========================================================================================\n",
        "sns.boxplot(\n",
        "    x='company_location',\n",
        "    y='salary_usd',\n",
        "    data=df_global,\n",
        "    palette='pastel',\n",
        "    order=ordem,\n",
        "    ax=axes[0]\n",
        ")\n",
        "\n",
        "# Calcula apenas a mediana (Q2) por company_location (mais eficiente!)\n",
        "medianas = df_global.groupby('company_location')['salary_usd'].median()\n",
        "\n",
        "# Adiciona apenas as anotações do Q2 no gráfico\n",
        "for i, cat in enumerate(ordem):\n",
        "    if cat in medianas.index:\n",
        "        axes[0].text(\n",
        "            i,\n",
        "            medianas[cat],\n",
        "            f\"Q2: {medianas[cat]:,.0f}\",\n",
        "            color='blue',\n",
        "            ha='center',\n",
        "            va='bottom',\n",
        "            fontsize=8\n",
        "        )\n",
        "\n",
        "axes[0].set_title('Distribuição de Salários por Localização da Empresa (Ordenado)')\n",
        "axes[0].set_xlabel('')\n",
        "axes[0].set_ylabel('Salário (USD)')\n",
        "axes[0].tick_params(axis='x', rotation=70)\n",
        "\n",
        "#=========================================================================================\n",
        "# Gráfico 2: Benefits Score\n",
        "#=========================================================================================\n",
        "sns.boxplot(\n",
        "    x='company_location',\n",
        "    y='benefits_score',\n",
        "    data=df_global,\n",
        "    palette='pastel',\n",
        "    order=ordem,  # usa a mesma ordem para comparação direta\n",
        "    ax=axes[1]\n",
        ")\n",
        "\n",
        "# Calcula apenas a mediana (Q2) por company_location (mais eficiente!)\n",
        "medianas = df_global.groupby('company_location')['benefits_score'].median()\n",
        "\n",
        "# Adiciona apenas as anotações do Q2 no gráfico correto (axes[1])\n",
        "for i, cat in enumerate(ordem):\n",
        "    if cat in medianas.index:\n",
        "        axes[1].text(\n",
        "            i,\n",
        "            medianas[cat],\n",
        "            f\"Q2: {medianas[cat]:,.1f}\",  # benefits_score parece ser float; exibe 1 casa decimal\n",
        "            color='blue',\n",
        "            ha='center',\n",
        "            va='bottom',\n",
        "            fontsize=8\n",
        "        )\n",
        "\n",
        "axes[1].set_title('Distribuição de Benefits Score por Localização da Empresa (Ordenado)')\n",
        "axes[1].set_xlabel('Localização da Empresa')\n",
        "axes[1].set_ylabel('Benefits Score')\n",
        "axes[1].tick_params(axis='x', rotation=70)\n",
        "\n",
        "\n",
        "plt.tight_layout()\n",
        "plt.subplots_adjust(hspace=1.2)  # aumenta o espaçamento vertical entre os gráficos\n",
        "plt.show()"
      ]
    },
    {
      "cell_type": "markdown",
      "metadata": {
        "id": "EEx2pXbNdvAH"
      },
      "source": [
        "Resumo:\n",
        "- Vemos nítidamente países como Suiça(`Switzerland`), Dinamarca(`Denmark`) e Noruega(`Norway`) com medianas salariais muito acima das outras, destacando-se por sua alta remuneração\n",
        "- Na contramão, vemos Irlanda(`Ireland`) Austria e India comas menores medianas.\n",
        "- Países que estão acima dos 125K USDs anuais apresentam bigodes mais altos, indicando maior variabilidade salarial, tornando mais dificil prever quanto ganhar nesses países.\n",
        "- Já países abaixo dos 100k, têm salarios mais concentrados na Mediana. "
      ]
    },
    {
      "cell_type": "markdown",
      "metadata": {
        "id": "6SQ3px6jdvAH"
      },
      "source": [
        "---"
      ]
    },
    {
      "cell_type": "markdown",
      "metadata": {
        "id": "bfxycvQLRDMa"
      },
      "source": [
        "## 🔶Tratamento final dos Dados\n",
        "Nesse momento já temos noção de quais dados explorar no dataset. \n",
        "\n",
        "Faremos um último tratamento nos dados e então partir para análise final."
      ]
    },
    {
      "cell_type": "markdown",
      "metadata": {
        "id": "SHN6HbD-x6r2"
      },
      "source": [
        "### 🔸 Definição das Colunas do Dataset\n",
        "Faremos a exclusão de algumas colunas desse dataset, para mantê-lo mais limpo.\n",
        "Quais colunas serão excluídas:\n",
        "- `job_id` → Coluna apenas de id, não há necessidade de mantê-la\n",
        "- `salary_currency` → A coluna `salary_usd` já nos informa o salário convertido em Dolar anuais\n",
        "- `application_deadline` → Esse prazo não traz nenhuma informação relevante.\n",
        "- `job_description_length` → Essa coluna também não traz nenhuma informação que precisaremos\n",
        "- `company_name` → Não precisaremos dos nomes para as análises tambem\n",
        "\n",
        "Utilizando a classe `LimpezaFinalDados`, faremos o tratamento final dos dados"
      ]
    },
    {
      "cell_type": "code",
      "execution_count": null,
      "metadata": {
        "colab": {
          "base_uri": "https://localhost:8080/"
        },
        "id": "WOQsaz2_dvAI",
        "outputId": "5efe91da-ade4-4ed1-ea80-cc8ef1f9aa80"
      },
      "outputs": [],
      "source": [
        "colunas_remover = ['job_id', 'salary_currency', 'application_deadline', 'job_description_length', 'company_name']\n",
        "\n",
        "df_unificado = LimpezaFinalDados(df_unificado, colunas_remover=colunas_remover).executar()"
      ]
    },
    {
      "cell_type": "markdown",
      "metadata": {
        "id": "vOOKxNe2dvAI"
      },
      "source": [
        "### 🔸 Exibindo os 5 primeiros registros, para confirmar a remoção das colunas"
      ]
    },
    {
      "cell_type": "code",
      "execution_count": null,
      "metadata": {
        "colab": {
          "base_uri": "https://localhost:8080/",
          "height": 382
        },
        "id": "Y2rrv4VhDikW",
        "outputId": "769d6a16-b0b7-480d-b320-0a0638b3c8cd"
      },
      "outputs": [],
      "source": [
        "df_unificado.head(5)"
      ]
    },
    {
      "cell_type": "markdown",
      "metadata": {
        "id": "vTGJuUy9dvAI"
      },
      "source": [
        "### 🔸 Criação do Dataframe para required_skills e plotagem de gráfico\n",
        "\n",
        "Inicialmente, havíamos comentado sobre a dificuldade de extrair insights do campo `required_skills` devido a estrutura dos dados. (cada habilidade separada por  `,`).\n",
        "\n",
        "A saída encontrada foi construir um Dataframe unificando esses dados.\n",
        "\n",
        "A melhor maneira (e mais organizada) foi criar uma Classe (`GeradorSkillsPorCategoria`) dentro da `TratamentoDeDados.py` e criar uma função que faria esse tratamento.\n",
        "\n",
        "O `GeradorSkillsPorCategoria` recebe 2 atributos:\n",
        "- `df` → Dataframe do nosso estudo\n",
        "- `coluna_categoria` → uma coluna que servirá de estudo, que retornará quantas habilidades por aquela coluna escolhida\n",
        "\n",
        "Essa função permite visualizarmos qualquer coluna do Dataframe, apenas trocando o nome da coluna"
      ]
    },
    {
      "cell_type": "code",
      "execution_count": null,
      "metadata": {
        "colab": {
          "base_uri": "https://localhost:8080/",
          "height": 656,
          "referenced_widgets": [
            "4b307b802ce9400b83367a10d39b257c",
            "4c48f84704c14f48864b45270b1601b3",
            "dbf1461c3570486e8b48736feddb2e81",
            "c112cf2d624045369a6980a698210685",
            "f564f06650704f4192329f128fb42185",
            "1d12b33f744d4384b28d356872353ffb",
            "41241c3138a741d5a3938f17d7ca48fa"
          ]
        },
        "id": "XSR-9VybdvAI",
        "outputId": "2a73416c-bd88-45f2-bec4-da97a5889e1d"
      },
      "outputs": [],
      "source": [
        "df_skills_job_title = GeradorSkillsPorCategoria(df_unificado, 'job_title')\n",
        "df_skills_job_title.gerar()\n",
        "df_skills_job_title.plotar_top_habilidades_interativo(top_n=5)"
      ]
    },
    {
      "cell_type": "markdown",
      "metadata": {},
      "source": [
        "---"
      ]
    },
    {
      "cell_type": "markdown",
      "metadata": {
        "id": "BXBuOow4dvAI"
      },
      "source": [
        "## 🎯 Insights obtidos do Dataset e Conclusões\n",
        "Agora que exploramos bem o nosso Conjunto de Dados, vamos tentar obter insights valiosos e tirar as conclusões dos problemas inicialmente definidos"
      ]
    },
    {
      "cell_type": "markdown",
      "metadata": {
        "id": "DBhGB8gFdvAI"
      },
      "source": [
        "### 0️⃣1️⃣ Quais áreas de atuação estão em maior crescimento no Global?"
      ]
    },
    {
      "cell_type": "code",
      "execution_count": null,
      "metadata": {
        "colab": {
          "base_uri": "https://localhost:8080/",
          "height": 1000
        },
        "id": "CcODaJbddvAI",
        "outputId": "1c2a9cd7-608d-4c2a-f589-acbe94750581"
      },
      "outputs": [],
      "source": [
        "# Criar figura com 2 subplots em coluna\n",
        "\n",
        "df_unificado_global = df_unificado.loc[df_unificado['company_location'] != 'Brasil']\n",
        "\n",
        "\n",
        "fig, axs = plt.subplots(2, 1, figsize=(12, 9))\n",
        "\n",
        "# ================================\n",
        "# Gráfico 1: Barras totais com primeira barra azul\n",
        "# ================================\n",
        "df_agrupado = df_unificado_global['job_title'].value_counts()\n",
        "\n",
        "# Cria a lista de cores: primeira barra azul, outras cinza\n",
        "cores = ['dodgerblue'] + ['lightgray'] * (len(df_agrupado) - 1)\n",
        "\n",
        "# Plota o gráfico com cores personalizadas\n",
        "axs[0].bar(df_agrupado.index, df_agrupado.values, color=cores)\n",
        "axs[0].set_title('Vagas por Área de Atuação')\n",
        "axs[0].set_xlabel('Área de Atuação')\n",
        "axs[0].set_ylabel('Número de Vagas')\n",
        "axs[0].tick_params(axis='x', rotation=85)\n",
        "\n",
        "\n",
        "# ================================\n",
        "# Gráfico 2: Linhas no tempo\n",
        "# ================================\n",
        "top_5_areas = df_unificado_global['job_title'].value_counts().nlargest(3).index\n",
        "df_top = df_unificado_global[df_unificado_global['job_title'].isin(top_5_areas)]\n",
        "\n",
        "df_linhas = (\n",
        "    df_top\n",
        "    .groupby(['Start_Month', 'job_title'])\n",
        "    .size()\n",
        "    .unstack(fill_value=0)\n",
        ")\n",
        "\n",
        "total_por_area = df_linhas.sum()\n",
        "area_destaque = total_por_area.idxmax()\n",
        "\n",
        "# Pegando a série da linha azul\n",
        "serie_destaque = df_linhas[area_destaque]\n",
        "x = df_linhas.index\n",
        "\n",
        "# Encontrando pico e vale\n",
        "pico_idx = serie_destaque.idxmax()\n",
        "vale_idx = serie_destaque.idxmin()\n",
        "pico_val = serie_destaque.max()\n",
        "vale_val = serie_destaque.min()\n",
        "\n",
        "# Plotando as linhas\n",
        "for area in df_linhas.columns:\n",
        "    if area == area_destaque:\n",
        "        axs[1].plot(x, serie_destaque, label=area, color='dodgerblue', linewidth=2.5)\n",
        "    else:\n",
        "        axs[1].plot(x, df_linhas[area], label=area, color='lightgray', linewidth=1.5)\n",
        "\n",
        "# Destaques no gráfico\n",
        "axs[1].scatter(pico_idx, pico_val, color='blue', s=100, zorder=5)\n",
        "axs[1].annotate(f'MAX: {pico_val}', (pico_idx, pico_val),\n",
        "                textcoords=\"offset points\", xytext=(0,10), ha='center', fontsize=9, color='blue')\n",
        "\n",
        "axs[1].scatter(vale_idx, vale_val, color='red', s=100, zorder=5)\n",
        "axs[1].annotate(f'MIN: {vale_val}', (vale_idx, vale_val),\n",
        "                textcoords=\"offset points\", xytext=(0,-15), ha='center', fontsize=9, color='red')\n",
        "\n",
        "axs[1].set_title('Evolução das Áreas ao Longo do Tempo (top3)')\n",
        "axs[1].set_xlabel('Mês')\n",
        "axs[1].set_ylabel('Número de Vagas')\n",
        "axs[1].tick_params(axis='x', rotation=45)\n",
        "axs[1].grid(True)\n",
        "axs[1].legend(title='Área', loc='lower center', bbox_to_anchor=(0.5, -0.7), ncol=3)\n",
        "\n",
        "# Layout final\n",
        "plt.tight_layout()\n",
        "plt.show()\n",
        "\n",
        "# df_skills_job_title = GeradorSkillsPorCategoria(df_unificado_global, 'job_title')\n",
        "# df_skills_job_title.gerar()\n",
        "# df_skills_job_title.plotar_top_habilidades_interativo(top_n=5, categoria_especifica=\"Data Engineer\")\n"
      ]
    },
    {
      "cell_type": "markdown",
      "metadata": {
        "id": "dQW2TEeMdvAI"
      },
      "source": [
        "### 0️⃣1️⃣🆗 **Conclusão | Global**\n",
        "As ***As 3 áreas com maior crescimento desde Janeiro de 2024 no Global*** foram:\n",
        "1. Machine Learning Researcher\n",
        "2. IA Software Engineer\n",
        "3. Autonomous Systems Engineer\n",
        "\n",
        "Surpreendentemente as áreas de de ***Data Analyst, Data Engineer e Data Scientist não apresentaram grande crescimento como esperado***, dando espaço a muitas áreas relacionadas a IA (IA Software Engineer, IA Architect, Head of IA, etc...)\n",
        "\n",
        "Olhando para a evolução ao longo do tempo, a área de ***Machine Learning Resercher apresentou sua menor queda em número de vagas em Junho/2024, com 32 vagas no mês***, mas que logo voltou a crescer contínuamente.\n",
        "\n",
        "Recentemente, ***em Abril/2025 apresentou seu maior pico em número de vagas, com um total de 68 vagas no mês***."
      ]
    },
    {
      "cell_type": "code",
      "execution_count": null,
      "metadata": {},
      "outputs": [],
      "source": [
        "# Criar figura com 2 subplots em coluna\n",
        "\n",
        "df_unificado_global = df_unificado.loc[df_unificado['company_location'] == 'Brasil']\n",
        "\n",
        "\n",
        "fig, axs = plt.subplots(2, 1, figsize=(12, 9))\n",
        "\n",
        "# ================================\n",
        "# Gráfico 1: Barras totais com primeira barra azul\n",
        "# ================================\n",
        "df_agrupado = df_unificado_global['job_title'].value_counts()\n",
        "\n",
        "# Cria a lista de cores: primeira barra azul, outras cinza\n",
        "cores = ['dodgerblue'] + ['lightgray'] * (len(df_agrupado) - 1)\n",
        "\n",
        "# Plota o gráfico com cores personalizadas\n",
        "axs[0].bar(df_agrupado.index, df_agrupado.values, color=cores)\n",
        "axs[0].set_title('Vagas por Área de Atuação')\n",
        "axs[0].set_xlabel('Área de Atuação')\n",
        "axs[0].set_ylabel('Número de Vagas')\n",
        "axs[0].tick_params(axis='x', rotation=85)\n",
        "\n",
        "\n",
        "# ================================\n",
        "# Gráfico 2: Linhas no tempo\n",
        "# ================================\n",
        "top_5_areas = df_unificado_global['job_title'].value_counts().nlargest(3).index\n",
        "df_top = df_unificado_global[df_unificado_global['job_title'].isin(top_5_areas)]\n",
        "\n",
        "df_linhas = (\n",
        "    df_top\n",
        "    .groupby(['Start_Month', 'job_title'])\n",
        "    .size()\n",
        "    .unstack(fill_value=0)\n",
        ")\n",
        "\n",
        "total_por_area = df_linhas.sum()\n",
        "area_destaque = total_por_area.idxmax()\n",
        "\n",
        "# Pegando a série da linha azul\n",
        "serie_destaque = df_linhas[area_destaque]\n",
        "x = df_linhas.index\n",
        "\n",
        "# Encontrando pico e vale\n",
        "pico_idx = serie_destaque.idxmax()\n",
        "vale_idx = serie_destaque.idxmin()\n",
        "pico_val = serie_destaque.max()\n",
        "vale_val = serie_destaque.min()\n",
        "\n",
        "# Plotando as linhas\n",
        "for area in df_linhas.columns:\n",
        "    if area == area_destaque:\n",
        "        axs[1].plot(x, serie_destaque, label=area, color='dodgerblue', linewidth=2.5)\n",
        "    else:\n",
        "        axs[1].plot(x, df_linhas[area], label=area, color='lightgray', linewidth=1.5)\n",
        "\n",
        "# Destaques no gráfico\n",
        "axs[1].scatter(pico_idx, pico_val, color='blue', s=100, zorder=5)\n",
        "axs[1].annotate(f'MAX: {pico_val}', (pico_idx, pico_val),\n",
        "                textcoords=\"offset points\", xytext=(0,10), ha='center', fontsize=9, color='blue')\n",
        "\n",
        "axs[1].scatter(vale_idx, vale_val, color='red', s=100, zorder=5)\n",
        "axs[1].annotate(f'MIN: {vale_val}', (vale_idx, vale_val),\n",
        "                textcoords=\"offset points\", xytext=(0,-15), ha='center', fontsize=9, color='red')\n",
        "\n",
        "axs[1].set_title('Evolução das Áreas ao Longo do Tempo (top3)')\n",
        "axs[1].set_xlabel('Mês')\n",
        "axs[1].set_ylabel('Número de Vagas')\n",
        "axs[1].tick_params(axis='x', rotation=45)\n",
        "axs[1].grid(True)\n",
        "axs[1].legend(title='Área', loc='lower center', bbox_to_anchor=(0.5, -0.7), ncol=3)\n",
        "\n",
        "# Layout final\n",
        "plt.tight_layout()\n",
        "plt.show()\n",
        "\n",
        "# df_skills_job_title = GeradorSkillsPorCategoria(df_unificado_global, 'job_title')\n",
        "# df_skills_job_title.gerar()\n",
        "# df_skills_job_title.plotar_top_habilidades_interativo(top_n=5, categoria_especifica=\"Data Engineer\")\n"
      ]
    },
    {
      "cell_type": "markdown",
      "metadata": {},
      "source": [
        "### 0️⃣1️⃣🆗 **Conclusão | Brasil**\n",
        "A área que tem maior demanda no Brasil hoje é ***Data Engineer***, aparecendo com mais de ***5000 mil vagas disponíveis***.\n",
        "\n",
        "Entretanto, os dados disponibilizados apresentam apenas de Maio/2025 à Junho/2026, um periodo muito pequeno para tirarmos qualquer conclusão"
      ]
    },
    {
      "cell_type": "markdown",
      "metadata": {},
      "source": [
        "---"
      ]
    },
    {
      "cell_type": "markdown",
      "metadata": {
        "id": "ubaHd-ptdvAI"
      },
      "source": [
        "### 0️⃣2️⃣ Quais regiões estão contratando em maior escala? E como estão distribuídos os salários globalmente?\n",
        "\n",
        "Pelo fato de não termos informações de salários do Brasil, excluiremos ele dessa análise"
      ]
    },
    {
      "cell_type": "code",
      "execution_count": null,
      "metadata": {
        "colab": {
          "base_uri": "https://localhost:8080/",
          "height": 1000
        },
        "id": "KeHmr51rdvAI",
        "outputId": "4f89033e-93ce-442a-8fd3-da85bf86d10e"
      },
      "outputs": [],
      "source": [
        "df_excluidos = df_unificado.loc[df_unificado['company_location'] != 'Brasil']\n",
        "\n",
        "# paises_excluir = ['Switzerland', 'Denmark', 'Norway']\n",
        "# df_excluidos = df[~df['company_location'].isin(paises_excluir)]\n",
        "\n",
        "# 1. Agrupar dados de vagas e salários\n",
        "df_vagas_exp = (\n",
        "    df_excluidos.groupby(['company_location', 'experience_level'])\n",
        "    .size()\n",
        "    .reset_index(name='qtd_vagas')\n",
        ")\n",
        "\n",
        "df_media_salario = (\n",
        "    df_excluidos.groupby(['company_location', 'experience_level'])['salary_usd']\n",
        "    .mean()\n",
        "    .reset_index()\n",
        ")\n",
        "\n",
        "df_vagas_salarios = pd.merge(\n",
        "    df_vagas_exp,\n",
        "    df_media_salario,\n",
        "    on=['company_location', 'experience_level'],\n",
        "    how='inner'\n",
        ")\n",
        "\n",
        "# Lista dos níveis de experiência únicos (ordenados)\n",
        "niveis_exp = sorted(df_vagas_salarios['experience_level'].unique())\n",
        "\n",
        "# Criar figura 2x2\n",
        "fig, axs = plt.subplots(4, 1, figsize=(19, 20))\n",
        "axs = axs.flatten()\n",
        "\n",
        "# Loop por nível de experiência\n",
        "for i, nivel in enumerate(niveis_exp):\n",
        "    df_nivel = df_vagas_salarios[df_vagas_salarios['experience_level'] == nivel].copy()\n",
        "\n",
        "    # Ordenar pela quantidade de vagas (maior para menor)\n",
        "    df_nivel = df_nivel.sort_values(by='qtd_vagas', ascending=False).reset_index(drop=True)\n",
        "\n",
        "    # Identificar destaque\n",
        "    idx_max_vagas = df_nivel['qtd_vagas'].idxmax()\n",
        "    idx_max_sal = df_nivel['salary_usd'].idxmax()\n",
        "    idx_min_sal = df_nivel['salary_usd'].idxmin()\n",
        "\n",
        "    # Cores das barras\n",
        "    cores_barras = ['#1f77b4' if idx == idx_max_vagas else 'lightgray' for idx in df_nivel.index]\n",
        "\n",
        "    # Plotar barras\n",
        "    ax1 = axs[i]\n",
        "    barras = ax1.bar(df_nivel['company_location'], df_nivel['qtd_vagas'], color=cores_barras)\n",
        "    ax1.set_ylabel('Número de Vagas')\n",
        "    ax1.set_xlabel('Local da Empresa')\n",
        "    ax1.tick_params(axis='x', rotation=45)\n",
        "    ax1.set_title(f\"{nivel} - Vagas x Salário\")\n",
        "    ax1.grid(axis='y', linestyle='--', alpha=0.3)\n",
        "\n",
        "    # Rótulo na barra com maior número de vagas\n",
        "    for bar, idx in zip(barras, df_nivel.index):\n",
        "        if idx == idx_max_vagas:\n",
        "            ax1.text(bar.get_x() + bar.get_width()/2, bar.get_height() + 3,\n",
        "                     f\"{df_nivel.loc[idx, 'qtd_vagas']}\", ha='center', va='bottom', fontweight='bold')\n",
        "\n",
        "    # Gráfico de linha - Salário\n",
        "    ax2 = ax1.twinx()\n",
        "    ax2.plot(df_nivel['company_location'], df_nivel['salary_usd'], color='orange', marker='o', linewidth=2)\n",
        "    ax2.set_ylabel('Salário Médio (USD)', color='orange')\n",
        "    ax2.tick_params(axis='y', labelcolor='orange')\n",
        "\n",
        "    # Destacar pico e vale\n",
        "    for idx in [idx_max_sal, idx_min_sal]:\n",
        "        cor = 'green' if idx == idx_max_sal else 'red'\n",
        "        ax2.plot(df_nivel.loc[idx, 'company_location'], df_nivel.loc[idx, 'salary_usd'],\n",
        "                 marker='o', color=cor, markersize=10)\n",
        "        ax2.text(df_nivel.loc[idx, 'company_location'], df_nivel.loc[idx, 'salary_usd'] + 2000,\n",
        "                 f\"{int(df_nivel.loc[idx, 'salary_usd'])}\", color=cor, ha='center', fontweight='bold')\n",
        "\n",
        "        # Calcular média salarial do nível atual\n",
        "        media_salarial = df_excluidos[df_excluidos['experience_level'] == nivel]['salary_usd'].mean()\n",
        "\n",
        "        # Linha horizontal tracejada da média\n",
        "        ax2.axhline(media_salarial, color='gray', linestyle='--', linewidth=1.5, alpha=0.7)\n",
        "        ax2.text(\n",
        "            x=len(df_nivel),\n",
        "            y=media_salarial + 1000,\n",
        "            s=f\"Média Salarial: {int(media_salarial)} USD\",\n",
        "            color='gray',\n",
        "            ha='right',\n",
        "            fontweight='bold'\n",
        "        )\n",
        "\n",
        "plt.tight_layout()\n",
        "plt.show()"
      ]
    },
    {
      "cell_type": "markdown",
      "metadata": {
        "id": "o0V4XRGfdvAJ"
      },
      "source": [
        "### 0️⃣2️⃣🆗 **Conclusão | Global**\n",
        "\n",
        "- Vemos a ***Australia*** aparecendo como o país com mais vagas para os primeiros níveis (`Entry-level`), e salário pagando acima da média global.\n",
        "- Em seguida vemos a ***Alemanha*** também pagando salários acima da média global para os `Mid-level`\n",
        "- Para os `Seniors`, ***China e Canada competem para ser o país com mais vagas***. Entretanto uma diferença brutal no salário médio dos chineses em relação ao canadenses, a ***China pagando muito abaixo da média, enquanto o Canadá com salários exatamente na média***.\n",
        "- Para os Executivos, a ***Dinamarca*** aparece como o primeiro país da lista, e com o salário muito acima da média global, com quase 260k dolares anuais.\n",
        "- Parte das nossas premissas/hipóteses estava certa, quando mencionamos que a Suiça (`Switzerland`) e Dinamarca(`Denmark`) teriam os melhores salários. De fato, esses dois países possuem as melhores médias salárias para qualquer nível. Entretanto o mesmo não ocorre para Suécia (`Sweden`). Eembora tenhamos mencionado, ele não se destaca como os dois primeiros, mas os salários não são ruins comparado a nível global (salários acima da média global).\n",
        "- Já com relação aos Estados Unidos (`United States`), esperávamos que ele fosse destaque a nivel de quantidade de vagas, o que não ocorreu. Já com relação aos salários, realmente surpreende assim como os dois primeiros, pagando salários muito acima da média global."
      ]
    },
    {
      "cell_type": "markdown",
      "metadata": {
        "id": "WTtYaysfdvAJ"
      },
      "source": [
        "### 0️⃣3️⃣Quais são as principais habilidades técnicas exigidas?"
      ]
    },
    {
      "cell_type": "code",
      "execution_count": null,
      "metadata": {
        "colab": {
          "base_uri": "https://localhost:8080/",
          "height": 624
        },
        "id": "zgGe_BMldvAJ",
        "outputId": "fb5a298a-c5cd-4ba0-ab48-fabf5f043b1b"
      },
      "outputs": [],
      "source": [
        "# ================================\n",
        "# Preparação dos dados\n",
        "# ================================\n",
        "# Gerar o DataFrame original\n",
        "df_unificado_global = df_unificado.loc[df_unificado['company_location'] != 'Brasil']\n",
        "df_unificado_brasil = df_unificado.loc[df_unificado['company_location'] == 'Brasil']\n",
        "\n",
        "# Gerar skills globais e brasileiras\n",
        "df_unificado_global = GeradorSkillsPorCategoria(df_unificado_global, 'job_title')\n",
        "df_unificado_brasil = GeradorSkillsPorCategoria(df_unificado_brasil, 'job_title')\n",
        "\n",
        "df_required_global = df_unificado_global.gerar()\n",
        "df_required_brasil = df_unificado_brasil.gerar()\n",
        "\n",
        "# Agrupar e somar habilidades - Global\n",
        "df_required_global = (\n",
        "    df_required_global\n",
        "    .groupby('required_skill')['qtd']\n",
        "    .sum()\n",
        "    .reset_index()\n",
        "    .sort_values(by='qtd', ascending=False)\n",
        "    .head(20)\n",
        ")\n",
        "\n",
        "# Agrupar e somar habilidades - Brasil\n",
        "df_required_brasil = (\n",
        "    df_required_brasil\n",
        "    .groupby('required_skill')['qtd']\n",
        "    .sum()\n",
        "    .reset_index()\n",
        "    .sort_values(by='qtd', ascending=False)\n",
        "    .head(20)\n",
        ")\n",
        "\n",
        "# ================================\n",
        "# Criar gráficos lado a lado\n",
        "# ================================\n",
        "fig, axs = plt.subplots(1, 2, figsize=(20, 8))\n",
        "\n",
        "# Gráfico Global\n",
        "sns.barplot(data=df_required_global, y='required_skill', x='qtd', palette='Blues_r', ax=axs[0])\n",
        "axs[0].set_title('Top 20 Habilidades | Global')\n",
        "axs[0].set_xlabel('Quantidade de Vagas')\n",
        "axs[0].set_ylabel('Habilidade')\n",
        "axs[0].grid(axis='x', linestyle='--', alpha=0.5)\n",
        "\n",
        "# Gráfico Brasil\n",
        "if not df_required_brasil.empty:\n",
        "    sns.barplot(data=df_required_brasil, y='required_skill', x='qtd', palette='Greens_r', ax=axs[1])\n",
        "    axs[1].set_title('Top 20 Habilidades | Brasil')\n",
        "    axs[1].set_xlabel('Quantidade de Vagas')\n",
        "    axs[1].set_ylabel('')\n",
        "    axs[1].grid(axis='x', linestyle='--', alpha=0.5)\n",
        "else:\n",
        "    axs[1].text(0.5, 0.5, 'Sem dados para o Brasil', ha='center', va='center', fontsize=14)\n",
        "    axs[1].set_axis_off()\n",
        "\n",
        "plt.tight_layout()\n",
        "plt.show()\n"
      ]
    },
    {
      "cell_type": "markdown",
      "metadata": {},
      "source": [
        "### 0️⃣3️⃣🆗 Conclusão\n",
        "\n",
        "- É indiscutivel que tanto para o Global quanto para o Brasil, as principais habilidades requisitadas tanto para IA quanto para Dados é `Python` e `SQL`.\n",
        "\n",
        "- Depois das duas primeiras, notamos algumas diferenças interessantes de um para outro. No Global, percebe-se uma demanda alta de habilidades em `TensowFlow` e `Kubernetes`, enquanto no Brasil uma demanda maior por `Git` e `AWS`.\n",
        "\n",
        "- Em termos de Ferramentas de Cloud, no Global não há uma demanda alta por AWS assim como no Brasil. Parecem ter mais interesse nas ferramentas Google (`GLP`)"
      ]
    },
    {
      "cell_type": "markdown",
      "metadata": {},
      "source": [
        "### 4️⃣ Quais habilidades requeridas para a área de Dados? Tanto nacional quanto Global?"
      ]
    },
    {
      "cell_type": "code",
      "execution_count": null,
      "metadata": {
        "colab": {
          "base_uri": "https://localhost:8080/",
          "height": 401
        },
        "id": "_TlCAR6GdvAJ",
        "outputId": "ca34267c-ba0c-400a-8931-bb4b36c0cae1"
      },
      "outputs": [],
      "source": [
        "# Passo 1: Filtrar e agregar as habilidades por área\n",
        "def preparar_top_habilidades(df_global, cargo, top_n=10):\n",
        "    df_filtrado = df_global[df_global['job_title'] == cargo]\n",
        "    df_agg = (\n",
        "        df_filtrado\n",
        "        .groupby('required_skill')['qtd']\n",
        "        .sum()\n",
        "        .reset_index()\n",
        "        .sort_values(by='qtd', ascending=False)\n",
        "        .head(top_n)\n",
        "    )\n",
        "    return df_agg\n",
        "\n",
        "\n",
        "# Passo 2: Criar os três DataFrames\n",
        "df_global_ds = preparar_top_habilidades(df_unificado_global.gerar(), 'Data Scientist')\n",
        "df_global_da = preparar_top_habilidades(df_unificado_global.gerar(), 'Data Analyst')\n",
        "df_global_de = preparar_top_habilidades(df_unificado_global.gerar(), 'Data Engineer')\n",
        "\n",
        "df_brasil_ds = preparar_top_habilidades(df_unificado_brasil.gerar(), 'Data Scientist')\n",
        "df_brasil_da = preparar_top_habilidades(df_unificado_brasil.gerar(), 'Data Analyst')\n",
        "df_brasil_de = preparar_top_habilidades(df_unificado_brasil.gerar(), 'Data Engineer')\n",
        "\n",
        "# Passo 3: Criar os gráficos lado a lado\n",
        "fig, axs = plt.subplots(3, 2, figsize=(18, 12))\n",
        "\n",
        "def plotar(ax, df_plot, titulo):\n",
        "    sns.barplot(data=df_plot, y='required_skill', x='qtd', palette='viridis', ax=ax)\n",
        "    ax.set_title(titulo)\n",
        "    ax.set_xlabel('Nº de Vagas')\n",
        "    ax.set_ylabel('Habilidade')\n",
        "    ax.grid(axis='x', linestyle='--', alpha=0.5)\n",
        "\n",
        "# Plotar cada gráfico\n",
        "# Global (coluna 0)\n",
        "plotar(axs[0,0], df_global_ds, 'Global - Data Scientist')\n",
        "plotar(axs[1,0], df_global_da, 'Global - Data Analyst')\n",
        "plotar(axs[2,0], df_global_de, 'Global - Data Engineer')\n",
        "\n",
        "# Brasil (coluna 1)\n",
        "plotar(axs[0,1], df_brasil_ds, 'Brasil - Data Scientist')\n",
        "plotar(axs[1,1], df_brasil_da, 'Brasil - Data Analyst')\n",
        "plotar(axs[2,1], df_brasil_de, 'Brasil - Data Engineer')\n",
        "\n",
        "\n",
        "plt.tight_layout()\n",
        "plt.show()\n"
      ]
    },
    {
      "cell_type": "code",
      "execution_count": null,
      "metadata": {
        "colab": {
          "base_uri": "https://localhost:8080/"
        },
        "id": "zX1FIvQndvAJ",
        "outputId": "aaa1781a-1bbe-4490-a602-2e79c5c3457f"
      },
      "outputs": [],
      "source": [
        "#Filtrar todas as vagas de Engenheiro de Dados\n",
        "\n",
        "df_global = df_unificado.loc[df_unificado['company_location'] != 'Brasil']\n",
        "\n",
        "total_vagas_DE = df_global[df_global['job_title'] == 'Data Engineer'].shape[0]\n",
        "\n",
        "# Filtrar Data Engineer e que na required_skills tenha os textos 'AWS' ou 'Azure' ou 'GCP'\n",
        "\n",
        "total_vagas_DE_com_Cloud = df_global[df_global['job_title'] == 'Data Engineer'].loc[df_global['required_skills'].str.contains('AWS|Azure|GCP')].shape[0]\n",
        "\n",
        "print(r'Total de vagas de Engenheiro de Dados que demandam Cloud:', format(total_vagas_DE_com_Cloud / total_vagas_DE, '.2%'))"
      ]
    },
    {
      "cell_type": "markdown",
      "metadata": {
        "id": "642b75SbdvAJ"
      },
      "source": [
        "### 0️⃣4️⃣🆗 Conclusão\n",
        "- Sem dúvidas, Python e SQL são as habilidades mais requisitadas entre todas as outras, em qualquer área analisada.\n",
        "\n",
        "- Entretanto, as habilidades do conjunto Global não parecem convincentes em nenhuma das áreas. Observando as vagas separadamente:\n",
        "\n",
        "1. Data Scientist\n",
        "\n",
        "    - No Brasil, destaca-se fortemente o Python, seguido de habilidades como Matemática, Estatística e SQL.\n",
        "\n",
        "    - Já no Global, apesar de Python e SQL liderarem, surgem habilidades como TensorFlow e Kubernetes nas primeiras posições, enquanto Matemática ou Estatística sequer aparecem entre as 10 principais.\n",
        "\n",
        "2. Data Analyst\n",
        "\n",
        "    - No Brasil, Python perde relevância como habilidade prioritária, dando espaço para Data Visualization e Power BI, mantendo SQL como a habilidade mais importante para a área.\n",
        "\n",
        "    - No Global, Python lidera novamente, mas aparecem habilidades inusitadas para a função, como Kubernetes e Linux.\n",
        "\n",
        "3. Data Engineer\n",
        "\n",
        "    - No Brasil, além de Python e SQL, habilidades como Git e AWS se destacam. Logo em seguida surgem Azure e Spark, ferramentas comumente utilizadas na área.\n",
        "\n",
        "    - No Global, voltam a aparecer TensorFlow e Kubernetes como top habilidades, e não há nenhuma ferramenta de Cloud entre as 10 mais pedidas.\n",
        "\n",
        "\n",
        "- Foi aplicado um filtro para identificar quantas vagas de Data Engineer exigiam ao menos uma habilidade em cloud (AWS, Azure ou GCP), resultando em apenas 36,85% das vagas.\n",
        "\n",
        "- Esses resultados levantam algumas dúvidas e geram a seguinte interpretação:\n",
        "\n",
        "    - Ou os dados globais foram sintetizados ou manipulados.\n",
        "\n",
        "    - Ou, como muitas vezes acontece, os recrutadores — principalmente em anúncios internacionais — podem não ter informado corretamente as habilidades necessárias, \"poluindo\" a análise e gerando ruído nos resultados."
      ]
    },
    {
      "cell_type": "markdown",
      "metadata": {
        "id": "BRKnU5zZtAhx"
      },
      "source": [
        "### 0️⃣5️⃣ Qual Nivel de Escolaridade cada um dos Segmentos Industriais estão requisitando?\n",
        "Como não temos as informações de Escolaridade do Brasil, faremos o estudo somente baseado no Global"
      ]
    },
    {
      "cell_type": "code",
      "execution_count": null,
      "metadata": {},
      "outputs": [],
      "source": [
        "# Filtrar apenas dados globais (sem Brasil)\n",
        "df_unificado_global = df_unificado[df_unificado['company_location'] != 'Brasil']\n",
        "\n",
        "# Agrupar para gráficos de escolaridade\n",
        "df_agrupado = (\n",
        "    df_unificado_global\n",
        "    .groupby(['education_required', 'industry'])\n",
        "    .size()\n",
        "    .reset_index(name='qtd')\n",
        ")\n",
        "\n",
        "escolaridades = df_agrupado['education_required'].unique()\n",
        "\n",
        "# Agrupar para gráfico geral por industry\n",
        "df_industry = (\n",
        "    df_unificado_global\n",
        "    .groupby('industry')\n",
        "    .size()\n",
        "    .reset_index(name='qtd')\n",
        "    .sort_values(by='qtd', ascending=False)\n",
        ")\n",
        "\n",
        "# Criar figura e GridSpec\n",
        "fig = plt.figure(figsize=(22, 12))\n",
        "gs = gridspec.GridSpec(2, 4, height_ratios=[1, 0.5])  # 2 linhas x 4 colunas\n",
        "\n",
        "# Definir eixos da linha de cima (escolaridade)\n",
        "axes_superior = [\n",
        "    fig.add_subplot(gs[0, 0]),\n",
        "    fig.add_subplot(gs[0, 1]),\n",
        "    fig.add_subplot(gs[0, 2]),\n",
        "    fig.add_subplot(gs[0, 3])\n",
        "]\n",
        "\n",
        "# Eixo do gráfico geral (linha de baixo)\n",
        "ax5 = fig.add_subplot(gs[1, :])  # linha 1, colunas 0-3\n",
        "\n",
        "# Loop para gráficos de escolaridade\n",
        "for ax, escolaridade in zip(axes_superior, escolaridades):\n",
        "    subset = (\n",
        "        df_agrupado[df_agrupado['education_required'] == escolaridade]\n",
        "        .sort_values('qtd', ascending=True)\n",
        "    )\n",
        "\n",
        "    colors = ['lightgray'] * len(subset)\n",
        "\n",
        "    idx_max = subset['qtd'].idxmax()\n",
        "    idx_min = subset['qtd'].idxmin()\n",
        "\n",
        "    max_ind = subset.index.get_loc(idx_max)\n",
        "    min_ind = subset.index.get_loc(idx_min)\n",
        "\n",
        "    colors[max_ind] = '#80E7AB'\n",
        "    colors[min_ind] = '#FFA5A5'\n",
        "\n",
        "    bars = ax.barh(subset['industry'], subset['qtd'], color=colors)\n",
        "    ax.set_title(escolaridade)\n",
        "    ax.set_xlabel('Qtd')\n",
        "    ax.grid(axis='x', linestyle='--', alpha=0.5)\n",
        "    ax.set_xlim(0, subset['qtd'].max() + 30)\n",
        "\n",
        "    # Adicionar valores nas barras em destaque\n",
        "    for j, bar in enumerate(bars):\n",
        "        if j == max_ind:\n",
        "            cor = '#1F7D35'\n",
        "        elif j == min_ind:\n",
        "            cor = '#CF0E0E'\n",
        "        else:\n",
        "            continue\n",
        "\n",
        "        ax.text(bar.get_width() + 1,\n",
        "                bar.get_y() + bar.get_height() / 2,\n",
        "                f'{int(bar.get_width())}',\n",
        "                va='center',\n",
        "                fontsize=9,\n",
        "                color=cor)\n",
        "\n",
        "# Gráfico geral por industry em ax5 (colunas)\n",
        "colors = ['lightgray'] * len(df_industry)\n",
        "idx_max = df_industry['qtd'].idxmax()\n",
        "idx_min = df_industry['qtd'].idxmin()\n",
        "\n",
        "max_ind = df_industry.index.get_loc(idx_max)\n",
        "min_ind = df_industry.index.get_loc(idx_min)\n",
        "\n",
        "colors[max_ind] = '#80E7AB'\n",
        "colors[min_ind] = '#FFA5A5'\n",
        "\n",
        "bars = ax5.bar(df_industry['industry'], df_industry['qtd'], color=colors)\n",
        "ax5.set_title('Distribuição de Vagas por Indústria | Global', fontsize=14)\n",
        "ax5.set_ylabel('Número de Vagas')\n",
        "ax5.set_xlabel('Indústria')\n",
        "ax5.grid(axis='y', linestyle='--', alpha=0.5)\n",
        "ax5.set_xticklabels(df_industry['industry'], rotation=45, ha='right')\n",
        "\n",
        "# Adicionar valores nas barras em destaque\n",
        "for i, bar in enumerate(bars):\n",
        "    if i == max_ind:\n",
        "        cor = '#1F7D35'\n",
        "    elif i == min_ind:\n",
        "        cor = '#CF0E0E'\n",
        "    else:\n",
        "        continue\n",
        "\n",
        "    ax5.text(bar.get_x() + bar.get_width() / 2,\n",
        "             bar.get_height() + 10,\n",
        "             f'{int(bar.get_height())}',\n",
        "             ha='center',\n",
        "             fontsize=9,\n",
        "             color=cor)\n",
        "\n",
        "plt.tight_layout()\n",
        "plt.show()\n"
      ]
    },
    {
      "cell_type": "markdown",
      "metadata": {},
      "source": [
        "### 0️⃣5️⃣🆗 Conclusão\n",
        "\n",
        "Analisando cada nível, percebemos:\n",
        "\n",
        "- Para o nível `Associate`, que seria parecido com o nosso Tecnólogo, a maior demanda é para o Varejo (`Retail`) com 283 vagas.\n",
        "- Para `Bachelor`, destaque para as indutrias de Manufatura (`Manufacturing`) com 269 vagas no total. O que surpreendeu foi ver `Technology` como o pior nesse ranking.\n",
        "- No nível `Master` Midia(`Media`) lidera esse grupo, e novamente vemos Varejo (`Retail`), no topo da lista.\n",
        "- E para `PhD` alta demanda para setores da Tecnologia (`Technology`) e Consultoria (`Consulting`).\n",
        "- No global, vemos alta demanda para os setores de varejo no geral.\n",
        "- Já na Educação (`Education`), são setores menos atrativos em termos de volume de vagas, possivelmente pelo fato de oportunidades em educação serem mais restritas.\n",
        "- a partir do `Bachelor`, percebemos uma leve tendência na mudança do ranking em relação a área de Tecnologia (`Technology`).Esse comportamento sugere que o avanço acadêmico direciona profissionais para diferentes setores, especialmente para indústria de tecnologia.\n",
        "\n"
      ]
    },
    {
      "cell_type": "markdown",
      "metadata": {},
      "source": [
        "## ✍️ Considerações Finais\n",
        "\n",
        "Acredito que consegui atingir boa parte dos objetivos definidos no inicio do MVP, apesar de algumas limitações de dados.\n",
        "\n",
        "Ter escolhido esse assunto para construção do MVP, contribuiu muito para entregar um bom trabalho, pois o assunto me envolveu bastante, ajudando a entender as grandes tendências do mercado global e brasileiro: quais são as habilidades mais requisitadas, quais setores e países parecem mais promissores e, principalmente, como se comportam as remunerações em cada uma dessas áreas, destacando quais parecem mais atrativas.\n",
        "\n",
        "Porém um grande limitador permitiu não entregar um trabalho que poderia ter sido ainda melhor. Entre eles foram:\n",
        "- Faltaram mais informações do Brasil, como dados sobre salários, anos de experiência e escolaridade exigida, que estavam presentes apenas no conjunto global.\n",
        "- As habilidades do conjunto Global não parecem convincentes em nenhuma das áreas. Diversas tecnologias sendo repetidas em funções diferentes, o que gera dúvidas sobre a qualidade dos dados.\n",
        "\n",
        "Como comentado inicialmente no projeto, optei por trabalhar apenas com os dados Globais. Praticamente na reta final, encontrei um dataset em uma postagem no LinkedIn e decidi incluí-lo para enriquecer a análise com informações do Brasil.\n",
        "\n",
        "De fato, não era o melhor dataset para esse estudo, mas era o que tinha disponível naquele momento.\n",
        "\n",
        "No Discord, um dos colegas (Bruno Layus) recomendou a utilização do dataset de  ***Pesquisas anuais do Data Hackers com a Bain&Company***, que possivelmente seria uma escolha mais adequada para este projeto. Entretanto, por falta de tempo, optei por seguir com o mesmo dataset utilizado até então.\n",
        "\n",
        "Apesar das limitações, o projeto permitiu colocar em práticas todo conhecimento adquirido em cada um dos módulos. Foi bastante desafiador e satisfatório poder utilizar os conhecimentos adquiridos do Módulo 3 de Engenharia de Software e Orientação a Objetos. Vê-lo funcionando no Colab foi surpreendente de como ficou mais organizado o projeto.\n",
        "\n",
        "O Projeto reforçou da importância de avaliar a qualidade das informações e documentar cada etapa com clareza, consolidando meu aprendizado em análise e boas práticas de dados.\n"
      ]
    },
    {
      "cell_type": "markdown",
      "metadata": {},
      "source": []
    }
  ],
  "metadata": {
    "colab": {
      "include_colab_link": true,
      "provenance": [],
      "toc_visible": true
    },
    "kernelspec": {
      "display_name": "base",
      "language": "python",
      "name": "python3"
    },
    "language_info": {
      "codemirror_mode": {
        "name": "ipython",
        "version": 3
      },
      "file_extension": ".py",
      "mimetype": "text/x-python",
      "name": "python",
      "nbconvert_exporter": "python",
      "pygments_lexer": "ipython3",
      "version": "3.12.7"
    },
    "widgets": {
      "application/vnd.jupyter.widget-state+json": {
        "1d12b33f744d4384b28d356872353ffb": {
          "model_module": "@jupyter-widgets/controls",
          "model_module_version": "1.5.0",
          "model_name": "DescriptionStyleModel",
          "state": {
            "_model_module": "@jupyter-widgets/controls",
            "_model_module_version": "1.5.0",
            "_model_name": "DescriptionStyleModel",
            "_view_count": null,
            "_view_module": "@jupyter-widgets/base",
            "_view_module_version": "1.2.0",
            "_view_name": "StyleView",
            "description_width": "initial"
          }
        },
        "41241c3138a741d5a3938f17d7ca48fa": {
          "model_module": "@jupyter-widgets/base",
          "model_module_version": "1.2.0",
          "model_name": "LayoutModel",
          "state": {
            "_model_module": "@jupyter-widgets/base",
            "_model_module_version": "1.2.0",
            "_model_name": "LayoutModel",
            "_view_count": null,
            "_view_module": "@jupyter-widgets/base",
            "_view_module_version": "1.2.0",
            "_view_name": "LayoutView",
            "align_content": null,
            "align_items": null,
            "align_self": null,
            "border": null,
            "bottom": null,
            "display": null,
            "flex": null,
            "flex_flow": null,
            "grid_area": null,
            "grid_auto_columns": null,
            "grid_auto_flow": null,
            "grid_auto_rows": null,
            "grid_column": null,
            "grid_gap": null,
            "grid_row": null,
            "grid_template_areas": null,
            "grid_template_columns": null,
            "grid_template_rows": null,
            "height": null,
            "justify_content": null,
            "justify_items": null,
            "left": null,
            "margin": null,
            "max_height": null,
            "max_width": null,
            "min_height": null,
            "min_width": null,
            "object_fit": null,
            "object_position": null,
            "order": null,
            "overflow": null,
            "overflow_x": null,
            "overflow_y": null,
            "padding": null,
            "right": null,
            "top": null,
            "visibility": null,
            "width": null
          }
        },
        "4b307b802ce9400b83367a10d39b257c": {
          "model_module": "@jupyter-widgets/controls",
          "model_module_version": "1.5.0",
          "model_name": "VBoxModel",
          "state": {
            "_dom_classes": [
              "widget-interact"
            ],
            "_model_module": "@jupyter-widgets/controls",
            "_model_module_version": "1.5.0",
            "_model_name": "VBoxModel",
            "_view_count": null,
            "_view_module": "@jupyter-widgets/controls",
            "_view_module_version": "1.5.0",
            "_view_name": "VBoxView",
            "box_style": "",
            "children": [
              "IPY_MODEL_4c48f84704c14f48864b45270b1601b3",
              "IPY_MODEL_dbf1461c3570486e8b48736feddb2e81"
            ],
            "layout": "IPY_MODEL_c112cf2d624045369a6980a698210685"
          }
        },
        "4c48f84704c14f48864b45270b1601b3": {
          "model_module": "@jupyter-widgets/controls",
          "model_module_version": "1.5.0",
          "model_name": "DropdownModel",
          "state": {
            "_dom_classes": [],
            "_model_module": "@jupyter-widgets/controls",
            "_model_module_version": "1.5.0",
            "_model_name": "DropdownModel",
            "_options_labels": [
              "AI Architect",
              "AI Consultant",
              "AI Engineer",
              "AI Product Manager",
              "AI Research Scientist",
              "AI Software Engineer",
              "AI Specialist",
              "Autonomous Systems Engineer",
              "Business Intelligence Analyst",
              "Computer Vision Engineer",
              "Data Analyst",
              "Data Engineer",
              "Data Scientist",
              "Deep Learning Engineer",
              "Head of AI",
              "ML Ops Engineer",
              "Machine Learning Engineer",
              "Machine Learning Researcher",
              "NLP Engineer",
              "Principal Data Scientist",
              "Research Scientist",
              "Robotics Engineer"
            ],
            "_view_count": null,
            "_view_module": "@jupyter-widgets/controls",
            "_view_module_version": "1.5.0",
            "_view_name": "DropdownView",
            "description": "job_title:",
            "description_tooltip": null,
            "disabled": false,
            "index": 10,
            "layout": "IPY_MODEL_f564f06650704f4192329f128fb42185",
            "style": "IPY_MODEL_1d12b33f744d4384b28d356872353ffb"
          }
        },
        "c112cf2d624045369a6980a698210685": {
          "model_module": "@jupyter-widgets/base",
          "model_module_version": "1.2.0",
          "model_name": "LayoutModel",
          "state": {
            "_model_module": "@jupyter-widgets/base",
            "_model_module_version": "1.2.0",
            "_model_name": "LayoutModel",
            "_view_count": null,
            "_view_module": "@jupyter-widgets/base",
            "_view_module_version": "1.2.0",
            "_view_name": "LayoutView",
            "align_content": null,
            "align_items": null,
            "align_self": null,
            "border": null,
            "bottom": null,
            "display": null,
            "flex": null,
            "flex_flow": null,
            "grid_area": null,
            "grid_auto_columns": null,
            "grid_auto_flow": null,
            "grid_auto_rows": null,
            "grid_column": null,
            "grid_gap": null,
            "grid_row": null,
            "grid_template_areas": null,
            "grid_template_columns": null,
            "grid_template_rows": null,
            "height": null,
            "justify_content": null,
            "justify_items": null,
            "left": null,
            "margin": null,
            "max_height": null,
            "max_width": null,
            "min_height": null,
            "min_width": null,
            "object_fit": null,
            "object_position": null,
            "order": null,
            "overflow": null,
            "overflow_x": null,
            "overflow_y": null,
            "padding": null,
            "right": null,
            "top": null,
            "visibility": null,
            "width": null
          }
        },
        "dbf1461c3570486e8b48736feddb2e81": {
          "model_module": "@jupyter-widgets/output",
          "model_module_version": "1.0.0",
          "model_name": "OutputModel",
          "state": {
            "_dom_classes": [],
            "_model_module": "@jupyter-widgets/output",
            "_model_module_version": "1.0.0",
            "_model_name": "OutputModel",
            "_view_count": null,
            "_view_module": "@jupyter-widgets/output",
            "_view_module_version": "1.0.0",
            "_view_name": "OutputView",
            "layout": "IPY_MODEL_41241c3138a741d5a3938f17d7ca48fa",
            "msg_id": "",
            "outputs": [
              {
                "data": {
                  "image/png": "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\n",
                  "text/plain": "<Figure size 1000x600 with 1 Axes>"
                },
                "metadata": {},
                "output_type": "display_data"
              }
            ]
          }
        },
        "f564f06650704f4192329f128fb42185": {
          "model_module": "@jupyter-widgets/base",
          "model_module_version": "1.2.0",
          "model_name": "LayoutModel",
          "state": {
            "_model_module": "@jupyter-widgets/base",
            "_model_module_version": "1.2.0",
            "_model_name": "LayoutModel",
            "_view_count": null,
            "_view_module": "@jupyter-widgets/base",
            "_view_module_version": "1.2.0",
            "_view_name": "LayoutView",
            "align_content": null,
            "align_items": null,
            "align_self": null,
            "border": null,
            "bottom": null,
            "display": null,
            "flex": null,
            "flex_flow": null,
            "grid_area": null,
            "grid_auto_columns": null,
            "grid_auto_flow": null,
            "grid_auto_rows": null,
            "grid_column": null,
            "grid_gap": null,
            "grid_row": null,
            "grid_template_areas": null,
            "grid_template_columns": null,
            "grid_template_rows": null,
            "height": null,
            "justify_content": null,
            "justify_items": null,
            "left": null,
            "margin": null,
            "max_height": null,
            "max_width": null,
            "min_height": null,
            "min_width": null,
            "object_fit": null,
            "object_position": null,
            "order": null,
            "overflow": null,
            "overflow_x": null,
            "overflow_y": null,
            "padding": null,
            "right": null,
            "top": null,
            "visibility": null,
            "width": "50%"
          }
        }
      }
    }
  },
  "nbformat": 4,
  "nbformat_minor": 0
}
