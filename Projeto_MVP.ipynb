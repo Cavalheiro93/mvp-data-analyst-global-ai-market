{
  "cells": [
    {
      "cell_type": "markdown",
      "metadata": {
        "colab_type": "text",
        "id": "view-in-github"
      },
      "source": [
        "<a href=\"https://colab.research.google.com/github/Cavalheiro93/mvp-data-analyst-global-ai-market/blob/main/Projeto_MVP.ipynb\" target=\"_parent\"><img src=\"https://colab.research.google.com/assets/colab-badge.svg\" alt=\"Open In Colab\"/></a>"
      ]
    },
    {
      "cell_type": "markdown",
      "metadata": {
        "id": "EihY9Dx9lXP3"
      },
      "source": [
        "# Global AI Job Market & Salary Trends 2025\n",
        "\n",
        "AI Job Market Analysis Dataset 2025. Retrieved from Kaggle.com"
      ]
    },
    {
      "cell_type": "markdown",
      "metadata": {
        "id": "mQKp1v9ggGSO"
      },
      "source": [
        "## 💠Introdução e Definição do Problema\n",
        "\n",
        "Com o grande avanço da Inteligência Artificial, o mercado de trabalho tem passado por transformações significativas em escala global. Novas funções, cargos e áreas de atuação vêm surgindo rapidamente, acompanhadas por uma crescente demanda por profissionais qualificados em diversas especialidades da IA.\n",
        "\n",
        "Essa movimentação tem impulsionado contratações internacionais, promovendo a mobilidade de talentos e o trabalho remoto como tendência. Empresas de diferentes portes e regiões estão disputando profissionais capacitados, o que abre espaço para análises sobre desigualdade salarial, tendências de contratação e habilidades mais requisitadas.\n",
        "\n",
        "Este projeto tem como objetivo analisar as principais tendências do mercado global de trabalho na área de IA — e, se possível, fazer um recorte do cenário brasileiro. Serão investigadas questões como:\n",
        "- Quais áreas estão em maior crescimento?\n",
        "- Quais regiões estão contratando em maior escala?\n",
        "- Quais são as principais habilidades técnicas exigidas?\n",
        "- Como estão distribuídos os salários globalmente?\n",
        "\n",
        "A seguir então seguiremos com o nosso estudo, com o propósito de tentar responder todas essas questões com Análise de Dados e boas práticas.\n",
        "\n",
        "O Dataset pode ser encontrado no link abaixo:\n",
        "\n",
        "https://www.kaggle.com/datasets/bismasajjad/global-ai-job-market-and-salary-trends-2025\n",
        "\n",
        "---\n"
      ]
    },
    {
      "cell_type": "markdown",
      "metadata": {
        "id": "y-qcPgd3nUMl"
      },
      "source": [
        "## 💠 Dicionário de Dados - AI Job Dataset\n",
        "\n",
        "| Coluna                  | Descrição (PT-BR)                                                                 | Tipo     |\n",
        "|------------------------|------------------------------------------------------------------------------------|----------|\n",
        "| `job_id`               | Identificador único para cada vaga                                                | String   |\n",
        "| `job_title`            | Título padronizado do cargo                                                       | String   |\n",
        "| `salary_usd`           | Salário anual em dólares (USD)                                                    | Integer  |\n",
        "| `salary_currency`      | Moeda original do salário                                                         | String   |\n",
        "| `experience_level`     | Nível de experiência (EN = Júnior, MI = Pleno, SE = Sênior, EX = Executivo)       | String   |\n",
        "| `employment_type`      | Tipo de contratação (FT = Tempo Integral, PT = Meio Período, CT = Contrato, FL = Freelancer) | String |\n",
        "| `company_location`     | País onde está localizada a empresa                                               | String   |\n",
        "| `company_size`         | Porte da empresa (S = Pequena <50, M = Média 50-250, L = Grande >250)             | String   |\n",
        "| `employee_residence`   | País de residência do funcionário                                                 | String   |\n",
        "| `remote_ratio`         | Nível de trabalho remoto (0 = Presencial, 50 = Híbrido, 100 = Remoto Total)       | Integer  |\n",
        "| `required_skills`      | Top 5 habilidades exigidas (separadas por vírgula)                                | String   |\n",
        "| `education_required`   | Nível mínimo de escolaridade exigido                                              | String   |\n",
        "| `years_experience`     | Anos de experiência exigidos                                                      | Integer  |\n",
        "| `industry`             | Setor de atuação da empresa                                                       | String   |\n",
        "| `posting_date`         | Data em que a vaga foi publicada                                                  | Date     |\n",
        "| `application_deadline`| Prazo final para candidatura                                                      | Date     |\n",
        "| `job_description_length`| Quantidade de caracteres da descrição da vaga                                   | Integer  |\n",
        "| `benefits_score`       | Pontuação numérica do pacote de benefícios (1 a 10)                               | Float    |\n",
        "| `company_name`       | Nome da Empresa                               | String    |"
      ]
    },
    {
      "cell_type": "markdown",
      "metadata": {
        "id": "Ud-GKoBUjPW9"
      },
      "source": [
        "## 💠 Pré Análise de Dados\n",
        "\n",
        "Nesta etapa, realizaremos uma análise exploratória para entender a estrutura e a qualidade do dataset. Vamos verificar:\n",
        "\n",
        "- O formato e as dimensões da base\n",
        "- Tipos de variáveis\n",
        "- Presença de valores nulos ou discrepantes\n",
        "- Estatísticas descritivas das variáveis numéricas\n",
        "\n",
        "Essas informações serão essenciais para orientar os próximos passos do projeto.\n"
      ]
    },
    {
      "cell_type": "markdown",
      "metadata": {
        "id": "3vczUCPNif2L"
      },
      "source": [
        "### 🔹Importação das bibliotecas e Criação do Dataframe"
      ]
    },
    {
      "cell_type": "code",
      "execution_count": 2,
      "metadata": {},
      "outputs": [],
      "source": [
        "import pandas as pd\n",
        "\n",
        "file_path_github = \"https://raw.githubusercontent.com/Cavalheiro93/mvp-data-analyst-global-ai-market/refs/heads/main/source/ai_job_dataset.csv\"\n",
        "\n",
        "df = pd.read_csv(file_path_github, sep=',', encoding='latin1')"
      ]
    },
    {
      "cell_type": "markdown",
      "metadata": {
        "id": "A32W1dbji81S"
      },
      "source": [
        "### 🔹Leitura das 5 primeiras linhas\n",
        "\n",
        "Visualizamos as 5 primeiras linhas para entender a estruturação do Dataset"
      ]
    },
    {
      "cell_type": "code",
      "execution_count": 3,
      "metadata": {
        "colab": {
          "base_uri": "https://localhost:8080/",
          "height": 382
        },
        "id": "ssq8RCIYVQa-",
        "outputId": "81cdca7a-70bb-4d6c-9da2-f620ba8850ed"
      },
      "outputs": [
        {
          "data": {
            "text/html": [
              "<div>\n",
              "<style scoped>\n",
              "    .dataframe tbody tr th:only-of-type {\n",
              "        vertical-align: middle;\n",
              "    }\n",
              "\n",
              "    .dataframe tbody tr th {\n",
              "        vertical-align: top;\n",
              "    }\n",
              "\n",
              "    .dataframe thead th {\n",
              "        text-align: right;\n",
              "    }\n",
              "</style>\n",
              "<table border=\"1\" class=\"dataframe\">\n",
              "  <thead>\n",
              "    <tr style=\"text-align: right;\">\n",
              "      <th></th>\n",
              "      <th>job_id</th>\n",
              "      <th>job_title</th>\n",
              "      <th>salary_usd</th>\n",
              "      <th>salary_currency</th>\n",
              "      <th>experience_level</th>\n",
              "      <th>employment_type</th>\n",
              "      <th>company_location</th>\n",
              "      <th>company_size</th>\n",
              "      <th>employee_residence</th>\n",
              "      <th>remote_ratio</th>\n",
              "      <th>required_skills</th>\n",
              "      <th>education_required</th>\n",
              "      <th>years_experience</th>\n",
              "      <th>industry</th>\n",
              "      <th>posting_date</th>\n",
              "      <th>application_deadline</th>\n",
              "      <th>job_description_length</th>\n",
              "      <th>benefits_score</th>\n",
              "      <th>company_name</th>\n",
              "    </tr>\n",
              "  </thead>\n",
              "  <tbody>\n",
              "    <tr>\n",
              "      <th>0</th>\n",
              "      <td>AI00001</td>\n",
              "      <td>AI Research Scientist</td>\n",
              "      <td>90376</td>\n",
              "      <td>USD</td>\n",
              "      <td>SE</td>\n",
              "      <td>CT</td>\n",
              "      <td>China</td>\n",
              "      <td>M</td>\n",
              "      <td>China</td>\n",
              "      <td>50</td>\n",
              "      <td>Tableau, PyTorch, Kubernetes, Linux, NLP</td>\n",
              "      <td>Bachelor</td>\n",
              "      <td>9</td>\n",
              "      <td>Automotive</td>\n",
              "      <td>2024-10-18</td>\n",
              "      <td>2024-11-07</td>\n",
              "      <td>1076</td>\n",
              "      <td>5.9</td>\n",
              "      <td>Smart Analytics</td>\n",
              "    </tr>\n",
              "    <tr>\n",
              "      <th>1</th>\n",
              "      <td>AI00002</td>\n",
              "      <td>AI Software Engineer</td>\n",
              "      <td>61895</td>\n",
              "      <td>USD</td>\n",
              "      <td>EN</td>\n",
              "      <td>CT</td>\n",
              "      <td>Canada</td>\n",
              "      <td>M</td>\n",
              "      <td>Ireland</td>\n",
              "      <td>100</td>\n",
              "      <td>Deep Learning, AWS, Mathematics, Python, Docker</td>\n",
              "      <td>Master</td>\n",
              "      <td>1</td>\n",
              "      <td>Media</td>\n",
              "      <td>2024-11-20</td>\n",
              "      <td>2025-01-11</td>\n",
              "      <td>1268</td>\n",
              "      <td>5.2</td>\n",
              "      <td>TechCorp Inc</td>\n",
              "    </tr>\n",
              "    <tr>\n",
              "      <th>2</th>\n",
              "      <td>AI00003</td>\n",
              "      <td>AI Specialist</td>\n",
              "      <td>152626</td>\n",
              "      <td>USD</td>\n",
              "      <td>MI</td>\n",
              "      <td>FL</td>\n",
              "      <td>Switzerland</td>\n",
              "      <td>L</td>\n",
              "      <td>South Korea</td>\n",
              "      <td>0</td>\n",
              "      <td>Kubernetes, Deep Learning, Java, Hadoop, NLP</td>\n",
              "      <td>Associate</td>\n",
              "      <td>2</td>\n",
              "      <td>Education</td>\n",
              "      <td>2025-03-18</td>\n",
              "      <td>2025-04-07</td>\n",
              "      <td>1974</td>\n",
              "      <td>9.4</td>\n",
              "      <td>Autonomous Tech</td>\n",
              "    </tr>\n",
              "    <tr>\n",
              "      <th>3</th>\n",
              "      <td>AI00004</td>\n",
              "      <td>NLP Engineer</td>\n",
              "      <td>80215</td>\n",
              "      <td>USD</td>\n",
              "      <td>SE</td>\n",
              "      <td>FL</td>\n",
              "      <td>India</td>\n",
              "      <td>M</td>\n",
              "      <td>India</td>\n",
              "      <td>50</td>\n",
              "      <td>Scala, SQL, Linux, Python</td>\n",
              "      <td>PhD</td>\n",
              "      <td>7</td>\n",
              "      <td>Consulting</td>\n",
              "      <td>2024-12-23</td>\n",
              "      <td>2025-02-24</td>\n",
              "      <td>1345</td>\n",
              "      <td>8.6</td>\n",
              "      <td>Future Systems</td>\n",
              "    </tr>\n",
              "    <tr>\n",
              "      <th>4</th>\n",
              "      <td>AI00005</td>\n",
              "      <td>AI Consultant</td>\n",
              "      <td>54624</td>\n",
              "      <td>EUR</td>\n",
              "      <td>EN</td>\n",
              "      <td>PT</td>\n",
              "      <td>France</td>\n",
              "      <td>S</td>\n",
              "      <td>Singapore</td>\n",
              "      <td>100</td>\n",
              "      <td>MLOps, Java, Tableau, Python</td>\n",
              "      <td>Master</td>\n",
              "      <td>0</td>\n",
              "      <td>Media</td>\n",
              "      <td>2025-04-15</td>\n",
              "      <td>2025-06-23</td>\n",
              "      <td>1989</td>\n",
              "      <td>6.6</td>\n",
              "      <td>Advanced Robotics</td>\n",
              "    </tr>\n",
              "  </tbody>\n",
              "</table>\n",
              "</div>"
            ],
            "text/plain": [
              "    job_id              job_title  salary_usd salary_currency  \\\n",
              "0  AI00001  AI Research Scientist       90376             USD   \n",
              "1  AI00002   AI Software Engineer       61895             USD   \n",
              "2  AI00003          AI Specialist      152626             USD   \n",
              "3  AI00004           NLP Engineer       80215             USD   \n",
              "4  AI00005          AI Consultant       54624             EUR   \n",
              "\n",
              "  experience_level employment_type company_location company_size  \\\n",
              "0               SE              CT            China            M   \n",
              "1               EN              CT           Canada            M   \n",
              "2               MI              FL      Switzerland            L   \n",
              "3               SE              FL            India            M   \n",
              "4               EN              PT           France            S   \n",
              "\n",
              "  employee_residence  remote_ratio  \\\n",
              "0              China            50   \n",
              "1            Ireland           100   \n",
              "2        South Korea             0   \n",
              "3              India            50   \n",
              "4          Singapore           100   \n",
              "\n",
              "                                   required_skills education_required  \\\n",
              "0         Tableau, PyTorch, Kubernetes, Linux, NLP           Bachelor   \n",
              "1  Deep Learning, AWS, Mathematics, Python, Docker             Master   \n",
              "2     Kubernetes, Deep Learning, Java, Hadoop, NLP          Associate   \n",
              "3                        Scala, SQL, Linux, Python                PhD   \n",
              "4                     MLOps, Java, Tableau, Python             Master   \n",
              "\n",
              "   years_experience    industry posting_date application_deadline  \\\n",
              "0                 9  Automotive   2024-10-18           2024-11-07   \n",
              "1                 1       Media   2024-11-20           2025-01-11   \n",
              "2                 2   Education   2025-03-18           2025-04-07   \n",
              "3                 7  Consulting   2024-12-23           2025-02-24   \n",
              "4                 0       Media   2025-04-15           2025-06-23   \n",
              "\n",
              "   job_description_length  benefits_score       company_name  \n",
              "0                    1076             5.9    Smart Analytics  \n",
              "1                    1268             5.2       TechCorp Inc  \n",
              "2                    1974             9.4    Autonomous Tech  \n",
              "3                    1345             8.6     Future Systems  \n",
              "4                    1989             6.6  Advanced Robotics  "
            ]
          },
          "execution_count": 3,
          "metadata": {},
          "output_type": "execute_result"
        }
      ],
      "source": [
        "df.head()"
      ]
    },
    {
      "cell_type": "markdown",
      "metadata": {
        "id": "gqDU8ofApq0a"
      },
      "source": [
        "### 🔹Análise dos Tipos de Dados"
      ]
    },
    {
      "cell_type": "code",
      "execution_count": 4,
      "metadata": {
        "colab": {
          "base_uri": "https://localhost:8080/",
          "height": 680
        },
        "id": "zsOBjOfher0L",
        "outputId": "cbeda144-029f-4019-a8d1-48b7b713dd8d"
      },
      "outputs": [
        {
          "data": {
            "text/plain": [
              "job_id                     object\n",
              "job_title                  object\n",
              "salary_usd                  int64\n",
              "salary_currency            object\n",
              "experience_level           object\n",
              "employment_type            object\n",
              "company_location           object\n",
              "company_size               object\n",
              "employee_residence         object\n",
              "remote_ratio                int64\n",
              "required_skills            object\n",
              "education_required         object\n",
              "years_experience            int64\n",
              "industry                   object\n",
              "posting_date               object\n",
              "application_deadline       object\n",
              "job_description_length      int64\n",
              "benefits_score            float64\n",
              "company_name               object\n",
              "dtype: object"
            ]
          },
          "execution_count": 4,
          "metadata": {},
          "output_type": "execute_result"
        }
      ],
      "source": [
        "df.dtypes"
      ]
    },
    {
      "cell_type": "markdown",
      "metadata": {
        "id": "3rRhvzDbrcSM"
      },
      "source": [
        "Usando a função `df.dtypes`, percebemos que as colunas `posting_date` e `application_deadline` não estavam no formato *date* conforme mencionado no Dicionário de Dados.\n",
        "\n",
        "Faremos o tratamento manualmente a seguir"
      ]
    },
    {
      "cell_type": "markdown",
      "metadata": {
        "id": "t4LaUUazbeyE"
      },
      "source": [
        "## 🔶Pré Tratamento dos Dados com POO\n",
        "\n",
        "Abaixo, faremos um pré tratamento nos dados, apenas para adequar os dados.\n",
        "\n",
        "Para isso, usaremos Orientação a Objetos.\n",
        "\n",
        "Criamos o arquivo `limpeza_dados.py` hospedado no *Github*.\n",
        "\n",
        "Nele Temos a Classe `LimpezaDados`, que possui o atributo *self.caminho_arquivo* necessário para rodar."
      ]
    },
    {
      "cell_type": "code",
      "execution_count": null,
      "metadata": {},
      "outputs": [
        {
          "name": "stderr",
          "output_type": "stream",
          "text": [
            "'wget' n�o � reconhecido como um comando interno\n",
            "ou externo, um programa oper�vel ou um arquivo em lotes.\n"
          ]
        },
        {
          "name": "stdout",
          "output_type": "stream",
          "text": [
            "✅ Arquivo carregado!\n",
            "Valores nulos tratados\n",
            "Duplicatas removidas\n",
            "Datas convertidas para datetime\n",
            "coluna 'experience_level' categorizado\n",
            "coluna 'experience_level' categorizado\n",
            "coluna 'employment_type' categorizado\n",
            "coluna 'company_size' categorizado\n",
            "🏁 Fim do processo! DataFrame disponível.\n"
          ]
        }
      ],
      "source": [
        "!wget -nc https://raw.githubusercontent.com/Cavalheiro93/mvp-data-analyst-global-ai-market/refs/heads/main/limpeza_dados.py\n",
        "from limpeza_dados import LimpezaDados\n",
        "import pandas as pd\n",
        "\n",
        "file_path_github = \"https://raw.githubusercontent.com/Cavalheiro93/mvp-data-analyst-global-ai-market/refs/heads/main/source/ai_job_dataset.csv\"\n",
        "\n",
        "df = LimpezaDados(caminho_arquivo=file_path_github).executar_pipeline()\n",
        "LimpezaDados(df)."
      ]
    },
    {
      "cell_type": "markdown",
      "metadata": {
        "id": "7_CJgR9rsLDE"
      },
      "source": [
        "### 🔸Colunas `posting_date` e `application_deadline` para formato *datetime64*\n",
        "\n",
        "Usamos a função do Pandas `pd.to_datetime` para converter de str → datetime"
      ]
    },
    {
      "cell_type": "code",
      "execution_count": null,
      "metadata": {
        "id": "1Zy4waPXpVjB"
      },
      "outputs": [],
      "source": [
        "df['posting_date'] = pd.to_datetime(df['posting_date'])\n",
        "df['application_deadline'] = pd.to_datetime(df['application_deadline'])"
      ]
    },
    {
      "cell_type": "markdown",
      "metadata": {
        "id": "1TqkmIQw8F5y"
      },
      "source": [
        "### 🔸Coluna `remote_ratio` para o formato *category* | Atualização dos Registros"
      ]
    },
    {
      "cell_type": "code",
      "execution_count": null,
      "metadata": {
        "id": "8s4ScCkW74j1"
      },
      "outputs": [],
      "source": [
        "# Substitui os valores e já converte para tipo categórico\n",
        "df['remote_ratio'] = df['remote_ratio'].map({\n",
        "    0: '1-On-site',\n",
        "    50: '2-Hybrid',\n",
        "    100: '3-Remote'\n",
        "}).astype('category')"
      ]
    },
    {
      "cell_type": "markdown",
      "metadata": {
        "id": "1eTgxSG7XpQj"
      },
      "source": [
        "### 🔸Coluna `experience_level` para o formato *category* | Atualização dos Registros"
      ]
    },
    {
      "cell_type": "code",
      "execution_count": null,
      "metadata": {
        "id": "dYnvELpdXvTB"
      },
      "outputs": [],
      "source": [
        "# Substitui os valores e já converte para tipo categórico\n",
        "df['experience_level'] = df['experience_level'].map({\n",
        "    'EN': '1- Entry-level',\n",
        "    'MI': '2-Mid-level',\n",
        "    'SE': '3-Senior',\n",
        "    'EX': '4-Executive'\n",
        "}).astype('category')"
      ]
    },
    {
      "cell_type": "markdown",
      "metadata": {
        "id": "JCMFSYqGlixE"
      },
      "source": [
        "### 🔸Coluna `employment_type` para o formato *category* | Atualização dos Registros"
      ]
    },
    {
      "cell_type": "code",
      "execution_count": null,
      "metadata": {
        "id": "oI3PSIYOZ3tl"
      },
      "outputs": [],
      "source": [
        "# Substitui os valores e já converte para tipo categórico\n",
        "df['employment_type'] = df['employment_type'].map({\n",
        "    'FT': 'Full-time',\n",
        "    'PT': 'Part-time',\n",
        "    'CT': 'Contract',\n",
        "    'FL': 'Freelance'\n",
        "}).astype('category')"
      ]
    },
    {
      "cell_type": "markdown",
      "metadata": {
        "id": "MsLmiL_4lxXp"
      },
      "source": [
        "### 🔸Coluna `company_size` para o formato *category* | Atualização dos Registros"
      ]
    },
    {
      "cell_type": "code",
      "execution_count": null,
      "metadata": {
        "id": "is8dgjoSaKfF"
      },
      "outputs": [],
      "source": [
        "# Substitui os valores e já converte para tipo categórico\n",
        "df['company_size'] = df['company_size'].map({\n",
        "    'S': '1-Small [<50]',\n",
        "    'M': '2-Medium [50-250]',\n",
        "    'L': '3-Large [>250]'\n",
        "}).astype('category')"
      ]
    },
    {
      "cell_type": "markdown",
      "metadata": {
        "id": "9sf4HZzvmDqC"
      },
      "source": [
        "Exibição do formato das Colunas"
      ]
    },
    {
      "cell_type": "code",
      "execution_count": null,
      "metadata": {
        "colab": {
          "base_uri": "https://localhost:8080/",
          "height": 272
        },
        "id": "2TWqiTxB8MJI",
        "outputId": "e23247b8-7332-4b54-84fd-dcae7e7cb247"
      },
      "outputs": [],
      "source": [
        "df[['posting_date', 'application_deadline', 'remote_ratio', 'experience_level', 'employment_type', 'company_size']].dtypes"
      ]
    },
    {
      "cell_type": "markdown",
      "metadata": {
        "id": "rNOU_v7NyJWa"
      },
      "source": [
        "---"
      ]
    },
    {
      "cell_type": "markdown",
      "metadata": {
        "id": "Jg9egY-Wtbq1"
      },
      "source": [
        "## 💠 Análise descritiva dos dados\n",
        "\n",
        "A seguir, usaremos a função `df.describe` para exibir informações descritivas de cada uma das colunas, sendo elas:\n",
        "- Contagem de registros\n",
        "- Valores Únicos\n",
        "- Média\n",
        "- Desvio padrão\n",
        "- Quartal\n",
        "- Minimo e Máximo\n",
        "- Valor mais frequente e contagem da frequência"
      ]
    },
    {
      "cell_type": "markdown",
      "metadata": {
        "id": "E7SLV4K_w3OI"
      },
      "source": [
        "### 🔹 Descritiva das colunas tipo Texto"
      ]
    },
    {
      "cell_type": "code",
      "execution_count": null,
      "metadata": {
        "colab": {
          "base_uri": "https://localhost:8080/",
          "height": 332
        },
        "id": "XB9VpAxcv3KR",
        "outputId": "ad84e907-240c-4ecc-f616-b0eeffe79180"
      },
      "outputs": [],
      "source": [
        "# Seleciona apenas as colunas do tipo string (object)\n",
        "df.select_dtypes(include='object').describe().transpose()"
      ]
    },
    {
      "cell_type": "markdown",
      "metadata": {
        "id": "QLvAtX_m2MjW"
      },
      "source": [
        "#### Resumo:\n",
        "- Não temos registros vazios para as colunas de tipo Texto\n",
        "- Como esperávamos, não demos `job_id` repetidos, garantindo que ele é uma chave primária\n",
        "- A área mais requisitada é a ***Machine Learning Researcher*** aparecendo no dataset ***808 vezes***\n",
        "- Embora apareça ***17 vezes no campo `required_skills`***, o resultado de ***Python, TensorFlow, PyTorch*** não diz muito se essas são as principais habilidades requisitadas, por conta das multiplas variaveis possíveis (13663). Para ter uma análise mais cuidadosa, precisaremos ver esse campo de uma outra forma"
      ]
    },
    {
      "cell_type": "markdown",
      "metadata": {
        "id": "Qc1RkuYMxHaZ"
      },
      "source": [
        "### 🔹 Descritiva das colunas tipo Número Inteiro"
      ]
    },
    {
      "cell_type": "code",
      "execution_count": null,
      "metadata": {
        "colab": {
          "base_uri": "https://localhost:8080/",
          "height": 143
        },
        "id": "eHR_6wZhswrm",
        "outputId": "1e6e3d9b-08b9-4fa3-e43a-6f1633aa5a4d"
      },
      "outputs": [],
      "source": [
        "# Seleciona apenas as colunas do tipo inteiro (int)\n",
        "df.select_dtypes(include='int').describe().transpose()"
      ]
    },
    {
      "cell_type": "markdown",
      "metadata": {
        "id": "OYV_ogqg6ZtA"
      },
      "source": [
        "#### Resumo:\n",
        "- Não temos registros vazios para as colunas de tipo Inteiro\n",
        "- O Salário anual varia entre 32k e 399k, com uma média aproximadamente de 115k.\n",
        "- O desvio padrão de 60k indica que há uma **alta dispersão** salarial entre as vagas disponíveis\n",
        "- A exigência para a maior parte das vagas está em 5 anos de experiência, porém ainda há vagas que não requerem experiência prévia (years_experience = 0)"
      ]
    },
    {
      "cell_type": "markdown",
      "metadata": {
        "id": "u5rPfWWDycq6"
      },
      "source": [
        "### 🔹 Descritiva das colunas tipo Número Decimal"
      ]
    },
    {
      "cell_type": "code",
      "execution_count": null,
      "metadata": {
        "colab": {
          "base_uri": "https://localhost:8080/",
          "height": 81
        },
        "id": "Y8rkAtzNuu33",
        "outputId": "4da370b4-51a9-4cbb-8240-322e62404256"
      },
      "outputs": [],
      "source": [
        "# Seleciona apenas as colunas do tipo decimais (float)\n",
        "df.select_dtypes(include='float').describe().transpose()"
      ]
    },
    {
      "cell_type": "markdown",
      "metadata": {
        "id": "YzdJ22BKq6Am"
      },
      "source": [
        "#### Resumo:\n",
        "- Não temos registros vazios para as colunas de tipo Decimais\n",
        "- Grande parte dos beneficios estão com o score de 7.5\n",
        "- O desvio padrão de 1.45 mostra que a maioria das avaliações está relativamente próxima da média"
      ]
    },
    {
      "cell_type": "markdown",
      "metadata": {
        "id": "AEC_lv-8yfVM"
      },
      "source": [
        "### 🔹 Descritiva das colunas tipo Data"
      ]
    },
    {
      "cell_type": "code",
      "execution_count": null,
      "metadata": {
        "colab": {
          "base_uri": "https://localhost:8080/",
          "height": 112
        },
        "id": "nkW8uKVRv0Gg",
        "outputId": "3d7b85cf-b790-4920-ee07-0625d1768ce1"
      },
      "outputs": [],
      "source": [
        "# Seleciona apenas as colunas do tipo data (datetime64)\n",
        "df.select_dtypes(include='datetime64').describe().transpose()"
      ]
    },
    {
      "cell_type": "markdown",
      "metadata": {
        "id": "Wg89NIp3PCIk"
      },
      "source": [
        "#### Resumo\n",
        "- Não temos registros vazios para as colunas de tipo Decimais\n",
        "- A data em que as vagas foram postadas vão de 01/01/2024 até 30/04/2025"
      ]
    },
    {
      "cell_type": "markdown",
      "metadata": {
        "id": "kYokPfB7bORV"
      },
      "source": [
        "### 🔹 Descritiva das colunas tipo Categoria"
      ]
    },
    {
      "cell_type": "code",
      "execution_count": null,
      "metadata": {
        "colab": {
          "base_uri": "https://localhost:8080/",
          "height": 175
        },
        "id": "zxD67z5j1yw-",
        "outputId": "6b2e36a6-6a38-43aa-f0e6-b231c4992f5b"
      },
      "outputs": [],
      "source": [
        "# Seleciona apenas as colunas do tipo Categoria (category)\n",
        "df.select_dtypes(include='category').describe().transpose()"
      ]
    },
    {
      "cell_type": "markdown",
      "metadata": {
        "id": "ONRrKARVPP4M"
      },
      "source": [
        "#### Resumo\n",
        "- Não temos registros vazios para as colunas de tipo Decimais\n",
        "- Embora a maior parte das vagas sejam presenciais (On-site), ainda temos maior parte delas sendo remota ou híbrida"
      ]
    },
    {
      "cell_type": "markdown",
      "metadata": {
        "id": "LWZNu02Jb-UE"
      },
      "source": [
        "## 💠 Análise Exploratória dos Dados\n",
        "Nessa etapa faremos uma análise mais detalhada dos dados. A ideia é aprofundar no dataset para tirar insights valiosos, e também definir o que usaremos e o que não usaremos de informação"
      ]
    },
    {
      "cell_type": "markdown",
      "metadata": {
        "id": "6zNYfJxGuypY"
      },
      "source": [
        "### 🔹 Mapa de Calor (Heatmap)\n",
        "A seguir, usaremos o mapa de calor (ou heatmap) para identificar as correlações entre as variáveis do tipo numéricas"
      ]
    },
    {
      "cell_type": "code",
      "execution_count": null,
      "metadata": {
        "colab": {
          "base_uri": "https://localhost:8080/",
          "height": 652
        },
        "id": "q1AkZ70veKSe",
        "outputId": "d17e29fa-37f5-4acc-d7f8-d5ac66d4d769"
      },
      "outputs": [],
      "source": [
        "import matplotlib.pyplot as plt\n",
        "import seaborn as sns\n",
        "\n",
        "# Seleciona apenas colunas numéricas\n",
        "df_numericas = df.select_dtypes(include=['int64', 'float64'])\n",
        "\n",
        "# Calcula a matriz de correlação\n",
        "matriz_corr = df_numericas.corr()\n",
        "\n",
        "# Define o tamanho da figura\n",
        "plt.figure(figsize=(10, 6))\n",
        "\n",
        "# Cria o heatmap com anotações\n",
        "sns.heatmap(matriz_corr, annot=True, cmap='coolwarm', fmt='.2f', linewidths=0.5)\n",
        "\n",
        "# Título\n",
        "plt.title('Mapa de Correlação entre Variáveis Numéricas')\n",
        "plt.xticks(rotation=45)\n",
        "plt.yticks(rotation=0)\n",
        "plt.show()"
      ]
    },
    {
      "cell_type": "markdown",
      "metadata": {
        "id": "eB-K252DuypY"
      },
      "source": [
        "Resumo:\n",
        "- Percebemos uma forte correlação entre Salário e Anos de Experiência, algo que já cogitávamos que fosse acontecer.\n",
        "- Entretanto, os benefícios não acompanham essa mesma correlação, por exemplo, Salários altos não quer dizer que os benefícios também serão melhores"
      ]
    },
    {
      "cell_type": "markdown",
      "metadata": {
        "id": "loTGXN_suypY"
      },
      "source": [
        "### 🔹 Gráfico de Dispersão (scatterplot)\n",
        "Já que identificamos a correlação entre Salário e Anos de experiência, vamos usar o gráfico de dispersão (ou scatterplot), para entender melhor essa distribuição"
      ]
    },
    {
      "cell_type": "code",
      "execution_count": null,
      "metadata": {
        "colab": {
          "base_uri": "https://localhost:8080/",
          "height": 565
        },
        "id": "vy3AqVEvfddQ",
        "outputId": "4634a8c4-77ff-4899-f5a6-004bd8235253"
      },
      "outputs": [],
      "source": [
        "import seaborn as sns\n",
        "import matplotlib.pyplot as plt\n",
        "\n",
        "plt.figure(figsize=(10, 6))\n",
        "sns.scatterplot(data=df, x='years_experience', y='salary_usd')\n",
        "plt.title('Salário vs. Experiência Profissional')\n",
        "plt.xlabel('Anos de Experiência')\n",
        "plt.ylabel('Salário (USD)')\n",
        "plt.show()"
      ]
    },
    {
      "cell_type": "markdown",
      "metadata": {
        "id": "HdEYrMIjuypZ"
      },
      "source": [
        "Resumo:\n",
        "- Analisando os dados bem por cima (sem entrar no detalhe de área de atuação), percebmos que antes dos 10 anos de experiência, os salários não passavam dos 250k de dólares anuais.\n",
        "- Somente a partir dos 10 anos que vemos os salários saltarem, chegando até os 400k anuais de dolares(embora seja um outlier)"
      ]
    },
    {
      "cell_type": "markdown",
      "metadata": {
        "id": "8UtpJ0cKuypZ"
      },
      "source": [
        "### 🔹 Gráfico de Caixa (boxplot)\n",
        "Já que identificamos a correlação entre Salário e Anos de experiência, vamos usar o gráfico de dispersão (ou scatterplot), para entender melhor essa distribuição"
      ]
    },
    {
      "cell_type": "code",
      "execution_count": null,
      "metadata": {},
      "outputs": [],
      "source": [
        "import seaborn as sns\n",
        "import matplotlib.pyplot as plt\n",
        "\n",
        "# Gráfico\n",
        "plt.figure(figsize=(10, 6))\n",
        "ax = sns.boxplot(data=df, x='experience_level', y='salary_usd')\n",
        "\n",
        "# Quartis por categoria\n",
        "quartis = df.groupby('experience_level')['salary_usd'].quantile([0.25, 0.5, 0.75]).unstack()\n",
        "\n",
        "# Adiciona as anotações no gráfico\n",
        "for i, (cat, row) in enumerate(quartis.iterrows()):\n",
        "    ax.text(i, row[0.25], f\"Q1: {row[0.25]:,.0f}\", color='red', ha='center', va='bottom', fontsize=8)\n",
        "    ax.text(i, row[0.5], f\"Q2: {row[0.5]:,.0f}\", color='white', ha='center', va='bottom', fontsize=8)\n",
        "    ax.text(i, row[0.75], f\"Q3: {row[0.75]:,.0f}\", color='blue', ha='center', va='bottom', fontsize=8)\n",
        "\n",
        "plt.title(\"Distribuição Salarial por Nível de Experiência\")\n",
        "plt.ylabel(\"Salário (USD)\")\n",
        "plt.show()\n"
      ]
    },
    {
      "cell_type": "markdown",
      "metadata": {},
      "source": [
        "Resumo:\n",
        "- Analisando o boxplot, percebe-se que nos níveis mais baixos de experiência, os salários são mais concentrados. No caso do Entry-level, por exemplo, a maioria dos salários anuais está entre aproximadamente 50.000 e 75.000 USD. Existem algumas exceções que chegam perto de 100.000 USD, mas valores acima disso são considerados outliers.\n",
        "\n",
        "- À medida que o nível de experiência aumenta, observamos uma expansão significativa do IQR, indicando maior variabilidade salarial. Esse padrão mostra que os salários ficam menos previsíveis e mais dependentes de fatores individuais como área de atuação, localização, e competências.\n",
        "\n",
        "- Percebe-se uma leve assimetria positiva na distribuição salarial, com a mediana mais próxima do primeiro quartil (Q1) do que do terceiro (Q3), indicando que os salários estão mais concentrados nas faixas inferiores, enquanto os valores mais altos são mais dispersos e geram outliers acima da média\n",
        "\n",
        "- No nível Executive, a variabilidade é claramente a maior de todas. A maior parte dos salários está entre 145.000 e 225.000 USD por ano, com uma mediana de aproximadamente 177.000 USD. Os bigodes superiores são mais longos, indicando que, mesmo sem considerar os outliers, os valores já se estendem bastante. Além disso, há uma concentração alta de outliers, com salários extrapolando os 225.000 USD e chegando próximo dos 400.000 USD anuais."
      ]
    },
    {
      "cell_type": "code",
      "execution_count": null,
      "metadata": {},
      "outputs": [],
      "source": [
        "import matplotlib.pyplot as plt\n",
        "import seaborn as sns\n",
        "import matplotlib.gridspec as gridspec\n",
        "from seaborn import color_palette\n",
        "\n",
        "\n",
        "# Lista de colunas categóricas (benefits_score será tratado separado)\n",
        "categorias = ['job_title', 'employment_type', 'company_location', \n",
        "              'company_size', 'employee_residence', \n",
        "              'remote_ratio', 'education_required', 'industry']\n",
        "\n",
        "viridis = color_palette(\"viridis\", len(categorias))\n",
        "\n",
        "# Configura a grade: 4 linhas (a última será só para benefits_score), 3 colunas\n",
        "fig = plt.figure(figsize=(18, 22))\n",
        "gs = gridspec.GridSpec(4, 3, figure=fig)\n",
        "gs.update(hspace=0.6)  # Espaçamento vertical\n",
        "\n",
        "# Loop para os primeiros 8 gráficos (3x3 menos o último espaço)\n",
        "for i, coluna in enumerate(categorias):\n",
        "    ax = fig.add_subplot(gs[i // 3, i % 3])\n",
        "    contagem = df[coluna].value_counts()\n",
        "    sns.barplot(x=contagem.values, y=contagem.index, color=viridis[i], ax=ax)\n",
        "    ax.set_title(f'Distribuição: {coluna}', fontsize=12)\n",
        "    ax.set_xlabel('Contagem')\n",
        "    ax.set_ylabel('')\n",
        "\n",
        "# Gráfico do benefits_score ocupando a linha inteira (linha 3, colunas 0 até 2)\n",
        "ax_big = fig.add_subplot(gs[3, :])  # Usa a linha inteira\n",
        "contagem_benefits = df['benefits_score'].value_counts()\n",
        "sns.barplot(x=contagem_benefits.index, y=contagem_benefits.values, color=viridis[i], ax=ax_big)\n",
        "ax_big.set_title('Distribuição: benefits_score', fontsize=14)\n",
        "ax_big.set_xlabel('Categoria')\n",
        "ax_big.set_ylabel('Contagem')\n",
        "ax_big.tick_params(axis='x', rotation=45)\n",
        "\n",
        "plt.tight_layout()\n",
        "plt.show()\n"
      ]
    },
    {
      "cell_type": "markdown",
      "metadata": {},
      "source": [
        "#### Resumo\n",
        "- Após a visualização consolidada de todos os gráficos de barras, a primeira impressão é de que os dados estão bem distribuídos entre as categorias.\n",
        "- Observamos uma boa variação entre os valores, sem a presença de categorias que dominam esmagadoramente os registros (ex: nenhuma com mais de 90% de ocorrência).\n",
        "\n",
        "- Isso nos dá segurança para análises comparativas futuras, já que as categorias têm representatividade suficiente e não sofrem com viés por baixa amostragem.\n",
        "\n",
        "- A única exceção foi a variável `benefits_score`, que apresentou um leve padrão de concentração nas pontas:\n",
        "\n",
        "    - Algumas empresas atribuíram nota mínima (5.0), enquanto outras marcaram nota máxima (10.0).\n",
        "\n",
        "    - Mesmo assim, a distribuição geral dos scores está relativamente próxima e equilibrada, sem grandes distorções."
      ]
    },
    {
      "cell_type": "code",
      "execution_count": null,
      "metadata": {},
      "outputs": [],
      "source": [
        "sns.boxplot(x='company_location', y='benefits_score', data=df, palette='pastel')\n",
        "plt.title('Distribuição de Benefits Score por company_location')\n",
        "plt.xlabel('Tamanho da Empresa')\n",
        "plt.ylabel('Benefits Score')\n",
        "plt.tick_params(axis='x', rotation=70)\n",
        "plt.show()"
      ]
    },
    {
      "cell_type": "markdown",
      "metadata": {},
      "source": [
        "Resumo: \n",
        "- Olhando por cima os benefícios oferecios por Localidade das empresas, nenhuma se destaca fortemente em relação as outras.\n",
        "- Há alguns outliers nas pontas (5.0 e 10.0), mas o padrão central gira entre 7 e 8.\n",
        "- Aparentemente, o país da empresa não é um fator determinante isolado para o nível de benefícios."
      ]
    },
    {
      "cell_type": "markdown",
      "metadata": {
        "id": "bfxycvQLRDMa"
      },
      "source": [
        "## 🔶Tratamento final dos Dados\n",
        "Nesse momento já temos uma certa noção do que iremos explorar nesse dataset. Podemos agora focar em fazer um \"pente fino\" nos dados, para deixá-lo pronto para análise final"
      ]
    },
    {
      "cell_type": "markdown",
      "metadata": {
        "id": "SHN6HbD-x6r2"
      },
      "source": [
        "### 🔸 Definição das Colunas do Dataset\n",
        "Faremos a exclusão de algumas colunas desse dataset, para mantê-lo mais limpo.\n",
        "Quais colunas serão excluídas:\n",
        "- `job_id` → Coluna apenas de id, não há necessidade de mantê-la\n",
        "- `salary_currency` → A coluna `salary_usd` já nos informa o salário convertido em Dolar anuais\n",
        "- `application_deadline` → Esse prazo não traz nenhuma informação relevante.\n",
        "- `job_description_length` → Essa coluna também não traz nenhuma informação que precisaremos\n",
        "- `company_name` → Não precisaremos dos nomes para as análises tambem"
      ]
    },
    {
      "cell_type": "code",
      "execution_count": null,
      "metadata": {
        "id": "j6Jsoz1TxHep"
      },
      "outputs": [],
      "source": [
        "df = df.drop(columns=['job_id', 'salary_currency', 'application_deadline', 'job_description_length', 'company_name'])"
      ]
    },
    {
      "cell_type": "code",
      "execution_count": null,
      "metadata": {
        "colab": {
          "base_uri": "https://localhost:8080/",
          "height": 739
        },
        "id": "Y2rrv4VhDikW",
        "outputId": "baeaf349-b81d-41d4-a687-aee45c1250d7"
      },
      "outputs": [],
      "source": [
        "df.head(5)"
      ]
    },
    {
      "cell_type": "markdown",
      "metadata": {},
      "source": [
        "### 🔸 Criação de um novo Dataframe baseado no required_skills"
      ]
    },
    {
      "cell_type": "code",
      "execution_count": null,
      "metadata": {},
      "outputs": [],
      "source": [
        "# Suponha que a coluna com o tipo de área se chame 'job_title' no DataFrame original\n",
        "df_skills = df[['job_title', 'required_skills_list']].explode('required_skills_list').copy()\n",
        "\n",
        "# Renomear a coluna para facilitar a leitura\n",
        "df_skills.rename(columns={'required_skills_list': 'required_skill'}, inplace=True)\n",
        "\n",
        "# Remover espaços em branco e padronizar a capitalização\n",
        "df_skills['required_skill'] = df_skills['required_skill'].str.strip().str.title()\n",
        "\n",
        "# Contar as ocorrências de cada habilidade por área\n",
        "df_skills = df_skills.groupby(['required_skill', 'job_title']).size().reset_index(name='qtd')\n",
        "\n",
        "df_skills.head()"
      ]
    },
    {
      "cell_type": "code",
      "execution_count": null,
      "metadata": {},
      "outputs": [],
      "source": [
        "# Criar df_skills com a coluna de área incluída\n",
        "df_skills = df[['job_title', 'required_skills_list']].explode('required_skills_list').copy()\n",
        "\n",
        "# Padronizar o nome da coluna\n",
        "df_skills.rename(columns={'required_skills_list': 'required_skill'}, inplace=True)\n",
        "\n",
        "# Limpar espaços e capitalizar\n",
        "df_skills['required_skill'] = df_skills['required_skill'].str.strip().str.title()\n"
      ]
    },
    {
      "cell_type": "code",
      "execution_count": null,
      "metadata": {},
      "outputs": [],
      "source": [
        "# Contar número de vezes que cada habilidade aparece em cada área\n",
        "df_count = df_skills.groupby(['job_title', 'required_skill']).size().reset_index(name='qtd')\n",
        "\n",
        "# Visualizar as primeiras linhas\n",
        "df_count.head()\n"
      ]
    },
    {
      "cell_type": "code",
      "execution_count": null,
      "metadata": {},
      "outputs": [],
      "source": [
        "import seaborn as sns\n",
        "import matplotlib.pyplot as plt\n",
        "import ipywidgets as widgets\n",
        "from IPython.display import display\n",
        "\n",
        "# Lista com áreas únicas ordenadas\n",
        "areas_disponiveis = sorted(df_skills['job_title'].unique())\n",
        "\n",
        "# Criar o seletor\n",
        "seletor_area = widgets.Dropdown(\n",
        "    options=areas_disponiveis,\n",
        "    description='Área:',\n",
        "    style={'description_width': 'initial'},\n",
        "    layout=widgets.Layout(width='50%')\n",
        ")\n",
        "\n",
        "# Função para plotar o gráfico com base na seleção\n",
        "def plotar_habilidades_por_area(area_selecionada):\n",
        "    df_area = df_count[df_count['job_title'] == area_selecionada]\n",
        "    df_top = df_area.nlargest(10, 'qtd')\n",
        "    \n",
        "    plt.figure(figsize=(10, 6))\n",
        "    sns.barplot(data=df_top, x='qtd', y='required_skill', palette='viridis')\n",
        "    plt.title(f'Top 10 Habilidades - {area_selecionada}')\n",
        "    plt.xlabel('Número de Vagas')\n",
        "    plt.ylabel('Habilidade')\n",
        "    plt.grid(axis='x', linestyle='--', alpha=0.5)\n",
        "    plt.tight_layout()\n",
        "    plt.show()\n",
        "\n",
        "# Conectar o seletor à função\n",
        "widgets.interact(plotar_habilidades_por_area, area_selecionada=seletor_area);\n"
      ]
    },
    {
      "cell_type": "code",
      "execution_count": null,
      "metadata": {},
      "outputs": [
        {
          "name": "stdout",
          "output_type": "stream",
          "text": [
            "📥 Lendo o arquivo...\n",
            "✅ Arquivo carregado!\n",
            "🧹 Tratando valores nulos...\n",
            "🧽 Removendo duplicatas...\n",
            "🏁 Fim do processo! DataFrame disponível.\n"
          ]
        }
      ],
      "source": [
        "\n"
      ]
    },
    {
      "cell_type": "code",
      "execution_count": null,
      "metadata": {},
      "outputs": [],
      "source": [
        "df_teste"
      ]
    },
    {
      "cell_type": "code",
      "execution_count": null,
      "metadata": {},
      "outputs": [],
      "source": []
    }
  ],
  "metadata": {
    "colab": {
      "include_colab_link": true,
      "provenance": [],
      "toc_visible": true
    },
    "kernelspec": {
      "display_name": "base",
      "language": "python",
      "name": "python3"
    },
    "language_info": {
      "codemirror_mode": {
        "name": "ipython",
        "version": 3
      },
      "file_extension": ".py",
      "mimetype": "text/x-python",
      "name": "python",
      "nbconvert_exporter": "python",
      "pygments_lexer": "ipython3",
      "version": "3.12.7"
    }
  },
  "nbformat": 4,
  "nbformat_minor": 0
}
