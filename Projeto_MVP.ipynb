{
  "cells": [
    {
      "cell_type": "markdown",
      "metadata": {
        "colab_type": "text",
        "id": "view-in-github"
      },
      "source": [
        "<a href=\"https://colab.research.google.com/github/Cavalheiro93/mvp-data-analyst-global-ai-market/blob/main/Projeto_MVP.ipynb\" target=\"_parent\"><img src=\"https://colab.research.google.com/assets/colab-badge.svg\" alt=\"Open In Colab\"/></a>"
      ]
    },
    {
      "cell_type": "markdown",
      "metadata": {
        "id": "EihY9Dx9lXP3"
      },
      "source": [
        "# Global AI Job Market & Salary Trends 2025\n",
        "\n",
        "AI Job Market Analysis Dataset 2025. Retrieved from Kaggle.com"
      ]
    },
    {
      "cell_type": "markdown",
      "metadata": {
        "id": "mQKp1v9ggGSO"
      },
      "source": [
        "## 💠Introdução e Definição do Problema\n",
        "\n",
        "Com o grande avanço da Inteligência Artificial, o mercado de trabalho tem passado por transformações significativas em escala global. Novas funções, cargos e áreas de atuação vêm surgindo rapidamente, acompanhadas por uma crescente demanda por profissionais qualificados em diversas especialidades da IA.\n",
        "\n",
        "Essa movimentação tem impulsionado contratações internacionais, promovendo a mobilidade de talentos e o trabalho remoto como tendência. Empresas de diferentes portes e regiões estão disputando profissionais capacitados, o que abre espaço para análises sobre desigualdade salarial, tendências de contratação e habilidades mais requisitadas.\n",
        "\n",
        "Este projeto tem como objetivo analisar as principais tendências do mercado global de trabalho na área de IA — e, se possível, fazer um recorte do cenário brasileiro. Serão investigadas questões como:\n",
        "- Quais áreas estão em maior crescimento?\n",
        "- Quais regiões estão contratando em maior escala?\n",
        "- Quais são as principais habilidades técnicas exigidas?\n",
        "- Como estão distribuídos os salários globalmente?\n",
        "\n",
        "A seguir então seguiremos com o nosso estudo, com o propósito de tentar responder todas essas questões com Análise de Dados e boas práticas.\n",
        "\n",
        "O Dataset pode ser encontrado no link abaixo:\n",
        "\n",
        "https://www.kaggle.com/datasets/bismasajjad/global-ai-job-market-and-salary-trends-2025\n",
        "\n",
        "---\n"
      ]
    },
    {
      "cell_type": "markdown",
      "metadata": {
        "id": "y-qcPgd3nUMl"
      },
      "source": [
        "## 💠 Dicionário de Dados - AI Job Dataset\n",
        "\n",
        "| Coluna                  | Descrição (PT-BR)                                                                 | Tipo     |\n",
        "|------------------------|------------------------------------------------------------------------------------|----------|\n",
        "| `job_id`               | Identificador único para cada vaga                                                | String   |\n",
        "| `job_title`            | Título padronizado do cargo                                                       | String   |\n",
        "| `salary_usd`           | Salário anual em dólares (USD)                                                    | Integer  |\n",
        "| `salary_currency`      | Moeda original do salário                                                         | String   |\n",
        "| `experience_level`     | Nível de experiência (EN = Júnior, MI = Pleno, SE = Sênior, EX = Executivo)       | String   |\n",
        "| `employment_type`      | Tipo de contratação (FT = Tempo Integral, PT = Meio Período, CT = Contrato, FL = Freelancer) | String |\n",
        "| `company_location`     | País onde está localizada a empresa                                               | String   |\n",
        "| `company_size`         | Porte da empresa (S = Pequena <50, M = Média 50-250, L = Grande >250)             | String   |\n",
        "| `employee_residence`   | País de residência do funcionário                                                 | String   |\n",
        "| `remote_ratio`         | Nível de trabalho remoto (0 = Presencial, 50 = Híbrido, 100 = Remoto Total)       | Integer  |\n",
        "| `required_skills`      | Top 5 habilidades exigidas (separadas por vírgula)                                | String   |\n",
        "| `education_required`   | Nível mínimo de escolaridade exigido                                              | String   |\n",
        "| `years_experience`     | Anos de experiência exigidos                                                      | Integer  |\n",
        "| `industry`             | Setor de atuação da empresa                                                       | String   |\n",
        "| `posting_date`         | Data em que a vaga foi publicada                                                  | Date     |\n",
        "| `application_deadline`| Prazo final para candidatura                                                      | Date     |\n",
        "| `job_description_length`| Quantidade de caracteres da descrição da vaga                                   | Integer  |\n",
        "| `benefits_score`       | Pontuação numérica do pacote de benefícios (1 a 10)                               | Float    |\n",
        "| `company_name`       | Nome da Empresa                               | String    |"
      ]
    },
    {
      "cell_type": "markdown",
      "metadata": {
        "id": "Ud-GKoBUjPW9"
      },
      "source": [
        "## 💠 Pré Análise de Dados\n",
        "\n",
        "Nesta etapa, realizaremos uma análise exploratória para entender a estrutura e a qualidade do dataset. Vamos verificar:\n",
        "\n",
        "- O formato e as dimensões da base\n",
        "- Tipos de variáveis\n",
        "- Presença de valores nulos ou discrepantes\n",
        "- Estatísticas descritivas das variáveis numéricas\n",
        "\n",
        "Essas informações serão essenciais para orientar os próximos passos do projeto.\n"
      ]
    },
    {
      "cell_type": "markdown",
      "metadata": {
        "id": "3vczUCPNif2L"
      },
      "source": [
        "### 🔹Importação das bibliotecas e Criação do Dataframe"
      ]
    },
    {
      "cell_type": "code",
      "execution_count": 1,
      "metadata": {
        "id": "HAOzBqSvVIxG"
      },
      "outputs": [],
      "source": [
        "import pandas as pd\n",
        "\n",
        "file_path_github = \"https://raw.githubusercontent.com/Cavalheiro93/mvp-data-analyst-global-ai-market/refs/heads/main/source/ai_job_dataset.csv\"\n",
        "\n",
        "df = pd.read_csv(file_path_github, sep=',', encoding='latin1')"
      ]
    },
    {
      "cell_type": "markdown",
      "metadata": {
        "id": "A32W1dbji81S"
      },
      "source": [
        "### 🔹Leitura das 5 primeiras linhas\n",
        "\n",
        "Visualizamos as 5 primeiras linhas para entender a estruturação do Dataset"
      ]
    },
    {
      "cell_type": "code",
      "execution_count": 2,
      "metadata": {
        "colab": {
          "base_uri": "https://localhost:8080/",
          "height": 382
        },
        "id": "ssq8RCIYVQa-",
        "outputId": "875f77dc-e02d-4f6e-f6a6-fc7685d1bfbc"
      },
      "outputs": [
        {
          "data": {
            "text/html": [
              "<div>\n",
              "<style scoped>\n",
              "    .dataframe tbody tr th:only-of-type {\n",
              "        vertical-align: middle;\n",
              "    }\n",
              "\n",
              "    .dataframe tbody tr th {\n",
              "        vertical-align: top;\n",
              "    }\n",
              "\n",
              "    .dataframe thead th {\n",
              "        text-align: right;\n",
              "    }\n",
              "</style>\n",
              "<table border=\"1\" class=\"dataframe\">\n",
              "  <thead>\n",
              "    <tr style=\"text-align: right;\">\n",
              "      <th></th>\n",
              "      <th>job_id</th>\n",
              "      <th>job_title</th>\n",
              "      <th>salary_usd</th>\n",
              "      <th>salary_currency</th>\n",
              "      <th>experience_level</th>\n",
              "      <th>employment_type</th>\n",
              "      <th>company_location</th>\n",
              "      <th>company_size</th>\n",
              "      <th>employee_residence</th>\n",
              "      <th>remote_ratio</th>\n",
              "      <th>required_skills</th>\n",
              "      <th>education_required</th>\n",
              "      <th>years_experience</th>\n",
              "      <th>industry</th>\n",
              "      <th>posting_date</th>\n",
              "      <th>application_deadline</th>\n",
              "      <th>job_description_length</th>\n",
              "      <th>benefits_score</th>\n",
              "      <th>company_name</th>\n",
              "    </tr>\n",
              "  </thead>\n",
              "  <tbody>\n",
              "    <tr>\n",
              "      <th>0</th>\n",
              "      <td>AI00001</td>\n",
              "      <td>AI Research Scientist</td>\n",
              "      <td>90376</td>\n",
              "      <td>USD</td>\n",
              "      <td>SE</td>\n",
              "      <td>CT</td>\n",
              "      <td>China</td>\n",
              "      <td>M</td>\n",
              "      <td>China</td>\n",
              "      <td>50</td>\n",
              "      <td>Tableau, PyTorch, Kubernetes, Linux, NLP</td>\n",
              "      <td>Bachelor</td>\n",
              "      <td>9</td>\n",
              "      <td>Automotive</td>\n",
              "      <td>2024-10-18</td>\n",
              "      <td>2024-11-07</td>\n",
              "      <td>1076</td>\n",
              "      <td>5.9</td>\n",
              "      <td>Smart Analytics</td>\n",
              "    </tr>\n",
              "    <tr>\n",
              "      <th>1</th>\n",
              "      <td>AI00002</td>\n",
              "      <td>AI Software Engineer</td>\n",
              "      <td>61895</td>\n",
              "      <td>USD</td>\n",
              "      <td>EN</td>\n",
              "      <td>CT</td>\n",
              "      <td>Canada</td>\n",
              "      <td>M</td>\n",
              "      <td>Ireland</td>\n",
              "      <td>100</td>\n",
              "      <td>Deep Learning, AWS, Mathematics, Python, Docker</td>\n",
              "      <td>Master</td>\n",
              "      <td>1</td>\n",
              "      <td>Media</td>\n",
              "      <td>2024-11-20</td>\n",
              "      <td>2025-01-11</td>\n",
              "      <td>1268</td>\n",
              "      <td>5.2</td>\n",
              "      <td>TechCorp Inc</td>\n",
              "    </tr>\n",
              "    <tr>\n",
              "      <th>2</th>\n",
              "      <td>AI00003</td>\n",
              "      <td>AI Specialist</td>\n",
              "      <td>152626</td>\n",
              "      <td>USD</td>\n",
              "      <td>MI</td>\n",
              "      <td>FL</td>\n",
              "      <td>Switzerland</td>\n",
              "      <td>L</td>\n",
              "      <td>South Korea</td>\n",
              "      <td>0</td>\n",
              "      <td>Kubernetes, Deep Learning, Java, Hadoop, NLP</td>\n",
              "      <td>Associate</td>\n",
              "      <td>2</td>\n",
              "      <td>Education</td>\n",
              "      <td>2025-03-18</td>\n",
              "      <td>2025-04-07</td>\n",
              "      <td>1974</td>\n",
              "      <td>9.4</td>\n",
              "      <td>Autonomous Tech</td>\n",
              "    </tr>\n",
              "    <tr>\n",
              "      <th>3</th>\n",
              "      <td>AI00004</td>\n",
              "      <td>NLP Engineer</td>\n",
              "      <td>80215</td>\n",
              "      <td>USD</td>\n",
              "      <td>SE</td>\n",
              "      <td>FL</td>\n",
              "      <td>India</td>\n",
              "      <td>M</td>\n",
              "      <td>India</td>\n",
              "      <td>50</td>\n",
              "      <td>Scala, SQL, Linux, Python</td>\n",
              "      <td>PhD</td>\n",
              "      <td>7</td>\n",
              "      <td>Consulting</td>\n",
              "      <td>2024-12-23</td>\n",
              "      <td>2025-02-24</td>\n",
              "      <td>1345</td>\n",
              "      <td>8.6</td>\n",
              "      <td>Future Systems</td>\n",
              "    </tr>\n",
              "    <tr>\n",
              "      <th>4</th>\n",
              "      <td>AI00005</td>\n",
              "      <td>AI Consultant</td>\n",
              "      <td>54624</td>\n",
              "      <td>EUR</td>\n",
              "      <td>EN</td>\n",
              "      <td>PT</td>\n",
              "      <td>France</td>\n",
              "      <td>S</td>\n",
              "      <td>Singapore</td>\n",
              "      <td>100</td>\n",
              "      <td>MLOps, Java, Tableau, Python</td>\n",
              "      <td>Master</td>\n",
              "      <td>0</td>\n",
              "      <td>Media</td>\n",
              "      <td>2025-04-15</td>\n",
              "      <td>2025-06-23</td>\n",
              "      <td>1989</td>\n",
              "      <td>6.6</td>\n",
              "      <td>Advanced Robotics</td>\n",
              "    </tr>\n",
              "  </tbody>\n",
              "</table>\n",
              "</div>"
            ],
            "text/plain": [
              "    job_id              job_title  salary_usd salary_currency  \\\n",
              "0  AI00001  AI Research Scientist       90376             USD   \n",
              "1  AI00002   AI Software Engineer       61895             USD   \n",
              "2  AI00003          AI Specialist      152626             USD   \n",
              "3  AI00004           NLP Engineer       80215             USD   \n",
              "4  AI00005          AI Consultant       54624             EUR   \n",
              "\n",
              "  experience_level employment_type company_location company_size  \\\n",
              "0               SE              CT            China            M   \n",
              "1               EN              CT           Canada            M   \n",
              "2               MI              FL      Switzerland            L   \n",
              "3               SE              FL            India            M   \n",
              "4               EN              PT           France            S   \n",
              "\n",
              "  employee_residence  remote_ratio  \\\n",
              "0              China            50   \n",
              "1            Ireland           100   \n",
              "2        South Korea             0   \n",
              "3              India            50   \n",
              "4          Singapore           100   \n",
              "\n",
              "                                   required_skills education_required  \\\n",
              "0         Tableau, PyTorch, Kubernetes, Linux, NLP           Bachelor   \n",
              "1  Deep Learning, AWS, Mathematics, Python, Docker             Master   \n",
              "2     Kubernetes, Deep Learning, Java, Hadoop, NLP          Associate   \n",
              "3                        Scala, SQL, Linux, Python                PhD   \n",
              "4                     MLOps, Java, Tableau, Python             Master   \n",
              "\n",
              "   years_experience    industry posting_date application_deadline  \\\n",
              "0                 9  Automotive   2024-10-18           2024-11-07   \n",
              "1                 1       Media   2024-11-20           2025-01-11   \n",
              "2                 2   Education   2025-03-18           2025-04-07   \n",
              "3                 7  Consulting   2024-12-23           2025-02-24   \n",
              "4                 0       Media   2025-04-15           2025-06-23   \n",
              "\n",
              "   job_description_length  benefits_score       company_name  \n",
              "0                    1076             5.9    Smart Analytics  \n",
              "1                    1268             5.2       TechCorp Inc  \n",
              "2                    1974             9.4    Autonomous Tech  \n",
              "3                    1345             8.6     Future Systems  \n",
              "4                    1989             6.6  Advanced Robotics  "
            ]
          },
          "execution_count": 2,
          "metadata": {},
          "output_type": "execute_result"
        }
      ],
      "source": [
        "df.head()"
      ]
    },
    {
      "cell_type": "markdown",
      "metadata": {
        "id": "gqDU8ofApq0a"
      },
      "source": [
        "### 🔹Análise dos Tipos de Dados"
      ]
    },
    {
      "cell_type": "code",
      "execution_count": 3,
      "metadata": {
        "colab": {
          "base_uri": "https://localhost:8080/",
          "height": 680
        },
        "id": "zsOBjOfher0L",
        "outputId": "adc73bda-b698-4110-9ef5-93ceb1cb2e6e"
      },
      "outputs": [
        {
          "data": {
            "text/plain": [
              "job_id                     object\n",
              "job_title                  object\n",
              "salary_usd                  int64\n",
              "salary_currency            object\n",
              "experience_level           object\n",
              "employment_type            object\n",
              "company_location           object\n",
              "company_size               object\n",
              "employee_residence         object\n",
              "remote_ratio                int64\n",
              "required_skills            object\n",
              "education_required         object\n",
              "years_experience            int64\n",
              "industry                   object\n",
              "posting_date               object\n",
              "application_deadline       object\n",
              "job_description_length      int64\n",
              "benefits_score            float64\n",
              "company_name               object\n",
              "dtype: object"
            ]
          },
          "execution_count": 3,
          "metadata": {},
          "output_type": "execute_result"
        }
      ],
      "source": [
        "df.dtypes"
      ]
    },
    {
      "cell_type": "markdown",
      "metadata": {
        "id": "3rRhvzDbrcSM"
      },
      "source": [
        "Usando a função `df.dtypes`, percebemos que as colunas `posting_date` e `application_deadline` não estavam no formato *date* conforme mencionado no Dicionário de Dados.\n",
        "\n",
        "Faremos o tratamento manualmente a seguir"
      ]
    },
    {
      "cell_type": "markdown",
      "metadata": {
        "id": "t4LaUUazbeyE"
      },
      "source": [
        "## 🔶Pré Tratamento dos Dados\n",
        "\n",
        "Abaixo, faremos um pequeno tratamento nos dados, para adequar os tipos de dados"
      ]
    },
    {
      "cell_type": "markdown",
      "metadata": {
        "id": "7_CJgR9rsLDE"
      },
      "source": [
        "### 🔸Colunas `posting_date` e `application_deadline` para formato *datetime64*\n",
        "\n",
        "Usamos a função do Pandas `pd.to_datetime` para converter de str → datetime"
      ]
    },
    {
      "cell_type": "code",
      "execution_count": 4,
      "metadata": {
        "id": "1Zy4waPXpVjB"
      },
      "outputs": [],
      "source": [
        "df['posting_date'] = pd.to_datetime(df['posting_date'])\n",
        "df['application_deadline'] = pd.to_datetime(df['application_deadline'])"
      ]
    },
    {
      "cell_type": "markdown",
      "metadata": {
        "id": "1TqkmIQw8F5y"
      },
      "source": [
        "### 🔸Coluna `remote_ratio` para o formato *category* | Atualização dos Registros"
      ]
    },
    {
      "cell_type": "code",
      "execution_count": 5,
      "metadata": {
        "id": "8s4ScCkW74j1"
      },
      "outputs": [],
      "source": [
        "# Substitui os valores e já converte para tipo categórico\n",
        "df['remote_ratio'] = df['remote_ratio'].map({\n",
        "    0: '1-On-site',\n",
        "    50: '2-Hybrid',\n",
        "    100: '3-Remote'\n",
        "}).astype('category')"
      ]
    },
    {
      "cell_type": "markdown",
      "metadata": {
        "id": "1eTgxSG7XpQj"
      },
      "source": [
        "### 🔸Coluna `experience_level` para o formato *category* | Atualização dos Registros"
      ]
    },
    {
      "cell_type": "code",
      "execution_count": 6,
      "metadata": {
        "id": "dYnvELpdXvTB"
      },
      "outputs": [],
      "source": [
        "# Substitui os valores e já converte para tipo categórico\n",
        "df['experience_level'] = df['experience_level'].map({\n",
        "    'EN': '1- Entry-level',\n",
        "    'MI': '2-Mid-level',\n",
        "    'SE': '3-Senior',\n",
        "    'EX': '4-Executive'\n",
        "}).astype('category')"
      ]
    },
    {
      "cell_type": "markdown",
      "metadata": {
        "id": "JCMFSYqGlixE"
      },
      "source": [
        "### 🔸Coluna `employment_type` para o formato *category* | Atualização dos Registros"
      ]
    },
    {
      "cell_type": "code",
      "execution_count": 7,
      "metadata": {
        "id": "oI3PSIYOZ3tl"
      },
      "outputs": [],
      "source": [
        "# Substitui os valores e já converte para tipo categórico\n",
        "df['employment_type'] = df['employment_type'].map({\n",
        "    'FT': 'Full-time',\n",
        "    'PT': 'Part-time',\n",
        "    'CT': 'Contract',\n",
        "    'FL': 'Freelance'\n",
        "}).astype('category')"
      ]
    },
    {
      "cell_type": "markdown",
      "metadata": {
        "id": "MsLmiL_4lxXp"
      },
      "source": [
        "### 🔸Coluna `company_size` para o formato *category* | Atualização dos Registros"
      ]
    },
    {
      "cell_type": "code",
      "execution_count": 8,
      "metadata": {
        "id": "is8dgjoSaKfF"
      },
      "outputs": [],
      "source": [
        "# Substitui os valores e já converte para tipo categórico\n",
        "df['company_size'] = df['company_size'].map({\n",
        "    'S': '1-Small [<50]',\n",
        "    'M': '2-Medium [50-250]',\n",
        "    'L': '3-Large [>250]'\n",
        "}).astype('category')"
      ]
    },
    {
      "cell_type": "markdown",
      "metadata": {
        "id": "9sf4HZzvmDqC"
      },
      "source": [
        "Exibição do formato das Colunas"
      ]
    },
    {
      "cell_type": "code",
      "execution_count": 9,
      "metadata": {
        "colab": {
          "base_uri": "https://localhost:8080/",
          "height": 272
        },
        "id": "2TWqiTxB8MJI",
        "outputId": "13565283-da78-428f-810e-86e8207cc1c8"
      },
      "outputs": [
        {
          "data": {
            "text/plain": [
              "posting_date            datetime64[ns]\n",
              "application_deadline    datetime64[ns]\n",
              "remote_ratio                  category\n",
              "experience_level              category\n",
              "employment_type               category\n",
              "company_size                  category\n",
              "dtype: object"
            ]
          },
          "execution_count": 9,
          "metadata": {},
          "output_type": "execute_result"
        }
      ],
      "source": [
        "df[['posting_date', 'application_deadline', 'remote_ratio', 'experience_level', 'employment_type', 'company_size']].dtypes"
      ]
    },
    {
      "cell_type": "markdown",
      "metadata": {
        "id": "rNOU_v7NyJWa"
      },
      "source": [
        "---"
      ]
    },
    {
      "cell_type": "markdown",
      "metadata": {
        "id": "Jg9egY-Wtbq1"
      },
      "source": [
        "## 💠 Análise descritiva dos dados\n",
        "\n",
        "A seguir, usaremos a função `df.describe` para exibir informações descritivas de cada uma das colunas, sendo elas:\n",
        "- Contagem de registros\n",
        "- Valores Únicos\n",
        "- Média\n",
        "- Desvio padrão\n",
        "- Quartal\n",
        "- Minimo e Máximo\n",
        "- Valor mais frequente e contagem da frequência"
      ]
    },
    {
      "cell_type": "markdown",
      "metadata": {
        "id": "E7SLV4K_w3OI"
      },
      "source": [
        "### 🔹 Descritiva das colunas tipo Texto"
      ]
    },
    {
      "cell_type": "code",
      "execution_count": 10,
      "metadata": {
        "colab": {
          "base_uri": "https://localhost:8080/",
          "height": 331
        },
        "id": "XB9VpAxcv3KR",
        "outputId": "14b4a3bf-46bf-49fe-e81a-9ab5f713302c"
      },
      "outputs": [
        {
          "data": {
            "text/html": [
              "<div>\n",
              "<style scoped>\n",
              "    .dataframe tbody tr th:only-of-type {\n",
              "        vertical-align: middle;\n",
              "    }\n",
              "\n",
              "    .dataframe tbody tr th {\n",
              "        vertical-align: top;\n",
              "    }\n",
              "\n",
              "    .dataframe thead th {\n",
              "        text-align: right;\n",
              "    }\n",
              "</style>\n",
              "<table border=\"1\" class=\"dataframe\">\n",
              "  <thead>\n",
              "    <tr style=\"text-align: right;\">\n",
              "      <th></th>\n",
              "      <th>count</th>\n",
              "      <th>unique</th>\n",
              "      <th>top</th>\n",
              "      <th>freq</th>\n",
              "    </tr>\n",
              "  </thead>\n",
              "  <tbody>\n",
              "    <tr>\n",
              "      <th>job_id</th>\n",
              "      <td>15000</td>\n",
              "      <td>15000</td>\n",
              "      <td>AI00001</td>\n",
              "      <td>1</td>\n",
              "    </tr>\n",
              "    <tr>\n",
              "      <th>job_title</th>\n",
              "      <td>15000</td>\n",
              "      <td>20</td>\n",
              "      <td>Machine Learning Researcher</td>\n",
              "      <td>808</td>\n",
              "    </tr>\n",
              "    <tr>\n",
              "      <th>salary_currency</th>\n",
              "      <td>15000</td>\n",
              "      <td>3</td>\n",
              "      <td>USD</td>\n",
              "      <td>11957</td>\n",
              "    </tr>\n",
              "    <tr>\n",
              "      <th>company_location</th>\n",
              "      <td>15000</td>\n",
              "      <td>20</td>\n",
              "      <td>Germany</td>\n",
              "      <td>814</td>\n",
              "    </tr>\n",
              "    <tr>\n",
              "      <th>employee_residence</th>\n",
              "      <td>15000</td>\n",
              "      <td>20</td>\n",
              "      <td>Sweden</td>\n",
              "      <td>790</td>\n",
              "    </tr>\n",
              "    <tr>\n",
              "      <th>required_skills</th>\n",
              "      <td>15000</td>\n",
              "      <td>13663</td>\n",
              "      <td>Python, TensorFlow, PyTorch</td>\n",
              "      <td>17</td>\n",
              "    </tr>\n",
              "    <tr>\n",
              "      <th>education_required</th>\n",
              "      <td>15000</td>\n",
              "      <td>4</td>\n",
              "      <td>Bachelor</td>\n",
              "      <td>3789</td>\n",
              "    </tr>\n",
              "    <tr>\n",
              "      <th>industry</th>\n",
              "      <td>15000</td>\n",
              "      <td>15</td>\n",
              "      <td>Retail</td>\n",
              "      <td>1063</td>\n",
              "    </tr>\n",
              "    <tr>\n",
              "      <th>company_name</th>\n",
              "      <td>15000</td>\n",
              "      <td>16</td>\n",
              "      <td>TechCorp Inc</td>\n",
              "      <td>980</td>\n",
              "    </tr>\n",
              "  </tbody>\n",
              "</table>\n",
              "</div>"
            ],
            "text/plain": [
              "                    count unique                          top   freq\n",
              "job_id              15000  15000                      AI00001      1\n",
              "job_title           15000     20  Machine Learning Researcher    808\n",
              "salary_currency     15000      3                          USD  11957\n",
              "company_location    15000     20                      Germany    814\n",
              "employee_residence  15000     20                       Sweden    790\n",
              "required_skills     15000  13663  Python, TensorFlow, PyTorch     17\n",
              "education_required  15000      4                     Bachelor   3789\n",
              "industry            15000     15                       Retail   1063\n",
              "company_name        15000     16                 TechCorp Inc    980"
            ]
          },
          "execution_count": 10,
          "metadata": {},
          "output_type": "execute_result"
        }
      ],
      "source": [
        "# Seleciona apenas as colunas do tipo string (object)\n",
        "df.select_dtypes(include='object').describe().transpose()"
      ]
    },
    {
      "cell_type": "markdown",
      "metadata": {
        "id": "QLvAtX_m2MjW"
      },
      "source": [
        "#### Resumo:\n",
        "- Não temos registros vazios para as colunas de tipo Texto\n",
        "- Como esperávamos, não demos `job_id` repetidos, garantindo que ele é uma chave primária\n",
        "- A área mais requisitada é a ***Machine Learning Researcher*** aparecendo no dataset ***808 vezes***\n",
        "- Embora apareça ***17 vezes no campo `required_skills`***, o resultado de ***Python, TensorFlow, PyTorch*** não diz muito se essas são as principais habilidades requisitadas, por conta das multiplas variaveis possíveis (13663). Para ter uma análise mais cuidadosa, precisaremos ver esse campo de uma outra forma"
      ]
    },
    {
      "cell_type": "markdown",
      "metadata": {
        "id": "Qc1RkuYMxHaZ"
      },
      "source": [
        "### 🔹 Descritiva das colunas tipo Número Inteiro"
      ]
    },
    {
      "cell_type": "code",
      "execution_count": 11,
      "metadata": {
        "colab": {
          "base_uri": "https://localhost:8080/",
          "height": 143
        },
        "id": "eHR_6wZhswrm",
        "outputId": "c0a400dc-5d7c-4b3c-ba72-7205ff5ab322"
      },
      "outputs": [
        {
          "data": {
            "text/html": [
              "<div>\n",
              "<style scoped>\n",
              "    .dataframe tbody tr th:only-of-type {\n",
              "        vertical-align: middle;\n",
              "    }\n",
              "\n",
              "    .dataframe tbody tr th {\n",
              "        vertical-align: top;\n",
              "    }\n",
              "\n",
              "    .dataframe thead th {\n",
              "        text-align: right;\n",
              "    }\n",
              "</style>\n",
              "<table border=\"1\" class=\"dataframe\">\n",
              "  <thead>\n",
              "    <tr style=\"text-align: right;\">\n",
              "      <th></th>\n",
              "      <th>count</th>\n",
              "      <th>mean</th>\n",
              "      <th>std</th>\n",
              "      <th>min</th>\n",
              "      <th>25%</th>\n",
              "      <th>50%</th>\n",
              "      <th>75%</th>\n",
              "      <th>max</th>\n",
              "    </tr>\n",
              "  </thead>\n",
              "  <tbody>\n",
              "    <tr>\n",
              "      <th>salary_usd</th>\n",
              "      <td>15000.0</td>\n",
              "      <td>115348.965133</td>\n",
              "      <td>60260.940438</td>\n",
              "      <td>32519.0</td>\n",
              "      <td>70179.75</td>\n",
              "      <td>99705.0</td>\n",
              "      <td>146408.5</td>\n",
              "      <td>399095.0</td>\n",
              "    </tr>\n",
              "    <tr>\n",
              "      <th>years_experience</th>\n",
              "      <td>15000.0</td>\n",
              "      <td>6.253200</td>\n",
              "      <td>5.545768</td>\n",
              "      <td>0.0</td>\n",
              "      <td>2.00</td>\n",
              "      <td>5.0</td>\n",
              "      <td>10.0</td>\n",
              "      <td>19.0</td>\n",
              "    </tr>\n",
              "    <tr>\n",
              "      <th>job_description_length</th>\n",
              "      <td>15000.0</td>\n",
              "      <td>1503.314733</td>\n",
              "      <td>576.127083</td>\n",
              "      <td>500.0</td>\n",
              "      <td>1003.75</td>\n",
              "      <td>1512.0</td>\n",
              "      <td>2000.0</td>\n",
              "      <td>2499.0</td>\n",
              "    </tr>\n",
              "  </tbody>\n",
              "</table>\n",
              "</div>"
            ],
            "text/plain": [
              "                          count           mean           std      min  \\\n",
              "salary_usd              15000.0  115348.965133  60260.940438  32519.0   \n",
              "years_experience        15000.0       6.253200      5.545768      0.0   \n",
              "job_description_length  15000.0    1503.314733    576.127083    500.0   \n",
              "\n",
              "                             25%      50%       75%       max  \n",
              "salary_usd              70179.75  99705.0  146408.5  399095.0  \n",
              "years_experience            2.00      5.0      10.0      19.0  \n",
              "job_description_length   1003.75   1512.0    2000.0    2499.0  "
            ]
          },
          "execution_count": 11,
          "metadata": {},
          "output_type": "execute_result"
        }
      ],
      "source": [
        "# Seleciona apenas as colunas do tipo inteiro (int)\n",
        "df.select_dtypes(include='int').describe().transpose()"
      ]
    },
    {
      "cell_type": "markdown",
      "metadata": {
        "id": "OYV_ogqg6ZtA"
      },
      "source": [
        "#### Resumo:\n",
        "- Não temos registros vazios para as colunas de tipo Inteiro\n",
        "- O Salário anual varia entre 32k e 399k, com uma média aproximadamente de 115k.\n",
        "- O desvio padrão de 60k indica que há uma **alta dispersão** salarial entre as vagas disponíveis\n",
        "- A exigência para a maior parte das vagas está em 5 anos de experiência, porém ainda há vagas que não requerem experiência prévia (years_experience = 0)"
      ]
    },
    {
      "cell_type": "markdown",
      "metadata": {
        "id": "u5rPfWWDycq6"
      },
      "source": [
        "### 🔹 Descritiva das colunas tipo Número Decimal"
      ]
    },
    {
      "cell_type": "code",
      "execution_count": 12,
      "metadata": {
        "colab": {
          "base_uri": "https://localhost:8080/",
          "height": 81
        },
        "id": "Y8rkAtzNuu33",
        "outputId": "c320c5f5-5a5d-485d-fb03-720064cca84d"
      },
      "outputs": [
        {
          "data": {
            "text/html": [
              "<div>\n",
              "<style scoped>\n",
              "    .dataframe tbody tr th:only-of-type {\n",
              "        vertical-align: middle;\n",
              "    }\n",
              "\n",
              "    .dataframe tbody tr th {\n",
              "        vertical-align: top;\n",
              "    }\n",
              "\n",
              "    .dataframe thead th {\n",
              "        text-align: right;\n",
              "    }\n",
              "</style>\n",
              "<table border=\"1\" class=\"dataframe\">\n",
              "  <thead>\n",
              "    <tr style=\"text-align: right;\">\n",
              "      <th></th>\n",
              "      <th>count</th>\n",
              "      <th>mean</th>\n",
              "      <th>std</th>\n",
              "      <th>min</th>\n",
              "      <th>25%</th>\n",
              "      <th>50%</th>\n",
              "      <th>75%</th>\n",
              "      <th>max</th>\n",
              "    </tr>\n",
              "  </thead>\n",
              "  <tbody>\n",
              "    <tr>\n",
              "      <th>benefits_score</th>\n",
              "      <td>15000.0</td>\n",
              "      <td>7.504273</td>\n",
              "      <td>1.45087</td>\n",
              "      <td>5.0</td>\n",
              "      <td>6.2</td>\n",
              "      <td>7.5</td>\n",
              "      <td>8.8</td>\n",
              "      <td>10.0</td>\n",
              "    </tr>\n",
              "  </tbody>\n",
              "</table>\n",
              "</div>"
            ],
            "text/plain": [
              "                  count      mean      std  min  25%  50%  75%   max\n",
              "benefits_score  15000.0  7.504273  1.45087  5.0  6.2  7.5  8.8  10.0"
            ]
          },
          "execution_count": 12,
          "metadata": {},
          "output_type": "execute_result"
        }
      ],
      "source": [
        "# Seleciona apenas as colunas do tipo decimais (float)\n",
        "df.select_dtypes(include='float').describe().transpose()"
      ]
    },
    {
      "cell_type": "markdown",
      "metadata": {
        "id": "YzdJ22BKq6Am"
      },
      "source": [
        "#### Resumo:\n",
        "- Não temos registros vazios para as colunas de tipo Decimais\n",
        "- Grande parte dos beneficios estão com o score de 7.5\n",
        "- O desvio padrão de 1.45 mostra que a maioria das avaliações está relativamente próxima da média"
      ]
    },
    {
      "cell_type": "markdown",
      "metadata": {
        "id": "AEC_lv-8yfVM"
      },
      "source": [
        "### 🔹 Descritiva das colunas tipo Data"
      ]
    },
    {
      "cell_type": "code",
      "execution_count": 13,
      "metadata": {
        "colab": {
          "base_uri": "https://localhost:8080/",
          "height": 112
        },
        "id": "nkW8uKVRv0Gg",
        "outputId": "77376113-e174-41c5-eae4-231d728fd366"
      },
      "outputs": [
        {
          "data": {
            "text/html": [
              "<div>\n",
              "<style scoped>\n",
              "    .dataframe tbody tr th:only-of-type {\n",
              "        vertical-align: middle;\n",
              "    }\n",
              "\n",
              "    .dataframe tbody tr th {\n",
              "        vertical-align: top;\n",
              "    }\n",
              "\n",
              "    .dataframe thead th {\n",
              "        text-align: right;\n",
              "    }\n",
              "</style>\n",
              "<table border=\"1\" class=\"dataframe\">\n",
              "  <thead>\n",
              "    <tr style=\"text-align: right;\">\n",
              "      <th></th>\n",
              "      <th>count</th>\n",
              "      <th>mean</th>\n",
              "      <th>min</th>\n",
              "      <th>25%</th>\n",
              "      <th>50%</th>\n",
              "      <th>75%</th>\n",
              "      <th>max</th>\n",
              "    </tr>\n",
              "  </thead>\n",
              "  <tbody>\n",
              "    <tr>\n",
              "      <th>posting_date</th>\n",
              "      <td>15000</td>\n",
              "      <td>2024-08-29 08:48:51.840000</td>\n",
              "      <td>2024-01-01 00:00:00</td>\n",
              "      <td>2024-04-29 00:00:00</td>\n",
              "      <td>2024-08-28 00:00:00</td>\n",
              "      <td>2024-12-29 00:00:00</td>\n",
              "      <td>2025-04-30 00:00:00</td>\n",
              "    </tr>\n",
              "    <tr>\n",
              "      <th>application_deadline</th>\n",
              "      <td>15000</td>\n",
              "      <td>2024-10-11 21:55:23.520000</td>\n",
              "      <td>2024-01-16 00:00:00</td>\n",
              "      <td>2024-06-13 00:00:00</td>\n",
              "      <td>2024-10-12 00:00:00</td>\n",
              "      <td>2025-02-10 00:00:00</td>\n",
              "      <td>2025-07-11 00:00:00</td>\n",
              "    </tr>\n",
              "  </tbody>\n",
              "</table>\n",
              "</div>"
            ],
            "text/plain": [
              "                      count                        mean                  min  \\\n",
              "posting_date          15000  2024-08-29 08:48:51.840000  2024-01-01 00:00:00   \n",
              "application_deadline  15000  2024-10-11 21:55:23.520000  2024-01-16 00:00:00   \n",
              "\n",
              "                                      25%                  50%  \\\n",
              "posting_date          2024-04-29 00:00:00  2024-08-28 00:00:00   \n",
              "application_deadline  2024-06-13 00:00:00  2024-10-12 00:00:00   \n",
              "\n",
              "                                      75%                  max  \n",
              "posting_date          2024-12-29 00:00:00  2025-04-30 00:00:00  \n",
              "application_deadline  2025-02-10 00:00:00  2025-07-11 00:00:00  "
            ]
          },
          "execution_count": 13,
          "metadata": {},
          "output_type": "execute_result"
        }
      ],
      "source": [
        "# Seleciona apenas as colunas do tipo data (datetime64)\n",
        "df.select_dtypes(include='datetime64').describe().transpose()"
      ]
    },
    {
      "cell_type": "markdown",
      "metadata": {
        "id": "Wg89NIp3PCIk"
      },
      "source": [
        "#### Resumo\n",
        "- Não temos registros vazios para as colunas de tipo Decimais\n",
        "- A data em que as vagas foram postadas vão de 01/01/2024 até 30/04/2025"
      ]
    },
    {
      "cell_type": "markdown",
      "metadata": {
        "id": "kYokPfB7bORV"
      },
      "source": [
        "### 🔹 Descritiva das colunas tipo Categoria"
      ]
    },
    {
      "cell_type": "code",
      "execution_count": 14,
      "metadata": {
        "colab": {
          "base_uri": "https://localhost:8080/",
          "height": 175
        },
        "id": "zxD67z5j1yw-",
        "outputId": "76df564e-c61b-4faa-c56e-acef7f0eb193"
      },
      "outputs": [
        {
          "data": {
            "text/html": [
              "<div>\n",
              "<style scoped>\n",
              "    .dataframe tbody tr th:only-of-type {\n",
              "        vertical-align: middle;\n",
              "    }\n",
              "\n",
              "    .dataframe tbody tr th {\n",
              "        vertical-align: top;\n",
              "    }\n",
              "\n",
              "    .dataframe thead th {\n",
              "        text-align: right;\n",
              "    }\n",
              "</style>\n",
              "<table border=\"1\" class=\"dataframe\">\n",
              "  <thead>\n",
              "    <tr style=\"text-align: right;\">\n",
              "      <th></th>\n",
              "      <th>count</th>\n",
              "      <th>unique</th>\n",
              "      <th>top</th>\n",
              "      <th>freq</th>\n",
              "    </tr>\n",
              "  </thead>\n",
              "  <tbody>\n",
              "    <tr>\n",
              "      <th>experience_level</th>\n",
              "      <td>15000</td>\n",
              "      <td>4</td>\n",
              "      <td>2-Mid-level</td>\n",
              "      <td>3781</td>\n",
              "    </tr>\n",
              "    <tr>\n",
              "      <th>employment_type</th>\n",
              "      <td>15000</td>\n",
              "      <td>4</td>\n",
              "      <td>Full-time</td>\n",
              "      <td>3812</td>\n",
              "    </tr>\n",
              "    <tr>\n",
              "      <th>company_size</th>\n",
              "      <td>15000</td>\n",
              "      <td>3</td>\n",
              "      <td>1-Small [&lt;50]</td>\n",
              "      <td>5007</td>\n",
              "    </tr>\n",
              "    <tr>\n",
              "      <th>remote_ratio</th>\n",
              "      <td>15000</td>\n",
              "      <td>3</td>\n",
              "      <td>1-On-site</td>\n",
              "      <td>5075</td>\n",
              "    </tr>\n",
              "  </tbody>\n",
              "</table>\n",
              "</div>"
            ],
            "text/plain": [
              "                  count unique            top  freq\n",
              "experience_level  15000      4    2-Mid-level  3781\n",
              "employment_type   15000      4      Full-time  3812\n",
              "company_size      15000      3  1-Small [<50]  5007\n",
              "remote_ratio      15000      3      1-On-site  5075"
            ]
          },
          "execution_count": 14,
          "metadata": {},
          "output_type": "execute_result"
        }
      ],
      "source": [
        "# Seleciona apenas as colunas do tipo Categoria (category)\n",
        "df.select_dtypes(include='category').describe().transpose()"
      ]
    },
    {
      "cell_type": "markdown",
      "metadata": {
        "id": "ONRrKARVPP4M"
      },
      "source": [
        "#### Resumo\n",
        "- Não temos registros vazios para as colunas de tipo Decimais\n",
        "- Embora a maior parte das vagas sejam presenciais (On-site), ainda temos maior parte delas sendo remota ou híbrida"
      ]
    },
    {
      "cell_type": "markdown",
      "metadata": {
        "id": "LWZNu02Jb-UE"
      },
      "source": [
        "## 💠 Análise Final dos Dados\n",
        "Nessa etapa faremos uma análise mais detalhada dos dados. A ideia é aprofundar no dataset para tirar insights valiosos, e também definir o que usaremos e o que não usaremos de informação"
      ]
    },
    {
      "cell_type": "code",
      "execution_count": null,
      "metadata": {
        "colab": {
          "base_uri": "https://localhost:8080/",
          "height": 687
        },
        "id": "q1AkZ70veKSe",
        "outputId": "50beb8d2-9cec-4651-bba1-d952252f67cb"
      },
      "outputs": [
        {
          "name": "stderr",
          "output_type": "stream",
          "text": [
            "c:\\Users\\caioc\\anaconda3\\Lib\\site-packages\\IPython\\core\\pylabtools.py:170: UserWarning: Glyph 128279 (\\N{LINK SYMBOL}) missing from font(s) DejaVu Sans.\n",
            "  fig.canvas.print_figure(bytes_io, **kw)\n"
          ]
        },
        {
          "data": {
            "image/png": "[encoded data removed]",
            "text/plain": [
              "<Figure size 1000x600 with 2 Axes>"
            ]
          },
          "metadata": {},
          "output_type": "display_data"
        }
      ],
      "source": [
        "import matplotlib.pyplot as plt\n",
        "import seaborn as sns\n",
        "\n",
        "# Seleciona apenas colunas numéricas\n",
        "df_numericas = df.select_dtypes(include=['int64', 'float64'])\n",
        "\n",
        "# Calcula a matriz de correlação\n",
        "matriz_corr = df_numericas.corr()\n",
        "\n",
        "# Define o tamanho da figura\n",
        "plt.figure(figsize=(10, 6))\n",
        "\n",
        "# Cria o heatmap com anotações\n",
        "sns.heatmap(matriz_corr, annot=True, cmap='coolwarm', fmt='.2f', linewidths=0.5)\n",
        "\n",
        "# Título\n",
        "plt.title('🔗 Mapa de Correlação entre Variáveis Numéricas')\n",
        "plt.xticks(rotation=45)\n",
        "plt.yticks(rotation=0)\n",
        "plt.show()"
      ]
    },
    {
      "cell_type": "code",
      "execution_count": null,
      "metadata": {
        "colab": {
          "base_uri": "https://localhost:8080/",
          "height": 600
        },
        "id": "vy3AqVEvfddQ",
        "outputId": "c8431156-77d1-407d-a4cc-b69ce4a97b0b"
      },
      "outputs": [
        {
          "name": "stderr",
          "output_type": "stream",
          "text": [
            "/usr/local/lib/python3.11/dist-packages/IPython/core/pylabtools.py:151: UserWarning: Glyph 128188 (\\N{BRIEFCASE}) missing from font(s) DejaVu Sans.\n",
            "  fig.canvas.print_figure(bytes_io, **kw)\n"
          ]
        },
        {
          "data": {
            "image/png": "[encoded data removed]",
            "text/plain": [
              "<Figure size 1000x600 with 1 Axes>"
            ]
          },
          "metadata": {},
          "output_type": "display_data"
        }
      ],
      "source": [
        "import seaborn as sns\n",
        "import matplotlib.pyplot as plt\n",
        "\n",
        "plt.figure(figsize=(10, 6))\n",
        "sns.scatterplot(data=df, x='years_experience', y='salary_usd')\n",
        "plt.title('💼 Salário vs. Experiência Profissional')\n",
        "plt.xlabel('Anos de Experiência')\n",
        "plt.ylabel('Salário (USD)')\n",
        "plt.show()"
      ]
    },
    {
      "cell_type": "code",
      "execution_count": null,
      "metadata": {
        "colab": {
          "base_uri": "https://localhost:8080/",
          "height": 467
        },
        "id": "h9k6vT50hV-9",
        "outputId": "b690a0c2-806e-4157-ee61-f39e38ec78e2"
      },
      "outputs": [
        {
          "data": {
            "text/plain": [
              "<Axes: xlabel='experience_level', ylabel='salary_usd'>"
            ]
          },
          "execution_count": 64,
          "metadata": {},
          "output_type": "execute_result"
        },
        {
          "data": {
            "image/png": "[encoded data removed]",
            "text/plain": [
              "<Figure size 640x480 with 1 Axes>"
            ]
          },
          "metadata": {},
          "output_type": "display_data"
        }
      ],
      "source": [
        "sns.boxplot(data=df, x='experience_level', y='salary_usd')"
      ]
    },
    {
      "cell_type": "markdown",
      "metadata": {
        "id": "bfxycvQLRDMa"
      },
      "source": [
        "## 🔷Tratamento final dos Dados"
      ]
    },
    {
      "cell_type": "markdown",
      "metadata": {},
      "source": [
        "## Teste Github Desktop, editor do VSCode"
      ]
    },
    {
      "cell_type": "markdown",
      "metadata": {},
      "source": []
    }
  ],
  "metadata": {
    "colab": {
      "authorship_tag": "ABX9TyP13ZCz0TwlKaKa2psDdvOA",
      "include_colab_link": true,
      "provenance": []
    },
    "kernelspec": {
      "display_name": "base",
      "language": "python",
      "name": "python3"
    },
    "language_info": {
      "codemirror_mode": {
        "name": "ipython",
        "version": 3
      },
      "file_extension": ".py",
      "mimetype": "text/x-python",
      "name": "python",
      "nbconvert_exporter": "python",
      "pygments_lexer": "ipython3",
      "version": "3.12.7"
    }
  },
  "nbformat": 4,
  "nbformat_minor": 0
}
